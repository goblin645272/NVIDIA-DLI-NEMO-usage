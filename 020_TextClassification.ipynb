{
 "cells": [
  {
   "cell_type": "markdown",
   "metadata": {},
   "source": [
    "<a href=\"https://www.nvidia.com/dli\"> <img src=\"images/DLI_Header.png\" alt=\"Header\" style=\"width: 400px;\"/> </a>"
   ]
  },
  {
   "cell_type": "markdown",
   "metadata": {},
   "source": [
    "# 2.0 Build a Text Classifier\n",
    "### (NVIDIA NeMo v1.0)\n",
    "\n",
    "<img style=\"float: right;\" src=\"images/nemo/nemo-app-stack.png\" width=400>\n",
    "\n",
    "In this notebook, you'll build an application to classify medical disease abstracts into one of three categories: cancer diseases, neurological diseases and disorders, and \"other\" for anything else.\n",
    "You'll use [NVIDIA NeMo](https://developer.nvidia.com/nvidia-nemo) (Neural Modules) to quickly set up the problem from the command line. \n",
    "\n",
    "**[2.1 NeMo Overview](#2.1-NeMo-Overview)**<br>\n",
    "&nbsp;&nbsp;&nbsp;&nbsp;[2.1.1 NeMo Models](#2.1.1-NeMo-Models)<br>\n",
    "**[2.2 Text Classification from the Command Line](#2.2-Text-Classification-from-the-Command-Line)**<br>\n",
    "&nbsp;&nbsp;&nbsp;&nbsp;[2.2.1 Prepare the Data](#2.2.1-Prepare-the-Data)<br>\n",
    "&nbsp;&nbsp;&nbsp;&nbsp;[2.2.2 Configuration File](#2.2.2-Configuration-File)<br>\n",
    "&nbsp;&nbsp;&nbsp;&nbsp;&nbsp;&nbsp;&nbsp;&nbsp;[2.2.2.1 OmegaConf Tool](#2.2.2.1-OmegaConf-Tool)<br>\n",
    "&nbsp;&nbsp;&nbsp;&nbsp;[2.2.3 Hydra-Enabled Python Script](#2.2.3-Hydra-Enabled-Python-Script)<br>\n",
    "&nbsp;&nbsp;&nbsp;&nbsp;[2.2.4 Exercise: Run an Experiment](#2.2.4-Exercise:-Run-an-Experiment)<br>\n",
    "&nbsp;&nbsp;&nbsp;&nbsp;[2.2.5 Visualize the Results with TensorBoard](#2.2.5-Visualize-the-Results-with-TensorBoard)<br>\n",
    "&nbsp;&nbsp;&nbsp;&nbsp;[2.2.6 Exercise: Change the Language Model (Optional!)](#2.2.6-Exercise:-Change-the-Language-Model-(Optional!))<br>\n",
    "**[2.3 PyTorch Lightning Model and Trainer Workflow](#2.3-PyTorch-Lightning-Model-and-Trainer-Workflow)**<br>\n",
    "&nbsp;&nbsp;&nbsp;&nbsp;[2.3.1 Script Key Features](#2.3.1-Script-Key-Features)<br>\n",
    "&nbsp;&nbsp;&nbsp;&nbsp;[2.3.2 Model Training from Scratch](#2.3.2-Model-Training-from-Scratch)<br>\n",
    "&nbsp;&nbsp;&nbsp;&nbsp;[2.3.3 Exercise: Query the Model](#2.3.3-Exercise:-Query-the-Model)<br>\n"
   ]
  },
  {
   "cell_type": "markdown",
   "metadata": {},
   "source": [
    "---\n",
    "# 2.1 NeMo Overview\n",
    "NeMo is an open source toolkit for building conversational AI applications. NeMo is built around [Neural Modules](https://docs.nvidia.com/deeplearning/nemo/user-guide/docs/en/v1.0.2/core/core.html#neural-modules), conceptual blocks of neural networks that take typed inputs and produce typed outputs. Such modules typically represent data layers, encoders, decoders, language models, loss functions, or methods of combining activations. NeMo makes it easy to combine and re-use these building blocks while providing a level of semantic correctness checking via its neural type system.\n",
    "\n",
    "The NeMo deep learning framework is based on [Pytorch Lightning](https://github.com/PyTorchLightning/pytorch-lightning), a PyTorch wrapper that organizes PyTorch code for neural network training.  PyTorch Lightning provides easy and high-performant multi-GPU/multi-node mixed precision training options. Creating a deep neural network project, or **experiment**, with PyTorch Lightning requires two main components:\n",
    "1. [LightningModule](https://pytorch-lightning.readthedocs.io/en/stable/common/lightning_module.html)\n",
    "2. [Trainer](https://pytorch-lightning.readthedocs.io/en/stable/common/trainer.html)\n",
    "\n",
    "The _LightningModule_ is used to organize PyTorch code into computation, optimizers, and loops for training, validation, and test.  This abstraction makes deep learning experiments easier to understand and reproduce. \n",
    "\n",
    "The _Trainer_ is then able to take the LightningModule and automate everything needed for deep learning training."
   ]
  },
  {
   "cell_type": "markdown",
   "metadata": {},
   "source": [
    "## 2.1.1 NeMo Models\n",
    "\n",
    "[NeMo models](https://docs.nvidia.com/deeplearning/nemo/user-guide/docs/en/v1.0.2/core/core.html) are LightningModules that come equipped with all supporting infrastructure for training and reproducibility. This includes the deep learning model architecture, data preprocessing, optimizer, checkpoints, and experiment logging. NeMo models, like LightningModules, are also PyTorch modules and are fully compatible with the broader PyTorch ecosystem. Any NeMo model can be taken and plugged into any PyTorch workflow.  \n",
    "\n",
    "**Every NeMo model has an example configuration file and training script that can be found in the [NVIDIA NeMo GitHub Repo](https://github.com/NVIDIA/NeMo/tree/main/examples).**\n",
    "\n",
    "For this class, we'll use a local repo copy included in this environment, based on the downloadable [NGC NeMo container](https://ngc.nvidia.com/catalog/containers/nvidia:nemo), and focus on NLP models.  Execute the following cell to see a tree of NeMo models in the `examples/nlp` directory."
   ]
  },
  {
   "cell_type": "code",
   "execution_count": 3,
   "metadata": {
    "tags": []
   },
   "outputs": [
    {
     "name": "stdout",
     "output_type": "stream",
     "text": [
      "\u001b[01;34mnemo/examples/nlp\u001b[00m\n",
      "├── \u001b[01;34mdialogue_state_tracking\u001b[00m\n",
      "│   ├── \u001b[01;34mconf\u001b[00m\n",
      "│   └── sgd_qa.py\n",
      "├── \u001b[01;34mentity_linking\u001b[00m\n",
      "│   ├── build_index.py\n",
      "│   ├── \u001b[01;34mconf\u001b[00m\n",
      "│   ├── \u001b[01;34mdata\u001b[00m\n",
      "│   ├── query_index.py\n",
      "│   └── self_alignment_pretraining.py\n",
      "├── \u001b[01;34mglue_benchmark\u001b[00m\n",
      "│   ├── glue_benchmark.py\n",
      "│   └── glue_benchmark_config.yaml\n",
      "├── \u001b[01;34minformation_retrieval\u001b[00m\n",
      "│   ├── bert_dpr.py\n",
      "│   ├── bert_joint_ir.py\n",
      "│   ├── \u001b[01;34mconf\u001b[00m\n",
      "│   ├── construct_random_negatives.py\n",
      "│   └── get_msmarco.sh\n",
      "├── \u001b[01;34mintent_slot_classification\u001b[00m\n",
      "│   ├── \u001b[01;34mconf\u001b[00m\n",
      "│   ├── \u001b[01;34mdata\u001b[00m\n",
      "│   └── intent_slot_classification.py\n",
      "├── \u001b[01;34mlanguage_modeling\u001b[00m\n",
      "│   ├── bert_pretraining.py\n",
      "│   ├── \u001b[01;34mconf\u001b[00m\n",
      "│   ├── convert_weights_to_nemo1.0.py\n",
      "│   ├── get_wkt2.sh\n",
      "│   └── transformer_lm.py\n",
      "├── \u001b[01;34mmachine_translation\u001b[00m\n",
      "│   ├── \u001b[01;34mconf\u001b[00m\n",
      "│   ├── create_tarred_monolingual_dataset.py\n",
      "│   ├── create_tarred_parallel_dataset.py\n",
      "│   ├── enc_dec_nmt.py\n",
      "│   ├── nmt_transformer_infer.py\n",
      "│   ├── \u001b[01;34mnmt_webapp\u001b[00m\n",
      "│   ├── preprocess_dataset.py\n",
      "│   └── translate_ddp.py\n",
      "├── \u001b[01;34mquestion_answering\u001b[00m\n",
      "│   ├── \u001b[01;34mconf\u001b[00m\n",
      "│   ├── \u001b[01;32mget_squad.py\u001b[00m\n",
      "│   └── question_answering_squad.py\n",
      "├── \u001b[01;34mtext2sparql\u001b[00m\n",
      "│   ├── \u001b[01;34mconf\u001b[00m\n",
      "│   ├── \u001b[01;34mdata\u001b[00m\n",
      "│   ├── evaluate_text2sparql.py\n",
      "│   └── text2sparql.py\n",
      "├── \u001b[01;34mtext_classification\u001b[00m\n",
      "│   ├── \u001b[01;34mconf\u001b[00m\n",
      "│   ├── \u001b[01;34mdata\u001b[00m\n",
      "│   ├── model_parallel_text_classification_evaluation.py\n",
      "│   └── text_classification_with_bert.py\n",
      "└── \u001b[01;34mtoken_classification\u001b[00m\n",
      "    ├── \u001b[01;34mconf\u001b[00m\n",
      "    ├── \u001b[01;34mdata\u001b[00m\n",
      "    ├── punctuation_capitalization_evaluate.py\n",
      "    ├── punctuation_capitalization_train.py\n",
      "    ├── token_classification_evaluate.py\n",
      "    └── token_classification_train.py\n",
      "\n",
      "27 directories, 31 files\n"
     ]
    }
   ],
   "source": [
    "!tree nemo/examples/nlp -L 2"
   ]
  },
  {
   "cell_type": "markdown",
   "metadata": {},
   "source": [
    "There are a number of models listed covering several classic NLP tasks.  We will focus on [text classification](https://docs.nvidia.com/deeplearning/nemo/user-guide/docs/en/stable/nlp/text_classification.html) in this notebook and [token classification](https://docs.nvidia.com/deeplearning/nemo/user-guide/docs/en/stable/nlp/token_classification.html) in the next notebook on named entity recognition (NER). \n",
    "\n",
    "Notice that each NeMo model type includes a `conf` folder for configuration files and at least one Python training script file.  \n",
    "\n",
    "Execute the following cell to see more detail for the text classification model:"
   ]
  },
  {
   "cell_type": "code",
   "execution_count": 4,
   "metadata": {},
   "outputs": [
    {
     "name": "stdout",
     "output_type": "stream",
     "text": [
      "\u001b[01;34m/dli/task/nemo/examples/nlp/text_classification\u001b[00m\n",
      "├── \u001b[01;34mconf\u001b[00m\n",
      "│   └── text_classification_config.yaml\n",
      "├── \u001b[01;34mdata\u001b[00m\n",
      "│   └── import_datasets.py\n",
      "├── model_parallel_text_classification_evaluation.py\n",
      "└── text_classification_with_bert.py\n",
      "\n",
      "2 directories, 4 files\n"
     ]
    }
   ],
   "source": [
    "TC_DIR = \"/dli/task/nemo/examples/nlp/text_classification\"\n",
    "!tree $TC_DIR"
   ]
  },
  {
   "cell_type": "markdown",
   "metadata": {},
   "source": [
    "The config file, `text_classification_config.yaml`, specifies model, training, and experiment management details, such as file locations, pretrained models, and hyperparameters.\n",
    "\n",
    "The Python script, `text_classification_with_bert.py`, encapsulates everything you need to run a text classification experiment defined by the configuration file.  It employs Facebook's [Hydra](https://hydra.cc/) tool for configuration management, which allows you to run the entire experiment just with the script, using command line options to override the config values!\n",
    "\n",
    "The key to building an experiment quickly, is to  understand what the default config file includes, and what needs to be changed for your own project."
   ]
  },
  {
   "cell_type": "markdown",
   "metadata": {},
   "source": [
    "---\n",
    "# 2.2 Text Classification from the Command Line\n",
    "The question we want to answer is: \n",
    "\n",
    "**Given a medical disease abstract, is the abstract about cancer, a neurological disorder, or something else?**\n",
    "\n",
    "This is a 3-class text classification problem.  We'll use the NeMo [text classification model](https://docs.nvidia.com/deeplearning/nemo/user-guide/docs/en/stable/nlp/text_classification.html) with three classes (labels): \"cancer\" (0), \"neurological disorders\" (1), and \"other\" (2).  "
   ]
  },
  {
   "cell_type": "markdown",
   "metadata": {},
   "source": [
    "## 2.2.1 Prepare the Data\n",
    "You've already explored the [NCBI-disease corpus](https://www.ncbi.nlm.nih.gov/CBBresearch/Dogan/DISEASE/) and the text classification dataset derived from it in the [Explore the Data](010_ExploreData.ipynb) notebook.  Recall that the text classification files consist of tab-delimited abstracts and labels, with a row of headers."
   ]
  },
  {
   "cell_type": "code",
   "execution_count": 5,
   "metadata": {},
   "outputs": [
    {
     "name": "stdout",
     "output_type": "stream",
     "text": [
      "/dli/task/data/NCBI_tc-3/dev.tsv\n",
      "/dli/task/data/NCBI_tc-3/dev_nemo_format.tsv\n",
      "/dli/task/data/NCBI_tc-3/test.tsv\n",
      "/dli/task/data/NCBI_tc-3/test_nemo_format.tsv\n",
      "/dli/task/data/NCBI_tc-3/train.tsv\n",
      "/dli/task/data/NCBI_tc-3/train_nemo_format.tsv\n"
     ]
    }
   ],
   "source": [
    "TC3_DATA_DIR = '/dli/task/data/NCBI_tc-3'\n",
    "!ls $TC3_DATA_DIR/*.tsv"
   ]
  },
  {
   "cell_type": "code",
   "execution_count": 6,
   "metadata": {
    "scrolled": true,
    "tags": []
   },
   "outputs": [
    {
     "name": "stdout",
     "output_type": "stream",
     "text": [
      "*****\n",
      "train.tsv sample\n",
      "*****\n",
      "sentence\tlabel\n",
      "Identification of APC2, a homologue of the adenomatous polyposis coli tumour suppressor . The adenomatous polyposis coli ( APC ) tumour-suppressor protein controls the Wnt signalling pathway by forming a complex with glycogen synthase kinase 3beta ( GSK-3beta ) , axin / conductin and betacatenin . Complex formation induces the rapid degradation of betacatenin . In colon carcinoma cells , loss of APC leads to the accumulation of betacatenin in the nucleus , where it binds to and activates the Tcf-4 transcription factor ( reviewed in [ 1 ] [ 2 ] ) . Here , we report the identification and genomic structure of APC homologues . Mammalian APC2 , which closely resembles APC in overall domain structure , was functionally analyzed and shown to contain two SAMP domains , both of which are required for binding to conductin . Like APC , APC2 regulates the formation of active betacatenin-Tcf complexes , as demonstrated using transient transcriptional activation assays in APC - / - colon carcinoma cells . Human APC2 maps to chromosome 19p13 . 3 . APC and APC2 may therefore have comparable functions in development and cancer .\t0\n",
      "A common MSH2 mutation in English and North American HNPCC families: origin, phenotypic expression, and sex specific differences in colorectal cancer . The frequency , origin , and phenotypic expression of a germline MSH2 gene mutation previously identified in seven kindreds with hereditary non-polyposis cancer syndrome (HNPCC) was investigated . The mutation ( A-- > T at nt943 + 3 ) disrupts the 3 splice site of exon 5 leading to the deletion of this exon from MSH2 mRNA and represents the only frequent MSH2 mutation so far reported . Although this mutation was initially detected in four of 33 colorectal cancer families analysed from eastern England , more extensive analysis has reduced the frequency to four of 52 ( 8 % ) English HNPCC kindreds analysed . In contrast , the MSH2 mutation was identified in 10 of 20 ( 50 % ) separately identified colorectal families from Newfoundland . To investigate the origin of this mutation in colorectal cancer families from England ( n = 4 ) , Newfoundland ( n = 10 ) , and the United States ( n = 3 ) , haplotype analysis using microsatellite markers linked to MSH2 was performed . Within the English and US families there was little evidence for a recent common origin of the MSH2 splice site mutation in most families . In contrast , a common haplotype was identified at the two flanking markers ( CA5 and D2S288 ) in eight of the Newfoundland families . These findings suggested a founder effect within Newfoundland similar to that reported by others for two MLH1 mutations in Finnish HNPCC families . We calculated age related risks of all , colorectal , endometrial , and ovarian cancers in nt943 + 3 A-- > T MSH2 mutation carriers ( n = 76 ) for all patients and for men and women separately . For both sexes combined , the penetrances at age 60 years for all cancers  and for colorectal cancer were 0 . 86 and 0 . 57 , respectively . The risk of colorectal cancer was significantly higher ( p < 0 . 01 ) in males than females ( 0 . 63 v 0 . 30 and 0 . 84 v 0 . 44 at ages 50 and 60 years , respectively ) . For females there was a high risk of endometrial cancer ( 0 . 5 at age 60 years ) and premenopausal ovarian cancer ( 0 . 2 at 50 years ) . These intersex differences in colorectal cancer risks have implications for screening programmes and for attempts to identify colorectal cancer susceptibility modifiers .\t0\n",
      "\n",
      "\n",
      "*****\n",
      "dev.tsv sample\n",
      "*****\n",
      "sentence\tlabel\n",
      "BRCA1 is secreted and exhibits properties of a granin. Germline mutations in BRCA1 are responsible for most cases of inherited breast and ovarian cancer . However , the function of the BRCA1 protein has remained elusive . We now show that BRCA1 encodes a 190-kD protein with sequence homology and biochemical analogy to the granin protein family . Interestingly , BRCA2 also includes a motif similar to the granin consensus at the C terminus of the protein . Both BRCA1 and the granins localize to secretory vesicles , are secreted by a regulated pathway , are post-translationally glycosylated and are responsive to hormones . As a regulated secretory protein , BRCA1 appears to function by a mechanism not previously described for tumour suppressor gene products . . \t0\n",
      "Ovarian cancer risk in BRCA1 carriers is modified by the HRAS1 variable number of tandem repeat (VNTR) locus. Women who carry a mutation in the BRCA1 gene ( on chromosome 17q21 ) , have an 80 % risk of breast cancer and a 40 % risk of ovarian cancer by the age of 70 ( ref . 1 ) . The variable penetrance of BRCA1 suggests that other genetic and non-genetic factors play a role in tumourigenesis in these individuals . The HRAS1 variable number of tandem repeats ( VNTR ) polymorphism , located 1 kilobase ( kb ) downstream of the HRAS1 proto-oncogene ( chromosome 11p15 . 5 ) is one possible genetic modifier of cancer penetrance . Individuals who have rare alleles of the VNTR have an increased risk of certain types of cancers , including breast cancer ( 2-4 ) . To investigate whether the presence of rare HRAS1 alleles increases susceptibility to hereditary breast and ovarian cancer , we have typed a panel of 307 female BRCA1 carriers at this locus using a PCR-based technique . The risk for ovarian cancer was 2 . 11 times greater for BRCA1 carriers harbouring one or two rare HRAS1 alleles , compared to carriers with only common alleles ( P = 0 . 015 ) . The magnitude of the relative risk associated with a rare HRAS1 allele was not altered by adjusting for the other known risk factors for hereditary ovarian cancer ( 5 ) . Susceptibility to breast cancer did not appear to be affected by the presence of rare HRAS1 alleles . This study is the first to show the effect of a modifying gene on the penetrance of an inherited cancer syndrome \t0\n",
      "\n",
      "\n",
      "*****\n",
      "test.tsv sample\n",
      "*****\n",
      "sentence\tlabel\n",
      "Clustering of missense mutations in the ataxia-telangiectasia gene in a sporadic T-cell leukaemia. Ataxia-telangiectasia ( A-T ) is a recessive multi-system disorder caused by mutations in the ATM gene at 11q22-q23 ( ref . 3 ) . The risk of cancer , especially lymphoid neoplasias , is substantially elevated in A-T patients and has long been associated with chromosomal instability . By analysing tumour DNA from patients with sporadic T-cell prolymphocytic leukaemia ( T-PLL ) , a rare clonal malignancy with similarities to a mature T-cell leukaemia seen in A-T , we demonstrate a high frequency of ATM mutations in T-PLL . In marked contrast to the ATM mutation pattern in A-T , the most frequent nucleotide changes in this leukaemia were missense mutations . These clustered in the region corresponding to the kinase domain , which is highly conserved in ATM-related proteins in mouse , yeast and Drosophila . The resulting amino-acid substitutions are predicted to interfere with ATP binding or substrate recognition . Two of seventeen mutated T-PLL samples had a previously reported A-T allele . In contrast , no mutations were detected in the p53 gene , suggesting that this tumour suppressor is not frequently altered in this leukaemia . Occasional missense mutations in ATM were also found in tumour DNA from patients with B-cell non-Hodgkins lymphomas ( B-NHL ) and a B-NHL cell line . The evidence of a significant proportion of loss-of-function mutations and a complete absence of the normal copy of ATM in the majority of mutated tumours establishes somatic inactivation of this gene in the pathogenesis of sporadic T-PLL and suggests that ATM acts as a tumour suppressor . As constitutional DNA was not available , a putative hereditary predisposition to T-PLL will require further investigation . . \t0\n",
      "Myotonic dystrophy protein kinase is involved in the modulation of the Ca2+ homeostasis in skeletal muscle cells. Myotonic dystrophy ( DM ) , the most prevalent muscular disorder in adults , is caused by ( CTG ) n-repeat expansion in a gene encoding a protein kinase ( DM protein kinase ; DMPK ) and involves changes in cytoarchitecture and ion homeostasis . To obtain clues to the normal biological role of DMPK in cellular ion homeostasis , we have compared the resting [ Ca2 + ] i , the amplitude and shape of depolarization-induced Ca2 + transients , and the content of ATP-driven ion pumps in cultured skeletal muscle cells of wild-type and DMPK [ - / - ] knockout mice . In vitro-differentiated DMPK [ - / - ] myotubes exhibit a higher resting [ Ca2 + ] i than do wild-type myotubes because of an altered open probability of voltage-dependent l-type Ca2 + and Na + channels . The mutant myotubes exhibit smaller and slower Ca2 + responses upon triggering by acetylcholine or high external K + . In addition , we observed that these Ca2 + transients partially result from an influx of extracellular Ca2 + through the l-type Ca2 + channel . Neither the content nor the activity of Na + / K + ATPase and sarcoplasmic reticulum Ca2 + -ATPase are affected by DMPK absence . In conclusion , our data suggest that DMPK is involved in modulating the initial events of excitation-contraction coupling in skeletal muscle . . \t1\n"
     ]
    }
   ],
   "source": [
    "# Take a look at the tab separated data\n",
    "print(\"*****\\ntrain.tsv sample\\n*****\")\n",
    "!head -n 3 $TC3_DATA_DIR/train.tsv\n",
    "print(\"\\n\\n*****\\ndev.tsv sample\\n*****\")\n",
    "!head -n 3 $TC3_DATA_DIR/dev.tsv\n",
    "print(\"\\n\\n*****\\ntest.tsv sample\\n*****\")\n",
    "!head -n 3 $TC3_DATA_DIR/test.tsv"
   ]
  },
  {
   "cell_type": "markdown",
   "metadata": {},
   "source": [
    "\n",
    "\n",
    "Note a few features of the data:\n",
    "* The preprocessed data is already in the \n",
    "\n",
    "   ```\n",
    "   [WORD][SPACE][WORD][SPACE][WORD][TAB][LABEL]\n",
    "   ``` \n",
    "   format specified in the [documentation](https://docs.nvidia.com/deeplearning/nemo/user-guide/docs/en/stable/nlp/text_classification.html).\n",
    "* There is a header row, \"sentence label\", that should be removed.\n",
    "* The text is quite long, so `max_seq_length` values will need to take this into account for training.\n",
    "\n",
    "Start by removing the header rows.  There are a number of ways to do this, but since it is a simple change we can use a bash stream editor (`sed`) command:"
   ]
  },
  {
   "cell_type": "code",
   "execution_count": 7,
   "metadata": {},
   "outputs": [],
   "source": [
    "!sed 1d $TC3_DATA_DIR/train.tsv > $TC3_DATA_DIR/train_nemo_format.tsv\n",
    "!sed 1d $TC3_DATA_DIR/dev.tsv > $TC3_DATA_DIR/dev_nemo_format.tsv\n",
    "!sed 1d $TC3_DATA_DIR/test.tsv > $TC3_DATA_DIR/test_nemo_format.tsv"
   ]
  },
  {
   "cell_type": "code",
   "execution_count": 8,
   "metadata": {
    "scrolled": true,
    "tags": []
   },
   "outputs": [
    {
     "name": "stdout",
     "output_type": "stream",
     "text": [
      "*****\n",
      "train_nemo_format.tsv sample\n",
      "*****\n",
      "Identification of APC2, a homologue of the adenomatous polyposis coli tumour suppressor . The adenomatous polyposis coli ( APC ) tumour-suppressor protein controls the Wnt signalling pathway by forming a complex with glycogen synthase kinase 3beta ( GSK-3beta ) , axin / conductin and betacatenin . Complex formation induces the rapid degradation of betacatenin . In colon carcinoma cells , loss of APC leads to the accumulation of betacatenin in the nucleus , where it binds to and activates the Tcf-4 transcription factor ( reviewed in [ 1 ] [ 2 ] ) . Here , we report the identification and genomic structure of APC homologues . Mammalian APC2 , which closely resembles APC in overall domain structure , was functionally analyzed and shown to contain two SAMP domains , both of which are required for binding to conductin . Like APC , APC2 regulates the formation of active betacatenin-Tcf complexes , as demonstrated using transient transcriptional activation assays in APC - / - colon carcinoma cells . Human APC2 maps to chromosome 19p13 . 3 . APC and APC2 may therefore have comparable functions in development and cancer .\t0\n",
      "A common MSH2 mutation in English and North American HNPCC families: origin, phenotypic expression, and sex specific differences in colorectal cancer . The frequency , origin , and phenotypic expression of a germline MSH2 gene mutation previously identified in seven kindreds with hereditary non-polyposis cancer syndrome (HNPCC) was investigated . The mutation ( A-- > T at nt943 + 3 ) disrupts the 3 splice site of exon 5 leading to the deletion of this exon from MSH2 mRNA and represents the only frequent MSH2 mutation so far reported . Although this mutation was initially detected in four of 33 colorectal cancer families analysed from eastern England , more extensive analysis has reduced the frequency to four of 52 ( 8 % ) English HNPCC kindreds analysed . In contrast , the MSH2 mutation was identified in 10 of 20 ( 50 % ) separately identified colorectal families from Newfoundland . To investigate the origin of this mutation in colorectal cancer families from England ( n = 4 ) , Newfoundland ( n = 10 ) , and the United States ( n = 3 ) , haplotype analysis using microsatellite markers linked to MSH2 was performed . Within the English and US families there was little evidence for a recent common origin of the MSH2 splice site mutation in most families . In contrast , a common haplotype was identified at the two flanking markers ( CA5 and D2S288 ) in eight of the Newfoundland families . These findings suggested a founder effect within Newfoundland similar to that reported by others for two MLH1 mutations in Finnish HNPCC families . We calculated age related risks of all , colorectal , endometrial , and ovarian cancers in nt943 + 3 A-- > T MSH2 mutation carriers ( n = 76 ) for all patients and for men and women separately . For both sexes combined , the penetrances at age 60 years for all cancers  and for colorectal cancer were 0 . 86 and 0 . 57 , respectively . The risk of colorectal cancer was significantly higher ( p < 0 . 01 ) in males than females ( 0 . 63 v 0 . 30 and 0 . 84 v 0 . 44 at ages 50 and 60 years , respectively ) . For females there was a high risk of endometrial cancer ( 0 . 5 at age 60 years ) and premenopausal ovarian cancer ( 0 . 2 at 50 years ) . These intersex differences in colorectal cancer risks have implications for screening programmes and for attempts to identify colorectal cancer susceptibility modifiers .\t0\n",
      "Age of onset in Huntington disease : sex specific influence of apolipoprotein E genotype and normal CAG repeat length . Age of onset ( AO ) of Huntington disease ( HD) is known to be correlated with the length of an expanded CAG repeat in the HD gene . Apolipoprotein E ( APOE ) genotype , in turn , is known to influence AO in Alzheimer disease , rendering the APOE gene a likely candidate to affect AO in other neurological diseases too . We therefore determined APOE genotype and normal CAG repeat length in the HD gene for 138 HD patients who were previously analysed with respect to CAG repeat length . Genotyping for APOE was performed blind to clinical information . In addition to highlighting the effect of the normal repeat length upon AO in maternally inherited HD and in male patients , we show that the APOE epsilon2epsilon3 genotype is associated with significantly earlier AO in males than in females . Such a sex difference in AO was not apparent for any of the other APOE genotypes . Our findings suggest that subtle differences in the course of the neurodegeneration  in HD  may allow interacting genes to exert gender specific effects upon AO.\t1\n",
      "\n",
      "\n",
      "*****\n",
      "dev_nemo_format.tsv sample\n",
      "*****\n",
      "BRCA1 is secreted and exhibits properties of a granin. Germline mutations in BRCA1 are responsible for most cases of inherited breast and ovarian cancer . However , the function of the BRCA1 protein has remained elusive . We now show that BRCA1 encodes a 190-kD protein with sequence homology and biochemical analogy to the granin protein family . Interestingly , BRCA2 also includes a motif similar to the granin consensus at the C terminus of the protein . Both BRCA1 and the granins localize to secretory vesicles , are secreted by a regulated pathway , are post-translationally glycosylated and are responsive to hormones . As a regulated secretory protein , BRCA1 appears to function by a mechanism not previously described for tumour suppressor gene products . . \t0\n",
      "Ovarian cancer risk in BRCA1 carriers is modified by the HRAS1 variable number of tandem repeat (VNTR) locus. Women who carry a mutation in the BRCA1 gene ( on chromosome 17q21 ) , have an 80 % risk of breast cancer and a 40 % risk of ovarian cancer by the age of 70 ( ref . 1 ) . The variable penetrance of BRCA1 suggests that other genetic and non-genetic factors play a role in tumourigenesis in these individuals . The HRAS1 variable number of tandem repeats ( VNTR ) polymorphism , located 1 kilobase ( kb ) downstream of the HRAS1 proto-oncogene ( chromosome 11p15 . 5 ) is one possible genetic modifier of cancer penetrance . Individuals who have rare alleles of the VNTR have an increased risk of certain types of cancers , including breast cancer ( 2-4 ) . To investigate whether the presence of rare HRAS1 alleles increases susceptibility to hereditary breast and ovarian cancer , we have typed a panel of 307 female BRCA1 carriers at this locus using a PCR-based technique . The risk for ovarian cancer was 2 . 11 times greater for BRCA1 carriers harbouring one or two rare HRAS1 alleles , compared to carriers with only common alleles ( P = 0 . 015 ) . The magnitude of the relative risk associated with a rare HRAS1 allele was not altered by adjusting for the other known risk factors for hereditary ovarian cancer ( 5 ) . Susceptibility to breast cancer did not appear to be affected by the presence of rare HRAS1 alleles . This study is the first to show the effect of a modifying gene on the penetrance of an inherited cancer syndrome \t0\n",
      "A novel homeodomain-encoding gene is associated with a large CpG island interrupted by the myotonic dystrophy unstable (CTG)n repeat. Myotonic dystrophy ( DM ) is associated with a ( CTG ) n trinucleotide repeat expansion in the 3-untranslated region of a protein kinase-encoding gene , DMPK , which maps to chromosome 19q13 . 3 . Characterisation of the expression of this gene in patient tissues has thus far generated conflicting data on alterations in the steady state levels of DMPK mRNA , and on the final DMPK protein levels in the presence of the expansion . The DM region of chromosome 19 is gene rich , and it is possible that the repeat expansion may lead to dysfunction of a number of transcription units in the vicinity , perhaps as a consequence of chromatin disruption . We have searched for genes associated with a CpG island at the 3 end of DMPK . Sequencing of this region shows that the island extends over 3 . 5 kb and is interrupted by the ( CTG ) n repeat . Comparison of genomic sequences downstream ( centromeric ) of the repeat in human and mouse identified regions of significant homology . These correspond to exons of a gene predicted to encode a homeodomain protein . RT-PCR analysis shows that this gene , which we have called DM locus-associated homeodomain protein ( DMAHP ) , is expressed in a number of human tissues , including skeletal muscle , heart and brain .\t1\n",
      "\n",
      "\n",
      "*****\n",
      "test_nemo_format.tsv sample\n",
      "*****\n",
      "Clustering of missense mutations in the ataxia-telangiectasia gene in a sporadic T-cell leukaemia. Ataxia-telangiectasia ( A-T ) is a recessive multi-system disorder caused by mutations in the ATM gene at 11q22-q23 ( ref . 3 ) . The risk of cancer , especially lymphoid neoplasias , is substantially elevated in A-T patients and has long been associated with chromosomal instability . By analysing tumour DNA from patients with sporadic T-cell prolymphocytic leukaemia ( T-PLL ) , a rare clonal malignancy with similarities to a mature T-cell leukaemia seen in A-T , we demonstrate a high frequency of ATM mutations in T-PLL . In marked contrast to the ATM mutation pattern in A-T , the most frequent nucleotide changes in this leukaemia were missense mutations . These clustered in the region corresponding to the kinase domain , which is highly conserved in ATM-related proteins in mouse , yeast and Drosophila . The resulting amino-acid substitutions are predicted to interfere with ATP binding or substrate recognition . Two of seventeen mutated T-PLL samples had a previously reported A-T allele . In contrast , no mutations were detected in the p53 gene , suggesting that this tumour suppressor is not frequently altered in this leukaemia . Occasional missense mutations in ATM were also found in tumour DNA from patients with B-cell non-Hodgkins lymphomas ( B-NHL ) and a B-NHL cell line . The evidence of a significant proportion of loss-of-function mutations and a complete absence of the normal copy of ATM in the majority of mutated tumours establishes somatic inactivation of this gene in the pathogenesis of sporadic T-PLL and suggests that ATM acts as a tumour suppressor . As constitutional DNA was not available , a putative hereditary predisposition to T-PLL will require further investigation . . \t0\n",
      "Myotonic dystrophy protein kinase is involved in the modulation of the Ca2+ homeostasis in skeletal muscle cells. Myotonic dystrophy ( DM ) , the most prevalent muscular disorder in adults , is caused by ( CTG ) n-repeat expansion in a gene encoding a protein kinase ( DM protein kinase ; DMPK ) and involves changes in cytoarchitecture and ion homeostasis . To obtain clues to the normal biological role of DMPK in cellular ion homeostasis , we have compared the resting [ Ca2 + ] i , the amplitude and shape of depolarization-induced Ca2 + transients , and the content of ATP-driven ion pumps in cultured skeletal muscle cells of wild-type and DMPK [ - / - ] knockout mice . In vitro-differentiated DMPK [ - / - ] myotubes exhibit a higher resting [ Ca2 + ] i than do wild-type myotubes because of an altered open probability of voltage-dependent l-type Ca2 + and Na + channels . The mutant myotubes exhibit smaller and slower Ca2 + responses upon triggering by acetylcholine or high external K + . In addition , we observed that these Ca2 + transients partially result from an influx of extracellular Ca2 + through the l-type Ca2 + channel . Neither the content nor the activity of Na + / K + ATPase and sarcoplasmic reticulum Ca2 + -ATPase are affected by DMPK absence . In conclusion , our data suggest that DMPK is involved in modulating the initial events of excitation-contraction coupling in skeletal muscle . . \t1\n",
      "Constitutional RB1-gene mutations in patients with isolated unilateral retinoblastoma. In most patients with isolated unilateral retinoblastoma , tumor development is initiated by somatic inactivation of both alleles of the RB1 gene . However , some of these patients can transmit retinoblastoma predisposition to their offspring . To determine the frequency and nature of constitutional RB1-gene mutations in patients with isolated unilateral retinoblastoma , we analyzed DNA from peripheral blood and from tumor tissue . The analysis of tumors from 54 ( 71 % ) of 76 informative patients showed loss of constitutional heterozygosity ( LOH ) at intragenic loci . Three of 13 uninformative patients had constitutional deletions . For 39 randomly selected tumors , SSCP , hetero-duplex analysis , sequencing , and Southern blot analysis were used to identify mutations . Mutations were detected in 21 ( 91 % ) of 23 tumors with LOH . In 6 ( 38 % ) of 16 tumors without LOH , one mutation was detected , and in 9 ( 56 % ) of the tumors without LOH , both mutations were found . Thus , a total of 45 mutations were identified in tumors of 36 patients . Thirty-nine of the mutations-including 34 small mutations , 2 large structural alterations , and hypermethylation in 3 tumors-were not detected in the corresponding peripheral blood DNA . In 6 ( 17 % ) of the 36 patients , a mutation was detected in constitutional DNA , and 1 of these mutations is known to be associated with reduced expressivity . The presence of a constitutional mutation was not associated with an early age at treatment . In 1 patient , somatic mosaicism was demonstrated by molecular analysis of DNA and RNA from peripheral blood . In 2 patients without a detectable mutation in peripheral blood , mosaicism was suggested because 1 of the patients showed multifocal tumors and the other later developed bilateral retinoblastoma . In conclusion , our results emphasize that the manifestation and transmissibility of retinoblastoma depend on the nature of the first mutation , its time in development , and the number and types of cells that are affected . . \t2\n"
     ]
    }
   ],
   "source": [
    "# Take a look at the tab separated data\n",
    "# \"1\" is \"positive\" and \"0\" is \"negative\"\n",
    "print(\"*****\\ntrain_nemo_format.tsv sample\\n*****\")\n",
    "!head -n 3 $TC3_DATA_DIR/train_nemo_format.tsv\n",
    "print(\"\\n\\n*****\\ndev_nemo_format.tsv sample\\n*****\")\n",
    "!head -n 3 $TC3_DATA_DIR/dev_nemo_format.tsv\n",
    "print(\"\\n\\n*****\\ntest_nemo_format.tsv sample\\n*****\")\n",
    "!head -n 3 $TC3_DATA_DIR/test_nemo_format.tsv"
   ]
  },
  {
   "cell_type": "code",
   "execution_count": 9,
   "metadata": {},
   "outputs": [
    {
     "name": "stdout",
     "output_type": "stream",
     "text": [
      "/dli/task/data/NCBI_tc-3/dev.tsv\n",
      "/dli/task/data/NCBI_tc-3/dev_nemo_format.tsv\n",
      "/dli/task/data/NCBI_tc-3/test.tsv\n",
      "/dli/task/data/NCBI_tc-3/test_nemo_format.tsv\n",
      "/dli/task/data/NCBI_tc-3/train.tsv\n",
      "/dli/task/data/NCBI_tc-3/train_nemo_format.tsv\n"
     ]
    }
   ],
   "source": [
    "TC3_DATA_DIR = '/dli/task/data/NCBI_tc-3'\n",
    "!ls $TC3_DATA_DIR/*.tsv"
   ]
  },
  {
   "cell_type": "markdown",
   "metadata": {},
   "source": [
    "## 2.2.2 Configuration File\n",
    "List the config file `text_classification_config.yaml` and take a look at the keys and default values.  Note the hierarchy of the keys and, especially, the three top-level keys: `trainer`, `model`, and `exp_manager`.\n",
    "\n",
    "```yaml\n",
    "trainer:\n",
    "  gpus:\n",
    "  num_nodes:\n",
    "  max_epochs:\n",
    "  ...\n",
    "  \n",
    "model:\n",
    "  nemo_path:\n",
    "  tokenizer:  \n",
    "  language_model:\n",
    "  classifier_head:\n",
    "  ...\n",
    "\n",
    "exp_manager:\n",
    "  ...\n",
    "```"
   ]
  },
  {
   "cell_type": "code",
   "execution_count": 10,
   "metadata": {
    "scrolled": true,
    "tags": []
   },
   "outputs": [
    {
     "name": "stdout",
     "output_type": "stream",
     "text": [
      "# Copyright (c) 2020, NVIDIA CORPORATION.  All rights reserved.\n",
      "#\n",
      "# Licensed under the Apache License, Version 2.0 (the \"License\");\n",
      "# you may not use this file except in compliance with the License.\n",
      "# You may obtain a copy of the License at\n",
      "#\n",
      "#     http://www.apache.org/licenses/LICENSE-2.0\n",
      "#\n",
      "# Unless required by applicable law or agreed to in writing, software\n",
      "# distributed under the License is distributed on an \"AS IS\" BASIS,\n",
      "# WITHOUT WARRANTIES OR CONDITIONS OF ANY KIND, either express or implied.\n",
      "# See the License for the specific language governing permissions and\n",
      "# limitations under the License.\n",
      "\n",
      "# Config file for text classification with pre-trained BERT models\n",
      "\n",
      "trainer:\n",
      "  gpus: 1 # number of GPUs (0 for CPU), or list of the GPUs to use e.g. [0, 1]\n",
      "  num_nodes: 1\n",
      "  max_epochs: 100\n",
      "  max_steps: null # precedence over max_epochs\n",
      "  accumulate_grad_batches: 1 # accumulates grads every k batches\n",
      "  gradient_clip_val: 0.0\n",
      "  amp_level: O0 # O1/O2 for mixed precision\n",
      "  precision: 32 # Should be set to 16 for O1 and O2 to enable the AMP.\n",
      "  accelerator: ddp\n",
      "  log_every_n_steps: 1  # Interval of logging.\n",
      "  val_check_interval: 1.0  # Set to 0.25 to check 4 times per epoch, or an int for number of iterations\n",
      "  resume_from_checkpoint: null # The path to a checkpoint file to continue the training, restores the whole state including the epoch, step, LR schedulers, apex, etc.\n",
      "  num_sanity_val_steps: 0 # number of steps to perform validation steps for sanity check the validation process before starting the training, setting to 0 disables it\n",
      "\n",
      "  checkpoint_callback: False  # Provided by exp_manager\n",
      "  logger: False  # Provided by exp_manager\n",
      "\n",
      "model:\n",
      "  nemo_path: text_classification_model.nemo # filename to save the model and associated artifacts to .nemo file\n",
      "  tokenizer:\n",
      "      tokenizer_name: ${model.language_model.pretrained_model_name} # or sentencepiece\n",
      "      vocab_file: null # path to vocab file\n",
      "      tokenizer_model: null # only used if tokenizer is sentencepiece\n",
      "      special_tokens: null\n",
      "\n",
      "  language_model:\n",
      "    pretrained_model_name: bert-base-uncased\n",
      "    lm_checkpoint: null\n",
      "    config_file: null # json file, precedence over config\n",
      "    config: null\n",
      "\n",
      "  classifier_head:\n",
      "    num_output_layers: 2\n",
      "    fc_dropout: 0.1\n",
      "\n",
      "  class_labels:\n",
      "    class_labels_file : null # optional to specify a file containing the list of the labels\n",
      "\n",
      "  dataset:\n",
      "    num_classes: ??? # The number of classes. 0 < Label <num_classes.\n",
      "    do_lower_case: false # true for uncased models, false for cased models, will be set automatically if pre-trained tokenizer model is used\n",
      "    max_seq_length: 256 # the maximum length BERT supports is 512\n",
      "    class_balancing: null # null or 'weighted_loss'. 'weighted_loss' enables the weighted class balancing of the loss, may be used for handling unbalanced classes\n",
      "    use_cache: false # uses a cache to store the processed dataset, you may use it for large datasets for speed up\n",
      "\n",
      "  train_ds:\n",
      "    file_path: null\n",
      "    batch_size: 64\n",
      "    shuffle: true\n",
      "    num_samples: -1 # number of samples to be considered, -1 means all the dataset\n",
      "    num_workers: 3\n",
      "    drop_last: false\n",
      "    pin_memory: false\n",
      "\n",
      "  validation_ds:\n",
      "    file_path: null\n",
      "    batch_size: 64\n",
      "    shuffle: false\n",
      "    num_samples: -1 # number of samples to be considered, -1 means all the dataset\n",
      "    num_workers: 3\n",
      "    drop_last: false\n",
      "    pin_memory: false\n",
      "\n",
      "  test_ds:\n",
      "    file_path: null\n",
      "    batch_size: 64\n",
      "    shuffle: false\n",
      "    num_samples: -1 # number of samples to be considered, -1 means all the dataset\n",
      "    num_workers: 3\n",
      "    drop_last: false\n",
      "    pin_memory: false\n",
      "\n",
      "  optim:\n",
      "    name: adam\n",
      "    lr: 2e-5\n",
      "    # optimizer arguments\n",
      "    betas: [0.9, 0.999]\n",
      "    weight_decay: 0.01\n",
      "\n",
      "    # scheduler setup\n",
      "    sched:\n",
      "      name: WarmupAnnealing\n",
      "      # Scheduler params\n",
      "      warmup_steps: null\n",
      "      warmup_ratio: 0.1\n",
      "      last_epoch: -1\n",
      "      # pytorch lightning args\n",
      "      monitor: val_loss\n",
      "      reduce_on_plateau: false\n",
      "\n",
      "  # List of some sample queries for inference after training is done\n",
      "  infer_samples: [\n",
      "    'by the end of no such thing the audience , like beatrice , has a watchful affection for the monster .',\n",
      "    'director rob marshall went out gunning to make a great one .',\n",
      "    'uneasy mishmash of styles and genres .',\n",
      "  ]\n",
      "\n",
      "exp_manager:\n",
      "  exp_dir: null  # exp_dir for your experiment, if None, defaults to \"./nemo_experiments\"\n",
      "  name: \"TextClassification\"  # The name of your model\n",
      "  create_tensorboard_logger: True  # Whether you want exp_manger to create a tb logger\n",
      "  create_checkpoint_callback: True  # Whether you want exp_manager to create a modelcheckpoint callback\n"
     ]
    }
   ],
   "source": [
    "CONFIG_DIR = \"/dli/task/nemo/examples/nlp/text_classification/conf\"\n",
    "CONFIG_FILE = \"text_classification_config.yaml\"\n",
    "!cat $CONFIG_DIR/$CONFIG_FILE"
   ]
  },
  {
   "cell_type": "markdown",
   "metadata": {},
   "source": [
    "### 2.2.2.1 OmegaConf Tool\n",
    "The YAML config file provides default values for most of the parameters, but there are a few items that must be specified for the text classification experiment in order to run it at all.  \n",
    "\n",
    "Each YAML section is a bit easier to view using the [omegaconf](https://omegaconf.readthedocs.io/en/2.1_branch/#) package, which allows you to access and manipulate the configuration keys using a \"dot\" protocol.  \n",
    "\n",
    "Start by instantiating an `OmegaConf` object from the config file. Keys in the object can be changed, added, viewed, saved, and so on.  \n",
    "\n",
    "For example, to look at just the `model` section, we can load the config file and specify just the `config.model` section to view through a print statement:"
   ]
  },
  {
   "cell_type": "code",
   "execution_count": 11,
   "metadata": {
    "scrolled": true,
    "tags": []
   },
   "outputs": [
    {
     "name": "stdout",
     "output_type": "stream",
     "text": [
      "nemo_path: text_classification_model.nemo\n",
      "tokenizer:\n",
      "  tokenizer_name: ${model.language_model.pretrained_model_name}\n",
      "  vocab_file: null\n",
      "  tokenizer_model: null\n",
      "  special_tokens: null\n",
      "language_model:\n",
      "  pretrained_model_name: bert-base-uncased\n",
      "  lm_checkpoint: null\n",
      "  config_file: null\n",
      "  config: null\n",
      "classifier_head:\n",
      "  num_output_layers: 2\n",
      "  fc_dropout: 0.1\n",
      "class_labels:\n",
      "  class_labels_file: null\n",
      "dataset:\n",
      "  num_classes: ???\n",
      "  do_lower_case: false\n",
      "  max_seq_length: 256\n",
      "  class_balancing: null\n",
      "  use_cache: false\n",
      "train_ds:\n",
      "  file_path: null\n",
      "  batch_size: 64\n",
      "  shuffle: true\n",
      "  num_samples: -1\n",
      "  num_workers: 3\n",
      "  drop_last: false\n",
      "  pin_memory: false\n",
      "validation_ds:\n",
      "  file_path: null\n",
      "  batch_size: 64\n",
      "  shuffle: false\n",
      "  num_samples: -1\n",
      "  num_workers: 3\n",
      "  drop_last: false\n",
      "  pin_memory: false\n",
      "test_ds:\n",
      "  file_path: null\n",
      "  batch_size: 64\n",
      "  shuffle: false\n",
      "  num_samples: -1\n",
      "  num_workers: 3\n",
      "  drop_last: false\n",
      "  pin_memory: false\n",
      "optim:\n",
      "  name: adam\n",
      "  lr: 2.0e-05\n",
      "  betas:\n",
      "  - 0.9\n",
      "  - 0.999\n",
      "  weight_decay: 0.01\n",
      "  sched:\n",
      "    name: WarmupAnnealing\n",
      "    warmup_steps: null\n",
      "    warmup_ratio: 0.1\n",
      "    last_epoch: -1\n",
      "    monitor: val_loss\n",
      "    reduce_on_plateau: false\n",
      "infer_samples:\n",
      "- by the end of no such thing the audience , like beatrice , has a watchful affection\n",
      "  for the monster .\n",
      "- director rob marshall went out gunning to make a great one .\n",
      "- uneasy mishmash of styles and genres .\n",
      "\n"
     ]
    }
   ],
   "source": [
    "from omegaconf import OmegaConf\n",
    "\n",
    "config = OmegaConf.load(CONFIG_DIR + \"/\" + CONFIG_FILE)\n",
    "print(OmegaConf.to_yaml(config.model))"
   ]
  },
  {
   "cell_type": "markdown",
   "metadata": {},
   "source": [
    "Details about the model arguments can be found in the [documentation](https://docs.nvidia.com/deeplearning/nemo/user-guide/docs/en/stable/nlp/text_classification.html#model-arguments).  The `dataset.num_classes` value as well as locations of the data in `train_ds.file_path`, `val_ds.file_path`, and `test_ds.file_path` are required.\n",
    "\n",
    "To make sure we don't run out of memory, we can limit the `dataset.max_seq_length` to 128.  It also looks like the `infer_samples` are related to movie reviews, so we can change those to sentences that are meaningful in the disease domain.\n",
    "\n",
    "There are some other parameters we might want to change later, but for now, this is all we absolutely must provide.  \n",
    "\n",
    "Next take a look at the `trainer` subsection:"
   ]
  },
  {
   "cell_type": "code",
   "execution_count": 12,
   "metadata": {},
   "outputs": [
    {
     "name": "stdout",
     "output_type": "stream",
     "text": [
      "gpus: 1\n",
      "num_nodes: 1\n",
      "max_epochs: 100\n",
      "max_steps: null\n",
      "accumulate_grad_batches: 1\n",
      "gradient_clip_val: 0.0\n",
      "amp_level: O0\n",
      "precision: 32\n",
      "accelerator: ddp\n",
      "log_every_n_steps: 1\n",
      "val_check_interval: 1.0\n",
      "resume_from_checkpoint: null\n",
      "num_sanity_val_steps: 0\n",
      "checkpoint_callback: false\n",
      "logger: false\n",
      "\n"
     ]
    }
   ],
   "source": [
    "print(OmegaConf.to_yaml(config.trainer))"
   ]
  },
  {
   "cell_type": "markdown",
   "metadata": {},
   "source": [
    "We only have one GPU right now, so that setting is fine, but we might want to limit the `max_epochs` to just a few to start with.  As with the `model` configs, there are some other parameters we might want to change, but we can go with the default for our first try.  \n",
    "\n",
    "Finally, what about the `exp_manager`?"
   ]
  },
  {
   "cell_type": "code",
   "execution_count": 13,
   "metadata": {},
   "outputs": [
    {
     "name": "stdout",
     "output_type": "stream",
     "text": [
      "exp_dir: null\n",
      "name: TextClassification\n",
      "create_tensorboard_logger: true\n",
      "create_checkpoint_callback: true\n",
      "\n"
     ]
    }
   ],
   "source": [
    "print(OmegaConf.to_yaml(config.exp_manager))"
   ]
  },
  {
   "cell_type": "markdown",
   "metadata": {},
   "source": [
    "This section is fine as it is. When the `exp_dir` is `null`, it will default to placing the experiment results in a new directory named `nemo_experiments`."
   ]
  },
  {
   "cell_type": "markdown",
   "metadata": {},
   "source": [
    "## 2.2.3 Hydra-Enabled Python Script\n",
    "To recap, the parameters we need to change or override are:\n",
    "\n",
    "* `model.dataset.num_classes`: set to 3\n",
    "* `model.dataset.max_seq_length`: set to 128\n",
    "* `model.train_ds.file_path`: set to train_nemo_format.tsv\n",
    "* `model.val_ds.file_path`: set to dev_nemo_format.tsv\n",
    "* `model.test_ds.file_path`: set to test_nemo_format.tsv\n",
    "* `model.infer_samples` : set to relevent sentences\n",
    "* `trainer.max_epochs`: set to 3\n",
    "\n",
    "We can train, infer, and test it all **in one command** using the text classification training script!  \n",
    "\n",
    "The script uses Hydra to manage the config file, so that means we can just override the values we want to from the command line as follows:"
   ]
  },
  {
   "cell_type": "code",
   "execution_count": 14,
   "metadata": {
    "scrolled": true,
    "tags": []
   },
   "outputs": [
    {
     "name": "stdout",
     "output_type": "stream",
     "text": [
      "[NeMo W 2021-08-07 12:05:51 nemo_logging:349] /opt/conda/lib/python3.8/site-packages/omegaconf/basecontainer.py:225: UserWarning: cfg.pretty() is deprecated and will be removed in a future version.\n",
      "    Use OmegaConf.to_yaml(cfg)\n",
      "    \n",
      "      warnings.warn(\n",
      "    \n",
      "[NeMo I 2021-08-07 12:05:51 text_classification_with_bert:110] \n",
      "    Config Params:\n",
      "    trainer:\n",
      "      gpus: 1\n",
      "      num_nodes: 1\n",
      "      max_epochs: 3\n",
      "      max_steps: null\n",
      "      accumulate_grad_batches: 1\n",
      "      gradient_clip_val: 0.0\n",
      "      amp_level: O0\n",
      "      precision: 32\n",
      "      accelerator: ddp\n",
      "      log_every_n_steps: 1\n",
      "      val_check_interval: 1.0\n",
      "      resume_from_checkpoint: null\n",
      "      num_sanity_val_steps: 0\n",
      "      checkpoint_callback: false\n",
      "      logger: false\n",
      "    model:\n",
      "      nemo_path: text_classification_model.nemo\n",
      "      tokenizer:\n",
      "        tokenizer_name: ${model.language_model.pretrained_model_name}\n",
      "        vocab_file: null\n",
      "        tokenizer_model: null\n",
      "        special_tokens: null\n",
      "      language_model:\n",
      "        pretrained_model_name: bert-base-uncased\n",
      "        lm_checkpoint: null\n",
      "        config_file: null\n",
      "        config: null\n",
      "      classifier_head:\n",
      "        num_output_layers: 2\n",
      "        fc_dropout: 0.1\n",
      "      class_labels:\n",
      "        class_labels_file: null\n",
      "      dataset:\n",
      "        num_classes: 3\n",
      "        do_lower_case: false\n",
      "        max_seq_length: 128\n",
      "        class_balancing: null\n",
      "        use_cache: false\n",
      "      train_ds:\n",
      "        file_path: /dli/task/data/NCBI_tc-3/train_nemo_format.tsv\n",
      "        batch_size: 64\n",
      "        shuffle: true\n",
      "        num_samples: -1\n",
      "        num_workers: 3\n",
      "        drop_last: false\n",
      "        pin_memory: false\n",
      "      validation_ds:\n",
      "        file_path: /dli/task/data/NCBI_tc-3/dev_nemo_format.tsv\n",
      "        batch_size: 64\n",
      "        shuffle: false\n",
      "        num_samples: -1\n",
      "        num_workers: 3\n",
      "        drop_last: false\n",
      "        pin_memory: false\n",
      "      test_ds:\n",
      "        file_path: /dli/task/data/NCBI_tc-3/test_nemo_format.tsv\n",
      "        batch_size: 64\n",
      "        shuffle: false\n",
      "        num_samples: -1\n",
      "        num_workers: 3\n",
      "        drop_last: false\n",
      "        pin_memory: false\n",
      "      optim:\n",
      "        name: adam\n",
      "        lr: 2.0e-05\n",
      "        betas:\n",
      "        - 0.9\n",
      "        - 0.999\n",
      "        weight_decay: 0.01\n",
      "        sched:\n",
      "          name: WarmupAnnealing\n",
      "          warmup_steps: null\n",
      "          warmup_ratio: 0.1\n",
      "          last_epoch: -1\n",
      "          monitor: val_loss\n",
      "          reduce_on_plateau: false\n",
      "      infer_samples:\n",
      "      - In contrast no mutations were detected in the p53 gene suggesting that this tumour\n",
      "        suppressor is not frequently altered in this leukaemia\n",
      "      - The first predictive testing for Huntington disease  was based on analysis of\n",
      "        linked polymorphic DNA markers to estimate the likelihood of inheriting the mutation\n",
      "        for HD\n",
      "      - Further studies suggested that low dilutions of C5D serum contain a factor or\n",
      "        factors interfering at some step in the hemolytic assay of C5 rather than a true\n",
      "        C5 inhibitor or inactivator\n",
      "    exp_manager:\n",
      "      exp_dir: null\n",
      "      name: TextClassification\n",
      "      create_tensorboard_logger: true\n",
      "      create_checkpoint_callback: true\n",
      "    \n",
      "GPU available: True, used: True\n",
      "TPU available: False, using: 0 TPU cores\n",
      "[NeMo I 2021-08-07 12:05:51 exp_manager:216] Experiments will be logged at /dli/task/nemo_experiments/TextClassification/2021-08-07_12-05-51\n",
      "[NeMo I 2021-08-07 12:05:51 exp_manager:563] TensorboardLogger has been set up\n",
      "Using bos_token, but it is not set yet.\n",
      "Using eos_token, but it is not set yet.\n",
      "[NeMo I 2021-08-07 12:05:51 text_classification_dataset:120] Read 683 examples from /dli/task/data/NCBI_tc-3/train_nemo_format.tsv.\n",
      "[NeMo I 2021-08-07 12:05:51 text_classification_dataset:238] *** Example ***\n",
      "[NeMo I 2021-08-07 12:05:51 text_classification_dataset:239] example 0: ['Transgenic', 'mice', 'carrying', 'large', 'human', 'genomic', 'sequences', 'with', 'expanded', 'CTG', 'repeat', 'mimic', 'closely', 'the', 'DM', 'CTG', 'repeat', 'intergenerational', 'and', 'somatic', 'instability.', 'Myotonic', 'dystrophy', '(', 'DM', ')', 'is', 'caused', 'by', 'a', 'CTG', 'repeat', 'expansion', 'in', 'the', '3UTR', 'of', 'the', 'DM', 'protein', 'kinase', '(', 'DMPK', ')', 'gene', '.', 'A', 'very', 'high', 'level', 'of', 'instability', 'is', 'observed', 'through', 'successive', 'generations', 'and', 'the', 'size', 'of', 'the', 'repeat', 'is', 'generally', 'correlated', 'with', 'the', 'severity', 'of', 'the', 'disease', 'and', 'with', 'age', 'at', 'onset', '.', 'Furthermore', ',', 'tissues', 'from', 'DM', 'patients', 'exhibit', 'somatic', 'mosaicism', 'that', 'increases', 'with', 'age', '.', 'We', 'generated', 'transgenic', 'mice', 'carrying', 'large', 'human', 'genomic', 'sequences', 'with', '20', ',', '55', 'or', '>', '300', 'CTG', ',', 'cloned', 'from', 'patients', 'from', 'the', 'same', 'affected', 'DM', 'family', '.', 'Using', 'large', 'human', 'flanking', 'sequences', 'and', 'a', 'large', 'amplification', ',', 'we', 'demonstrate', 'that', 'the', 'intergenerational', 'CTG', 'repeat', 'instability', 'is', 'reproduced', 'in', 'mice', ',', 'with', 'a', 'strong', 'bias', 'towards', 'expansions', 'and', 'with', 'the', 'same', 'sex-', 'and', 'size-dependent', 'characteristics', 'as', 'in', 'humans', '.', 'Moreover', ',', 'a', 'high', 'level', 'of', 'instability', ',', 'increasing', 'with', 'age', ',', 'can', 'be', 'observed', 'in', 'tissues', 'and', 'in', 'sperm', '.', 'Although', 'we', 'did', 'not', 'observe', 'dramatic', 'expansions', '(', 'or', 'big', 'jumps', 'over', 'several', 'hundred', 'CTG', 'repeats', ')', 'as', 'in', 'congenital', 'forms', 'of', 'DM', ',', 'our', 'model', 'carrying', '>', '300', 'CTG', 'is', 'the', 'first', 'to', 'show', 'instability', 'so', 'close', 'to', 'the', 'human', 'DM', 'situation', '.', 'Our', 'three', 'models', 'carrying', 'different', 'sizes', 'of', 'CTG', 'repeat', 'provide', 'insight', 'on', 'the', 'different', 'factors', 'modulating', 'the', 'CTG', 'repeat', 'instability', '.', '.']\n",
      "[NeMo I 2021-08-07 12:05:51 text_classification_dataset:240] subtokens: [CLS] trans ##genic mice carrying large human gen ##omic sequences with expanded ct ##g repeat mimic closely the d ##m ct ##g repeat inter ##gen ##eration ##al and so ##matic instability . my ##oton ##ic d ##yst ##rop ##hy ( d ##m ) is caused by a ct ##g repeat expansion in the 3 ##ut ##r of the d ##m protein kinase ( d ##mp ##k ) gene . a very high level of instability is observed through successive generations and the size of the repeat is generally correlated with the severity of the disease and with age at onset . furthermore , tissues from d ##m patients exhibit so ##matic mosaic ##ism that increases with age . we generated trans ##genic mice carrying large human gen ##omic [SEP]\n",
      "[NeMo I 2021-08-07 12:05:51 text_classification_dataset:241] input_ids: 101 9099 16505 12328 4755 2312 2529 8991 22026 10071 2007 4423 14931 2290 9377 23150 4876 1996 1040 2213 14931 2290 9377 6970 6914 16754 2389 1998 2061 12644 18549 1012 2026 25862 2594 1040 27268 18981 10536 1006 1040 2213 1007 2003 3303 2011 1037 14931 2290 9377 4935 1999 1996 1017 4904 2099 1997 1996 1040 2213 5250 21903 1006 1040 8737 2243 1007 4962 1012 1037 2200 2152 2504 1997 18549 2003 5159 2083 11165 8213 1998 1996 2946 1997 1996 9377 2003 3227 23900 2007 1996 18976 1997 1996 4295 1998 2007 2287 2012 14447 1012 7297 1010 14095 2013 1040 2213 5022 8327 2061 12644 16061 2964 2008 7457 2007 2287 1012 2057 7013 9099 16505 12328 4755 2312 2529 8991 22026 102\n",
      "[NeMo I 2021-08-07 12:05:51 text_classification_dataset:242] segment_ids: 0 0 0 0 0 0 0 0 0 0 0 0 0 0 0 0 0 0 0 0 0 0 0 0 0 0 0 0 0 0 0 0 0 0 0 0 0 0 0 0 0 0 0 0 0 0 0 0 0 0 0 0 0 0 0 0 0 0 0 0 0 0 0 0 0 0 0 0 0 0 0 0 0 0 0 0 0 0 0 0 0 0 0 0 0 0 0 0 0 0 0 0 0 0 0 0 0 0 0 0 0 0 0 0 0 0 0 0 0 0 0 0 0 0 0 0 0 0 0 0 0 0 0 0 0 0 0 0 0\n",
      "[NeMo I 2021-08-07 12:05:51 text_classification_dataset:243] input_mask: 1 1 1 1 1 1 1 1 1 1 1 1 1 1 1 1 1 1 1 1 1 1 1 1 1 1 1 1 1 1 1 1 1 1 1 1 1 1 1 1 1 1 1 1 1 1 1 1 1 1 1 1 1 1 1 1 1 1 1 1 1 1 1 1 1 1 1 1 1 1 1 1 1 1 1 1 1 1 1 1 1 1 1 1 1 1 1 1 1 1 1 1 1 1 1 1 1 1 1 1 1 1 1 1 1 1 1 1 1 1 1 1 1 1 1 1 1 1 1 1 1 1 1 1 1 1 1 1 1\n",
      "[NeMo I 2021-08-07 12:05:51 text_classification_dataset:244] label: 1\n",
      "[NeMo I 2021-08-07 12:05:52 text_classification_dataset:238] *** Example ***\n",
      "[NeMo I 2021-08-07 12:05:52 text_classification_dataset:239] example 1: ['The', 'Norrie', 'disease', 'gene', 'maps', 'to', 'a', '150', 'kb', 'region', 'on', 'chromosome', 'Xp11.3.', 'Norrie', 'disease', 'is', 'a', 'human', 'X-linked', 'recessive', 'disorder', 'of', 'unknown', 'etiology', 'characterized', 'by', 'congenital', 'blindness', ',', 'sensory', 'neural', 'deafness', 'and', 'mental', 'retardation', '.', 'This', 'disease', 'gene', 'was', 'previously', 'linked', 'to', 'the', 'DXS7', '(', 'L1', '.', '28', ')', 'locus', 'and', 'the', 'MAO', 'genes', 'in', 'band', 'Xp11', '.', '3', '3', '.', 'We', 'report', 'here', 'fine', 'physical', 'mapping', 'of', 'the', 'obligate', 'region', 'containing', 'the', 'Norrie', 'disease', 'gene', '(', 'NDP', ')', 'defined', 'by', 'a', 'recombination', 'and', 'by', 'the', 'smallest', 'submicroscopic', 'chromosomal', 'deletion', 'associated', 'with', 'Norrie', 'disease', 'identified', 'to', 'date', '.', 'Analysis', ',', 'using', 'in', 'addition', 'two', 'overlapping', 'YAC', 'clones', 'from', 'this', 'region', ',', 'allowed', 'orientation', 'of', 'the', 'MAOA', 'and', 'MAOB', 'genes', 'in', 'a', '5-3-3-5', 'configuration', '.', 'A', 'recombination', 'event', 'between', 'a', '(', 'GT', ')', 'n', 'polymorphism', 'in', 'intron', '2', 'of', 'the', 'MAOB', 'gene', 'and', 'the', 'NDP', 'locus', ',', 'in', 'a', 'family', 'previously', 'reported', 'to', 'have', 'a', 'recombination', 'between', 'DXS7', 'and', 'NDP', ',', 'delineates', 'a', 'flanking', 'marker', 'telomeric', 'to', 'this', 'disease', 'gene', '.', 'An', 'anonymous', 'DNA', 'probe', ',', 'dc12', ',', 'present', 'in', 'one', 'of', 'the', 'YACs', 'and', 'in', 'a', 'patient', 'with', 'a', 'submicroscopic', 'deletion', 'which', 'includes', 'MAOA', 'and', 'MAOB', 'but', 'not', 'L1', '.', '28', ',', 'serves', 'as', 'a', 'flanking', 'marker', 'centromeric', 'to', 'the', 'disease', 'gene', '.', 'An', 'Alu-PCR', 'fragment', 'from', 'the', 'right', 'arm', 'of', 'the', 'MAO', 'YAC', '(', 'YMAO', '.', 'AluR', ')', 'is', 'not', 'deleted', 'in', 'this', 'patient', 'and', 'also', 'delineates', 'the', 'centromeric', 'extent', 'of', 'the', 'obligate', 'disease', 'region', '.', 'The', 'apparent', 'order', 'of', 'these', 'loci', 'is', 'telomere', '.', 'DXS7-MAOA-MAOB-NDP-dc12-YMAO', 'DXS7-MAOA-MAOB-NDP-dc12-YMAO', '.', 'AluR', '.', 'centromere', '.', 'Together', 'these', 'data', 'define', 'the', 'obligate', 'region', 'containing', 'the', 'NDP', 'gene', 'to', 'a', 'chromosomal', 'segment', 'less', 'than', '150', 'kb', '.']\n",
      "[NeMo I 2021-08-07 12:05:52 text_classification_dataset:240] subtokens: [CLS] the nor ##rie disease gene maps to a 150 kb region on chromosome xp ##11 . 3 . nor ##rie disease is a human x - linked recess ##ive disorder of unknown et ##iology characterized by congenital blindness , sensory neural deaf ##ness and mental re ##tar ##dation . this disease gene was previously linked to the d ##x ##s ##7 ( l ##1 . 28 ) locus and the mao genes in band xp ##11 . 3 3 . we report here fine physical mapping of the ob ##liga ##te region containing the nor ##rie disease gene ( ndp ) defined by a rec ##om ##bina ##tion and by the smallest sub ##mic ##ros ##copic ch ##rom ##osomal del ##eti ##on associated with nor ##rie disease [SEP]\n",
      "[NeMo I 2021-08-07 12:05:52 text_classification_dataset:241] input_ids: 101 1996 4496 7373 4295 4962 7341 2000 1037 5018 21677 2555 2006 16706 26726 14526 1012 1017 1012 4496 7373 4295 2003 1037 2529 1060 1011 5799 28290 3512 8761 1997 4242 3802 20569 7356 2011 27480 26290 1010 16792 15756 12419 2791 1998 5177 2128 7559 20207 1012 2023 4295 4962 2001 3130 5799 2000 1996 1040 2595 2015 2581 1006 1048 2487 1012 2654 1007 25206 1998 1996 15158 9165 1999 2316 26726 14526 1012 1017 1017 1012 2057 3189 2182 2986 3558 12375 1997 1996 27885 14715 2618 2555 4820 1996 4496 7373 4295 4962 1006 21915 1007 4225 2011 1037 28667 5358 21114 3508 1998 2011 1996 10479 4942 7712 7352 26461 10381 21716 27642 3972 20624 2239 3378 2007 4496 7373 4295 102\n",
      "[NeMo I 2021-08-07 12:05:52 text_classification_dataset:242] segment_ids: 0 0 0 0 0 0 0 0 0 0 0 0 0 0 0 0 0 0 0 0 0 0 0 0 0 0 0 0 0 0 0 0 0 0 0 0 0 0 0 0 0 0 0 0 0 0 0 0 0 0 0 0 0 0 0 0 0 0 0 0 0 0 0 0 0 0 0 0 0 0 0 0 0 0 0 0 0 0 0 0 0 0 0 0 0 0 0 0 0 0 0 0 0 0 0 0 0 0 0 0 0 0 0 0 0 0 0 0 0 0 0 0 0 0 0 0 0 0 0 0 0 0 0 0 0 0 0 0 0\n",
      "[NeMo I 2021-08-07 12:05:52 text_classification_dataset:243] input_mask: 1 1 1 1 1 1 1 1 1 1 1 1 1 1 1 1 1 1 1 1 1 1 1 1 1 1 1 1 1 1 1 1 1 1 1 1 1 1 1 1 1 1 1 1 1 1 1 1 1 1 1 1 1 1 1 1 1 1 1 1 1 1 1 1 1 1 1 1 1 1 1 1 1 1 1 1 1 1 1 1 1 1 1 1 1 1 1 1 1 1 1 1 1 1 1 1 1 1 1 1 1 1 1 1 1 1 1 1 1 1 1 1 1 1 1 1 1 1 1 1 1 1 1 1 1 1 1 1 1\n",
      "[NeMo I 2021-08-07 12:05:52 text_classification_dataset:244] label: 2\n",
      "[NeMo W 2021-08-07 12:06:03 text_classification_dataset:250] Found 664 out of 683 sentences with more than 128 subtokens. Truncated long sentences from the end.\n",
      "[NeMo I 2021-08-07 12:06:03 data_preprocessing:299] Some stats of the lengths of the sequences:\n",
      "[NeMo I 2021-08-07 12:06:03 data_preprocessing:301] Min: 74 |                  Max: 129 |                  Mean: 128.36163982430455 |                  Median: 129.0\n",
      "[NeMo I 2021-08-07 12:06:03 data_preprocessing:307] 75 percentile: 129.00\n",
      "[NeMo I 2021-08-07 12:06:03 data_preprocessing:308] 99 percentile: 129.00\n",
      "[NeMo I 2021-08-07 12:06:03 text_classification_dataset:120] Read 100 examples from /dli/task/data/NCBI_tc-3/dev_nemo_format.tsv.\n",
      "[NeMo I 2021-08-07 12:06:03 text_classification_dataset:238] *** Example ***\n",
      "[NeMo I 2021-08-07 12:06:03 text_classification_dataset:239] example 0: ['BRCA1', 'is', 'secreted', 'and', 'exhibits', 'properties', 'of', 'a', 'granin.', 'Germline', 'mutations', 'in', 'BRCA1', 'are', 'responsible', 'for', 'most', 'cases', 'of', 'inherited', 'breast', 'and', 'ovarian', 'cancer', '.', 'However', ',', 'the', 'function', 'of', 'the', 'BRCA1', 'protein', 'has', 'remained', 'elusive', '.', 'We', 'now', 'show', 'that', 'BRCA1', 'encodes', 'a', '190-kD', 'protein', 'with', 'sequence', 'homology', 'and', 'biochemical', 'analogy', 'to', 'the', 'granin', 'protein', 'family', '.', 'Interestingly', ',', 'BRCA2', 'also', 'includes', 'a', 'motif', 'similar', 'to', 'the', 'granin', 'consensus', 'at', 'the', 'C', 'terminus', 'of', 'the', 'protein', '.', 'Both', 'BRCA1', 'and', 'the', 'granins', 'localize', 'to', 'secretory', 'vesicles', ',', 'are', 'secreted', 'by', 'a', 'regulated', 'pathway', ',', 'are', 'post-translationally', 'glycosylated', 'and', 'are', 'responsive', 'to', 'hormones', '.', 'As', 'a', 'regulated', 'secretory', 'protein', ',', 'BRCA1', 'appears', 'to', 'function', 'by', 'a', 'mechanism', 'not', 'previously', 'described', 'for', 'tumour', 'suppressor', 'gene', 'products', '.', '.']\n",
      "[NeMo I 2021-08-07 12:06:03 text_classification_dataset:240] subtokens: [CLS] br ##ca ##1 is secret ##ed and exhibits properties of a gran ##in . ge ##rm ##line mutations in br ##ca ##1 are responsible for most cases of inherited breast and o ##var ##ian cancer . however , the function of the br ##ca ##1 protein has remained elusive . we now show that br ##ca ##1 en ##codes a 190 - k ##d protein with sequence homo ##logy and bio ##chemical analogy to the gran ##in protein family . interesting ##ly , br ##ca ##2 also includes a motif similar to the gran ##in consensus at the c terminus of the protein . both br ##ca ##1 and the gran ##ins local ##ize to secret ##ory ve ##sic ##les , are secret ##ed by a regulated [SEP]\n",
      "[NeMo I 2021-08-07 12:06:03 text_classification_dataset:241] input_ids: 101 7987 3540 2487 2003 3595 2098 1998 10637 5144 1997 1037 12604 2378 1012 16216 10867 4179 14494 1999 7987 3540 2487 2024 3625 2005 2087 3572 1997 7900 7388 1998 1051 10755 2937 4456 1012 2174 1010 1996 3853 1997 1996 7987 3540 2487 5250 2038 2815 26475 1012 2057 2085 2265 2008 7987 3540 2487 4372 23237 1037 11827 1011 1047 2094 5250 2007 5537 24004 6483 1998 16012 15869 23323 2000 1996 12604 2378 5250 2155 1012 5875 2135 1010 7987 3540 2475 2036 2950 1037 16226 2714 2000 1996 12604 2378 10465 2012 1996 1039 7342 1997 1996 5250 1012 2119 7987 3540 2487 1998 1996 12604 7076 2334 4697 2000 3595 10253 2310 19570 4244 1010 2024 3595 2098 2011 1037 12222 102\n",
      "[NeMo I 2021-08-07 12:06:03 text_classification_dataset:242] segment_ids: 0 0 0 0 0 0 0 0 0 0 0 0 0 0 0 0 0 0 0 0 0 0 0 0 0 0 0 0 0 0 0 0 0 0 0 0 0 0 0 0 0 0 0 0 0 0 0 0 0 0 0 0 0 0 0 0 0 0 0 0 0 0 0 0 0 0 0 0 0 0 0 0 0 0 0 0 0 0 0 0 0 0 0 0 0 0 0 0 0 0 0 0 0 0 0 0 0 0 0 0 0 0 0 0 0 0 0 0 0 0 0 0 0 0 0 0 0 0 0 0 0 0 0 0 0 0 0 0 0\n",
      "[NeMo I 2021-08-07 12:06:03 text_classification_dataset:243] input_mask: 1 1 1 1 1 1 1 1 1 1 1 1 1 1 1 1 1 1 1 1 1 1 1 1 1 1 1 1 1 1 1 1 1 1 1 1 1 1 1 1 1 1 1 1 1 1 1 1 1 1 1 1 1 1 1 1 1 1 1 1 1 1 1 1 1 1 1 1 1 1 1 1 1 1 1 1 1 1 1 1 1 1 1 1 1 1 1 1 1 1 1 1 1 1 1 1 1 1 1 1 1 1 1 1 1 1 1 1 1 1 1 1 1 1 1 1 1 1 1 1 1 1 1 1 1 1 1 1 1\n",
      "[NeMo I 2021-08-07 12:06:03 text_classification_dataset:244] label: 0\n",
      "[NeMo I 2021-08-07 12:06:03 text_classification_dataset:238] *** Example ***\n",
      "[NeMo I 2021-08-07 12:06:03 text_classification_dataset:239] example 1: ['Ovarian', 'cancer', 'risk', 'in', 'BRCA1', 'carriers', 'is', 'modified', 'by', 'the', 'HRAS1', 'variable', 'number', 'of', 'tandem', 'repeat', '(VNTR)', 'locus.', 'Women', 'who', 'carry', 'a', 'mutation', 'in', 'the', 'BRCA1', 'gene', '(', 'on', 'chromosome', '17q21', ')', ',', 'have', 'an', '80', '%', 'risk', 'of', 'breast', 'cancer', 'and', 'a', '40', '%', 'risk', 'of', 'ovarian', 'cancer', 'by', 'the', 'age', 'of', '70', '(', 'ref', '.', '1', ')', '.', 'The', 'variable', 'penetrance', 'of', 'BRCA1', 'suggests', 'that', 'other', 'genetic', 'and', 'non-genetic', 'factors', 'play', 'a', 'role', 'in', 'tumourigenesis', 'in', 'these', 'individuals', '.', 'The', 'HRAS1', 'variable', 'number', 'of', 'tandem', 'repeats', '(', 'VNTR', ')', 'polymorphism', ',', 'located', '1', 'kilobase', '(', 'kb', ')', 'downstream', 'of', 'the', 'HRAS1', 'proto-oncogene', '(', 'chromosome', '11p15', '.', '5', ')', 'is', 'one', 'possible', 'genetic', 'modifier', 'of', 'cancer', 'penetrance', '.', 'Individuals', 'who', 'have', 'rare', 'alleles', 'of', 'the', 'VNTR', 'have', 'an', 'increased', 'risk', 'of', 'certain', 'types', 'of', 'cancers', ',', 'including', 'breast', 'cancer', '(', '2-4', ')', '.', 'To', 'investigate', 'whether', 'the', 'presence', 'of', 'rare', 'HRAS1', 'alleles', 'increases', 'susceptibility', 'to', 'hereditary', 'breast', 'and', 'ovarian', 'cancer', ',', 'we', 'have', 'typed', 'a', 'panel', 'of', '307', 'female', 'BRCA1', 'carriers', 'at', 'this', 'locus', 'using', 'a', 'PCR-based', 'technique', '.', 'The', 'risk', 'for', 'ovarian', 'cancer', 'was', '2', '.', '11', 'times', 'greater', 'for', 'BRCA1', 'carriers', 'harbouring', 'one', 'or', 'two', 'rare', 'HRAS1', 'alleles', ',', 'compared', 'to', 'carriers', 'with', 'only', 'common', 'alleles', '(', 'P', '=', '0', '.', '015', ')', '.', 'The', 'magnitude', 'of', 'the', 'relative', 'risk', 'associated', 'with', 'a', 'rare', 'HRAS1', 'allele', 'was', 'not', 'altered', 'by', 'adjusting', 'for', 'the', 'other', 'known', 'risk', 'factors', 'for', 'hereditary', 'ovarian', 'cancer', '(', '5', ')', '.', 'Susceptibility', 'to', 'breast', 'cancer', 'did', 'not', 'appear', 'to', 'be', 'affected', 'by', 'the', 'presence', 'of', 'rare', 'HRAS1', 'alleles', '.', 'This', 'study', 'is', 'the', 'first', 'to', 'show', 'the', 'effect', 'of', 'a', 'modifying', 'gene', 'on', 'the', 'penetrance', 'of', 'an', 'inherited', 'cancer', 'syndrome']\n",
      "[NeMo I 2021-08-07 12:06:03 text_classification_dataset:240] subtokens: [CLS] o ##var ##ian cancer risk in br ##ca ##1 carriers is modified by the hr ##as ##1 variable number of tandem repeat ( v ##nt ##r ) locus . women who carry a mutation in the br ##ca ##1 gene ( on chromosome 17 ##q ##21 ) , have an 80 % risk of breast cancer and a 40 % risk of o ##var ##ian cancer by the age of 70 ( ref . 1 ) . the variable pen ##et ##rance of br ##ca ##1 suggests that other genetic and non - genetic factors play a role in tu ##mour ##igen ##esis in these individuals . the hr ##as ##1 variable number of tandem repeats ( v ##nt ##r ) poly ##morphism , located 1 ki [SEP]\n",
      "[NeMo I 2021-08-07 12:06:03 text_classification_dataset:241] input_ids: 101 1051 10755 2937 4456 3891 1999 7987 3540 2487 11363 2003 6310 2011 1996 17850 3022 2487 8023 2193 1997 18231 9377 1006 1058 3372 2099 1007 25206 1012 2308 2040 4287 1037 16221 1999 1996 7987 3540 2487 4962 1006 2006 16706 2459 4160 17465 1007 1010 2031 2019 3770 1003 3891 1997 7388 4456 1998 1037 2871 1003 3891 1997 1051 10755 2937 4456 2011 1996 2287 1997 3963 1006 25416 1012 1015 1007 1012 1996 8023 7279 3388 21621 1997 7987 3540 2487 6083 2008 2060 7403 1998 2512 1011 7403 5876 2377 1037 2535 1999 10722 20360 29206 19009 1999 2122 3633 1012 1996 17850 3022 2487 8023 2193 1997 18231 17993 1006 1058 3372 2099 1007 26572 19539 1010 2284 1015 11382 102\n",
      "[NeMo I 2021-08-07 12:06:03 text_classification_dataset:242] segment_ids: 0 0 0 0 0 0 0 0 0 0 0 0 0 0 0 0 0 0 0 0 0 0 0 0 0 0 0 0 0 0 0 0 0 0 0 0 0 0 0 0 0 0 0 0 0 0 0 0 0 0 0 0 0 0 0 0 0 0 0 0 0 0 0 0 0 0 0 0 0 0 0 0 0 0 0 0 0 0 0 0 0 0 0 0 0 0 0 0 0 0 0 0 0 0 0 0 0 0 0 0 0 0 0 0 0 0 0 0 0 0 0 0 0 0 0 0 0 0 0 0 0 0 0 0 0 0 0 0 0\n",
      "[NeMo I 2021-08-07 12:06:03 text_classification_dataset:243] input_mask: 1 1 1 1 1 1 1 1 1 1 1 1 1 1 1 1 1 1 1 1 1 1 1 1 1 1 1 1 1 1 1 1 1 1 1 1 1 1 1 1 1 1 1 1 1 1 1 1 1 1 1 1 1 1 1 1 1 1 1 1 1 1 1 1 1 1 1 1 1 1 1 1 1 1 1 1 1 1 1 1 1 1 1 1 1 1 1 1 1 1 1 1 1 1 1 1 1 1 1 1 1 1 1 1 1 1 1 1 1 1 1 1 1 1 1 1 1 1 1 1 1 1 1 1 1 1 1 1 1\n",
      "[NeMo I 2021-08-07 12:06:03 text_classification_dataset:244] label: 0\n",
      "[NeMo W 2021-08-07 12:06:04 text_classification_dataset:250] Found 99 out of 100 sentences with more than 128 subtokens. Truncated long sentences from the end.\n",
      "[NeMo I 2021-08-07 12:06:04 data_preprocessing:299] Some stats of the lengths of the sequences:\n",
      "[NeMo I 2021-08-07 12:06:04 data_preprocessing:301] Min: 120 |                  Max: 129 |                  Mean: 128.91 |                  Median: 129.0\n",
      "[NeMo I 2021-08-07 12:06:04 data_preprocessing:307] 75 percentile: 129.00\n",
      "[NeMo I 2021-08-07 12:06:04 data_preprocessing:308] 99 percentile: 129.00\n",
      "[NeMo I 2021-08-07 12:06:04 text_classification_dataset:120] Read 10 examples from /dli/task/data/NCBI_tc-3/test_nemo_format.tsv.\n",
      "[NeMo I 2021-08-07 12:06:04 text_classification_dataset:238] *** Example ***\n",
      "[NeMo I 2021-08-07 12:06:04 text_classification_dataset:239] example 0: ['Clustering', 'of', 'missense', 'mutations', 'in', 'the', 'ataxia-telangiectasia', 'gene', 'in', 'a', 'sporadic', 'T-cell', 'leukaemia.', 'Ataxia-telangiectasia', '(', 'A-T', ')', 'is', 'a', 'recessive', 'multi-system', 'disorder', 'caused', 'by', 'mutations', 'in', 'the', 'ATM', 'gene', 'at', '11q22-q23', '(', 'ref', '.', '3', ')', '.', 'The', 'risk', 'of', 'cancer', ',', 'especially', 'lymphoid', 'neoplasias', ',', 'is', 'substantially', 'elevated', 'in', 'A-T', 'patients', 'and', 'has', 'long', 'been', 'associated', 'with', 'chromosomal', 'instability', '.', 'By', 'analysing', 'tumour', 'DNA', 'from', 'patients', 'with', 'sporadic', 'T-cell', 'prolymphocytic', 'leukaemia', '(', 'T-PLL', ')', ',', 'a', 'rare', 'clonal', 'malignancy', 'with', 'similarities', 'to', 'a', 'mature', 'T-cell', 'leukaemia', 'seen', 'in', 'A-T', ',', 'we', 'demonstrate', 'a', 'high', 'frequency', 'of', 'ATM', 'mutations', 'in', 'T-PLL', '.', 'In', 'marked', 'contrast', 'to', 'the', 'ATM', 'mutation', 'pattern', 'in', 'A-T', ',', 'the', 'most', 'frequent', 'nucleotide', 'changes', 'in', 'this', 'leukaemia', 'were', 'missense', 'mutations', '.', 'These', 'clustered', 'in', 'the', 'region', 'corresponding', 'to', 'the', 'kinase', 'domain', ',', 'which', 'is', 'highly', 'conserved', 'in', 'ATM-related', 'proteins', 'in', 'mouse', ',', 'yeast', 'and', 'Drosophila', '.', 'The', 'resulting', 'amino-acid', 'substitutions', 'are', 'predicted', 'to', 'interfere', 'with', 'ATP', 'binding', 'or', 'substrate', 'recognition', '.', 'Two', 'of', 'seventeen', 'mutated', 'T-PLL', 'samples', 'had', 'a', 'previously', 'reported', 'A-T', 'allele', '.', 'In', 'contrast', ',', 'no', 'mutations', 'were', 'detected', 'in', 'the', 'p53', 'gene', ',', 'suggesting', 'that', 'this', 'tumour', 'suppressor', 'is', 'not', 'frequently', 'altered', 'in', 'this', 'leukaemia', '.', 'Occasional', 'missense', 'mutations', 'in', 'ATM', 'were', 'also', 'found', 'in', 'tumour', 'DNA', 'from', 'patients', 'with', 'B-cell', 'non-Hodgkins', 'lymphomas', '(', 'B-NHL', ')', 'and', 'a', 'B-NHL', 'cell', 'line', '.', 'The', 'evidence', 'of', 'a', 'significant', 'proportion', 'of', 'loss-of-function', 'mutations', 'and', 'a', 'complete', 'absence', 'of', 'the', 'normal', 'copy', 'of', 'ATM', 'in', 'the', 'majority', 'of', 'mutated', 'tumours', 'establishes', 'somatic', 'inactivation', 'of', 'this', 'gene', 'in', 'the', 'pathogenesis', 'of', 'sporadic', 'T-PLL', 'and', 'suggests', 'that', 'ATM', 'acts', 'as', 'a', 'tumour', 'suppressor', '.', 'As', 'constitutional', 'DNA', 'was', 'not', 'available', ',', 'a', 'putative', 'hereditary', 'predisposition', 'to', 'T-PLL', 'will', 'require', 'further', 'investigation', '.', '.']\n",
      "[NeMo I 2021-08-07 12:06:04 text_classification_dataset:240] subtokens: [CLS] cluster ##ing of miss ##ense mutations in the ata ##xia - tel ##ang ##iec ##tas ##ia gene in a sporadic t - cell le ##uka ##emia . ata ##xia - tel ##ang ##iec ##tas ##ia ( a - t ) is a recess ##ive multi - system disorder caused by mutations in the atm gene at 11 ##q ##22 - q ##23 ( ref . 3 ) . the risk of cancer , especially l ##ym ##ph ##oid neo ##pl ##asia ##s , is substantially elevated in a - t patients and has long been associated with ch ##rom ##osomal instability . by anal ##ys ##ing tu ##mour dna from patients with sporadic t - cell pro ##ly ##mp ##ho ##cy ##tic le ##uka ##emia ( t [SEP]\n",
      "[NeMo I 2021-08-07 12:06:04 text_classification_dataset:241] input_ids: 101 9324 2075 1997 3335 16700 14494 1999 1996 29533 14787 1011 10093 5654 23783 10230 2401 4962 1999 1037 24590 1056 1011 3526 3393 15750 17577 1012 29533 14787 1011 10093 5654 23783 10230 2401 1006 1037 1011 1056 1007 2003 1037 28290 3512 4800 1011 2291 8761 3303 2011 14494 1999 1996 27218 4962 2012 2340 4160 19317 1011 1053 21926 1006 25416 1012 1017 1007 1012 1996 3891 1997 4456 1010 2926 1048 24335 8458 9314 9253 24759 15396 2015 1010 2003 12381 8319 1999 1037 1011 1056 5022 1998 2038 2146 2042 3378 2007 10381 21716 27642 18549 1012 2011 20302 7274 2075 10722 20360 6064 2013 5022 2007 24590 1056 1011 3526 4013 2135 8737 6806 5666 4588 3393 15750 17577 1006 1056 102\n",
      "[NeMo I 2021-08-07 12:06:04 text_classification_dataset:242] segment_ids: 0 0 0 0 0 0 0 0 0 0 0 0 0 0 0 0 0 0 0 0 0 0 0 0 0 0 0 0 0 0 0 0 0 0 0 0 0 0 0 0 0 0 0 0 0 0 0 0 0 0 0 0 0 0 0 0 0 0 0 0 0 0 0 0 0 0 0 0 0 0 0 0 0 0 0 0 0 0 0 0 0 0 0 0 0 0 0 0 0 0 0 0 0 0 0 0 0 0 0 0 0 0 0 0 0 0 0 0 0 0 0 0 0 0 0 0 0 0 0 0 0 0 0 0 0 0 0 0 0\n",
      "[NeMo I 2021-08-07 12:06:04 text_classification_dataset:243] input_mask: 1 1 1 1 1 1 1 1 1 1 1 1 1 1 1 1 1 1 1 1 1 1 1 1 1 1 1 1 1 1 1 1 1 1 1 1 1 1 1 1 1 1 1 1 1 1 1 1 1 1 1 1 1 1 1 1 1 1 1 1 1 1 1 1 1 1 1 1 1 1 1 1 1 1 1 1 1 1 1 1 1 1 1 1 1 1 1 1 1 1 1 1 1 1 1 1 1 1 1 1 1 1 1 1 1 1 1 1 1 1 1 1 1 1 1 1 1 1 1 1 1 1 1 1 1 1 1 1 1\n",
      "[NeMo I 2021-08-07 12:06:04 text_classification_dataset:244] label: 0\n",
      "[NeMo I 2021-08-07 12:06:04 text_classification_dataset:238] *** Example ***\n",
      "[NeMo I 2021-08-07 12:06:04 text_classification_dataset:239] example 1: ['Myotonic', 'dystrophy', 'protein', 'kinase', 'is', 'involved', 'in', 'the', 'modulation', 'of', 'the', 'Ca2+', 'homeostasis', 'in', 'skeletal', 'muscle', 'cells.', 'Myotonic', 'dystrophy', '(', 'DM', ')', ',', 'the', 'most', 'prevalent', 'muscular', 'disorder', 'in', 'adults', ',', 'is', 'caused', 'by', '(', 'CTG', ')', 'n-repeat', 'expansion', 'in', 'a', 'gene', 'encoding', 'a', 'protein', 'kinase', '(', 'DM', 'protein', 'kinase', ';', 'DMPK', ')', 'and', 'involves', 'changes', 'in', 'cytoarchitecture', 'and', 'ion', 'homeostasis', '.', 'To', 'obtain', 'clues', 'to', 'the', 'normal', 'biological', 'role', 'of', 'DMPK', 'in', 'cellular', 'ion', 'homeostasis', ',', 'we', 'have', 'compared', 'the', 'resting', '[', 'Ca2', '+', ']', 'i', ',', 'the', 'amplitude', 'and', 'shape', 'of', 'depolarization-induced', 'Ca2', '+', 'transients', ',', 'and', 'the', 'content', 'of', 'ATP-driven', 'ion', 'pumps', 'in', 'cultured', 'skeletal', 'muscle', 'cells', 'of', 'wild-type', 'and', 'DMPK', '[', '-', '/', '-', ']', 'knockout', 'mice', '.', 'In', 'vitro-differentiated', 'DMPK', '[', '-', '/', '-', ']', 'myotubes', 'exhibit', 'a', 'higher', 'resting', '[', 'Ca2', '+', ']', 'i', 'than', 'do', 'wild-type', 'myotubes', 'because', 'of', 'an', 'altered', 'open', 'probability', 'of', 'voltage-dependent', 'l-type', 'Ca2', '+', 'and', 'Na', '+', 'channels', '.', 'The', 'mutant', 'myotubes', 'exhibit', 'smaller', 'and', 'slower', 'Ca2', '+', 'responses', 'upon', 'triggering', 'by', 'acetylcholine', 'or', 'high', 'external', 'K', '+', '.', 'In', 'addition', ',', 'we', 'observed', 'that', 'these', 'Ca2', '+', 'transients', 'partially', 'result', 'from', 'an', 'influx', 'of', 'extracellular', 'Ca2', '+', 'through', 'the', 'l-type', 'Ca2', '+', 'channel', '.', 'Neither', 'the', 'content', 'nor', 'the', 'activity', 'of', 'Na', '+', '/', 'K', '+', 'ATPase', 'and', 'sarcoplasmic', 'reticulum', 'Ca2', '+', '-ATPase', 'are', 'affected', 'by', 'DMPK', 'absence', '.', 'In', 'conclusion', ',', 'our', 'data', 'suggest', 'that', 'DMPK', 'is', 'involved', 'in', 'modulating', 'the', 'initial', 'events', 'of', 'excitation-contraction', 'coupling', 'in', 'skeletal', 'muscle', '.', '.']\n",
      "[NeMo I 2021-08-07 12:06:04 text_classification_dataset:240] subtokens: [CLS] my ##oton ##ic d ##yst ##rop ##hy protein kinase is involved in the modulation of the ca ##2 + home ##osta ##sis in skeletal muscle cells . my ##oton ##ic d ##yst ##rop ##hy ( d ##m ) , the most prevalent muscular disorder in adults , is caused by ( ct ##g ) n - repeat expansion in a gene encoding a protein kinase ( d ##m protein kinase ; d ##mp ##k ) and involves changes in cy ##to ##ar ##chi ##tec ##ture and ion home ##osta ##sis . to obtain clues to the normal biological role of d ##mp ##k in cellular ion home ##osta ##sis , we have compared the resting [ ca ##2 + ] i , the amplitude and shape of [SEP]\n",
      "[NeMo I 2021-08-07 12:06:04 text_classification_dataset:241] input_ids: 101 2026 25862 2594 1040 27268 18981 10536 5250 21903 2003 2920 1999 1996 25502 1997 1996 6187 2475 1009 2188 28696 6190 1999 20415 6740 4442 1012 2026 25862 2594 1040 27268 18981 10536 1006 1040 2213 1007 1010 1996 2087 15157 13472 8761 1999 6001 1010 2003 3303 2011 1006 14931 2290 1007 1050 1011 9377 4935 1999 1037 4962 17181 1037 5250 21903 1006 1040 2213 5250 21903 1025 1040 8737 2243 1007 1998 7336 3431 1999 22330 3406 2906 5428 26557 11244 1998 10163 2188 28696 6190 1012 2000 6855 15774 2000 1996 3671 6897 2535 1997 1040 8737 2243 1999 12562 10163 2188 28696 6190 1010 2057 2031 4102 1996 8345 1031 6187 2475 1009 1033 1045 1010 1996 22261 1998 4338 1997 102\n",
      "[NeMo I 2021-08-07 12:06:04 text_classification_dataset:242] segment_ids: 0 0 0 0 0 0 0 0 0 0 0 0 0 0 0 0 0 0 0 0 0 0 0 0 0 0 0 0 0 0 0 0 0 0 0 0 0 0 0 0 0 0 0 0 0 0 0 0 0 0 0 0 0 0 0 0 0 0 0 0 0 0 0 0 0 0 0 0 0 0 0 0 0 0 0 0 0 0 0 0 0 0 0 0 0 0 0 0 0 0 0 0 0 0 0 0 0 0 0 0 0 0 0 0 0 0 0 0 0 0 0 0 0 0 0 0 0 0 0 0 0 0 0 0 0 0 0 0 0\n",
      "[NeMo I 2021-08-07 12:06:04 text_classification_dataset:243] input_mask: 1 1 1 1 1 1 1 1 1 1 1 1 1 1 1 1 1 1 1 1 1 1 1 1 1 1 1 1 1 1 1 1 1 1 1 1 1 1 1 1 1 1 1 1 1 1 1 1 1 1 1 1 1 1 1 1 1 1 1 1 1 1 1 1 1 1 1 1 1 1 1 1 1 1 1 1 1 1 1 1 1 1 1 1 1 1 1 1 1 1 1 1 1 1 1 1 1 1 1 1 1 1 1 1 1 1 1 1 1 1 1 1 1 1 1 1 1 1 1 1 1 1 1 1 1 1 1 1 1\n",
      "[NeMo I 2021-08-07 12:06:04 text_classification_dataset:244] label: 1\n",
      "[NeMo W 2021-08-07 12:06:04 text_classification_dataset:250] Found 10 out of 10 sentences with more than 128 subtokens. Truncated long sentences from the end.\n",
      "[NeMo I 2021-08-07 12:06:04 data_preprocessing:299] Some stats of the lengths of the sequences:\n",
      "[NeMo I 2021-08-07 12:06:04 data_preprocessing:301] Min: 129 |                  Max: 129 |                  Mean: 129.0 |                  Median: 129.0\n",
      "[NeMo I 2021-08-07 12:06:04 data_preprocessing:307] 75 percentile: 129.00\n",
      "[NeMo I 2021-08-07 12:06:04 data_preprocessing:308] 99 percentile: 129.00\n",
      "[NeMo W 2021-08-07 12:06:04 modelPT:197] You tried to register an artifact under config key=tokenizer.vocab_file but an artifact forit has already been registered.\n",
      "[NeMo W 2021-08-07 12:06:04 nemo_logging:349] /opt/conda/lib/python3.8/site-packages/nemo/core/classes/modelPT.py:243: UserWarning: update_node() is deprecated, use OmegaConf.update(). (Since 2.0)\n",
      "      self.cfg.update_node(config_path, return_path)\n",
      "    \n",
      "Some weights of the model checkpoint at bert-base-uncased were not used when initializing BertModel: ['cls.predictions.transform.LayerNorm.bias', 'cls.predictions.bias', 'cls.predictions.transform.dense.weight', 'cls.seq_relationship.bias', 'cls.predictions.transform.dense.bias', 'cls.predictions.transform.LayerNorm.weight', 'cls.seq_relationship.weight', 'cls.predictions.decoder.weight']\n",
      "- This IS expected if you are initializing BertModel from the checkpoint of a model trained on another task or with another architecture (e.g. initializing a BertForSequenceClassification model from a BertForPreTraining model).\n",
      "- This IS NOT expected if you are initializing BertModel from the checkpoint of a model that you expect to be exactly identical (initializing a BertForSequenceClassification model from a BertForSequenceClassification model).\n",
      "Some weights of the model checkpoint at bert-base-uncased were not used when initializing BertEncoder: ['cls.predictions.transform.LayerNorm.bias', 'cls.predictions.bias', 'cls.predictions.transform.dense.weight', 'cls.seq_relationship.bias', 'cls.predictions.transform.dense.bias', 'cls.predictions.transform.LayerNorm.weight', 'cls.seq_relationship.weight', 'cls.predictions.decoder.weight']\n",
      "- This IS expected if you are initializing BertEncoder from the checkpoint of a model trained on another task or with another architecture (e.g. initializing a BertForSequenceClassification model from a BertForPreTraining model).\n",
      "- This IS NOT expected if you are initializing BertEncoder from the checkpoint of a model that you expect to be exactly identical (initializing a BertForSequenceClassification model from a BertForSequenceClassification model).\n",
      "[NeMo I 2021-08-07 12:06:08 text_classification_with_bert:118] ===========================================================================================\n",
      "[NeMo I 2021-08-07 12:06:08 text_classification_with_bert:119] Starting training...\n",
      "LOCAL_RANK: 0 - CUDA_VISIBLE_DEVICES: [0]\n",
      "[NeMo I 2021-08-07 12:06:08 modelPT:748] Optimizer config = Adam (\n",
      "    Parameter Group 0\n",
      "        amsgrad: False\n",
      "        betas: [0.9, 0.999]\n",
      "        eps: 1e-08\n",
      "        lr: 2e-05\n",
      "        weight_decay: 0.01\n",
      "    )\n",
      "[NeMo I 2021-08-07 12:06:08 lr_scheduler:617] Scheduler \"<nemo.core.optim.lr_scheduler.WarmupAnnealing object at 0x7f6a8dd32400>\" \n",
      "    will be used during training (effective maximum steps = 33) - \n",
      "    Parameters : \n",
      "    (warmup_steps: null\n",
      "    warmup_ratio: 0.1\n",
      "    last_epoch: -1\n",
      "    max_steps: 33\n",
      "    )\n",
      "initializing ddp: GLOBAL_RANK: 0, MEMBER: 1/1\n",
      "Added key: store_based_barrier_key:1 to store for rank: 0\n",
      "\n",
      "  | Name                  | Type                 | Params\n",
      "---------------------------------------------------------------\n",
      "0 | loss                  | CrossEntropyLoss     | 0     \n",
      "1 | bert_model            | BertEncoder          | 109 M \n",
      "2 | classifier            | SequenceClassifier   | 592 K \n",
      "3 | classification_report | ClassificationReport | 0     \n",
      "---------------------------------------------------------------\n",
      "110 M     Trainable params\n",
      "0         Non-trainable params\n",
      "110 M     Total params\n",
      "440.301   Total estimated model params size (MB)\n",
      "Epoch 0:  85%|▊| 11/13 [00:05<00:00,  2.10it/s, loss=1.05, v_num=5-51, lr=1.6e-5\n",
      "Validating: 0it [00:00, ?it/s]\u001b[A\n",
      "Validating:   0%|                                         | 0/2 [00:00<?, ?it/s]\u001b[A\n",
      "Epoch 0: 100%|█| 13/13 [00:05<00:00,  2.34it/s, loss=1.05, v_num=5-51, lr=1.6e-5\u001b[A[NeMo I 2021-08-07 12:06:16 text_classification_model:165] val_report: \n",
      "    label                                                precision    recall       f1           support   \n",
      "    label_id: 0                                              0.00       0.00       0.00         32\n",
      "    label_id: 1                                              0.00       0.00       0.00         24\n",
      "    label_id: 2                                             44.00     100.00      61.11         44\n",
      "    -------------------\n",
      "    micro avg                                               44.00      44.00      44.00        100\n",
      "    macro avg                                               14.67      33.33      20.37        100\n",
      "    weighted avg                                            19.36      44.00      26.89        100\n",
      "    \n",
      "Epoch 0: 100%|█| 13/13 [00:05<00:00,  2.28it/s, loss=1.05, v_num=5-51, lr=1.53e-\n",
      "                                                                                \u001b[AEpoch 0, global step 10: val_loss reached 1.09220 (best 1.09220), saving model to \"/dli/task/nemo_experiments/TextClassification/2021-08-07_12-05-51/checkpoints/TextClassification--val_loss=1.09-epoch=0.ckpt\" as top 3\n",
      "Epoch 1:  92%|▉| 12/13 [00:04<00:00,  2.53it/s, loss=1.01, v_num=5-51, lr=8.67e-\n",
      "Validating: 0it [00:00, ?it/s]\u001b[A\n",
      "Validating:   0%|                                         | 0/2 [00:00<?, ?it/s]\u001b[A\n",
      "Validating:  50%|████████████████▌                | 1/2 [00:00<00:00,  3.03it/s]\u001b[A[NeMo I 2021-08-07 12:06:27 text_classification_model:165] val_report: \n",
      "    label                                                precision    recall       f1           support   \n",
      "    label_id: 0                                              0.00       0.00       0.00         32\n",
      "    label_id: 1                                              0.00       0.00       0.00         24\n",
      "    label_id: 2                                             44.00     100.00      61.11         44\n",
      "    -------------------\n",
      "    micro avg                                               44.00      44.00      44.00        100\n",
      "    macro avg                                               14.67      33.33      20.37        100\n",
      "    weighted avg                                            19.36      44.00      26.89        100\n",
      "    \n",
      "Epoch 1: 100%|█| 13/13 [00:05<00:00,  2.49it/s, loss=1.01, v_num=5-51, lr=8e-6, \n",
      "                                                                                \u001b[AEpoch 1, global step 21: val_loss reached 1.10643 (best 1.09220), saving model to \"/dli/task/nemo_experiments/TextClassification/2021-08-07_12-05-51/checkpoints/TextClassification--val_loss=1.11-epoch=1.ckpt\" as top 3\n",
      "Epoch 2:  92%|▉| 12/13 [00:04<00:00,  2.54it/s, loss=0.985, v_num=5-51, lr=1.33e\n",
      "Validating: 0it [00:00, ?it/s]\u001b[A\n",
      "Validating:   0%|                                         | 0/2 [00:00<?, ?it/s]\u001b[A\n",
      "Validating:  50%|████████████████▌                | 1/2 [00:00<00:00,  3.17it/s]\u001b[A[NeMo I 2021-08-07 12:06:39 text_classification_model:165] val_report: \n",
      "    label                                                precision    recall       f1           support   \n",
      "    label_id: 0                                              0.00       0.00       0.00         32\n",
      "    label_id: 1                                              0.00       0.00       0.00         24\n",
      "    label_id: 2                                             44.00     100.00      61.11         44\n",
      "    -------------------\n",
      "    micro avg                                               44.00      44.00      44.00        100\n",
      "    macro avg                                               14.67      33.33      20.37        100\n",
      "    weighted avg                                            19.36      44.00      26.89        100\n",
      "    \n",
      "Epoch 2: 100%|█| 13/13 [00:05<00:00,  2.50it/s, loss=0.985, v_num=5-51, lr=6.67e\n",
      "                                                                                \u001b[AEpoch 2, global step 32: val_loss reached 1.10211 (best 1.09220), saving model to \"/dli/task/nemo_experiments/TextClassification/2021-08-07_12-05-51/checkpoints/TextClassification--val_loss=1.10-epoch=2.ckpt\" as top 3\n",
      "Saving latest checkpoint...\n",
      "Epoch 2: 100%|█| 13/13 [00:11<00:00,  1.11it/s, loss=0.985, v_num=5-51, lr=6.67e\n",
      "[NeMo W 2021-08-07 12:06:46 nemo_logging:349] /opt/conda/lib/python3.8/site-packages/nemo/core/classes/modelPT.py:308: UserWarning: update_node() is deprecated, use OmegaConf.update(). (Since 2.0)\n",
      "      conf.update_node(conf_path, item.path)\n",
      "    \n",
      "[NeMo I 2021-08-07 12:07:11 text_classification_with_bert:121] Training finished!\n",
      "[NeMo I 2021-08-07 12:07:11 text_classification_with_bert:122] ===========================================================================================\n",
      "[NeMo I 2021-08-07 12:07:37 text_classification_with_bert:127] Model is saved into `.nemo` file: text_classification_model.nemo\n",
      "[NeMo I 2021-08-07 12:07:37 text_classification_with_bert:131] ===========================================================================================\n",
      "[NeMo I 2021-08-07 12:07:37 text_classification_with_bert:132] Starting the testing of the trained model on test set...\n",
      "LOCAL_RANK: 0 - CUDA_VISIBLE_DEVICES: [0]\n",
      "Testing: 100%|████████████████████████████████████| 1/1 [00:00<00:00,  4.22it/s][NeMo I 2021-08-07 12:07:38 text_classification_model:165] test_report: \n",
      "    label                                                precision    recall       f1           support   \n",
      "    label_id: 0                                              0.00       0.00       0.00          4\n",
      "    label_id: 1                                              0.00       0.00       0.00          2\n",
      "    label_id: 2                                             40.00     100.00      57.14          4\n",
      "    -------------------\n",
      "    micro avg                                               40.00      40.00      40.00         10\n",
      "    macro avg                                               13.33      33.33      19.05         10\n",
      "    weighted avg                                            16.00      40.00      22.86         10\n",
      "    \n",
      "Testing: 100%|████████████████████████████████████| 1/1 [00:00<00:00,  3.24it/s]\n",
      "[NeMo I 2021-08-07 12:07:38 text_classification_with_bert:134] Testing finished!\n",
      "[NeMo I 2021-08-07 12:07:38 text_classification_with_bert:135] ===========================================================================================\n",
      "[NeMo I 2021-08-07 12:07:38 text_classification_with_bert:139] ===========================================================================================\n",
      "[NeMo I 2021-08-07 12:07:38 text_classification_with_bert:140] Starting the inference on some sample queries...\n",
      "[NeMo I 2021-08-07 12:07:38 text_classification_with_bert:144] The prediction results of some sample queries with the trained model:\n",
      "[NeMo I 2021-08-07 12:07:38 text_classification_with_bert:146] Query : In contrast no mutations were detected in the p53 gene suggesting that this tumour suppressor is not frequently altered in this leukaemia\n",
      "[NeMo I 2021-08-07 12:07:38 text_classification_with_bert:147] Predicted label: 2\n",
      "[NeMo I 2021-08-07 12:07:38 text_classification_with_bert:146] Query : The first predictive testing for Huntington disease  was based on analysis of linked polymorphic DNA markers to estimate the likelihood of inheriting the mutation for HD\n",
      "[NeMo I 2021-08-07 12:07:38 text_classification_with_bert:147] Predicted label: 2\n",
      "[NeMo I 2021-08-07 12:07:38 text_classification_with_bert:146] Query : Further studies suggested that low dilutions of C5D serum contain a factor or factors interfering at some step in the hemolytic assay of C5 rather than a true C5 inhibitor or inactivator\n",
      "[NeMo I 2021-08-07 12:07:38 text_classification_with_bert:147] Predicted label: 2\n",
      "[NeMo I 2021-08-07 12:07:38 text_classification_with_bert:149] Inference finished!\n",
      "[NeMo I 2021-08-07 12:07:38 text_classification_with_bert:150] ===========================================================================================\n",
      "CPU times: user 1.54 s, sys: 552 ms, total: 2.09 s\n",
      "Wall time: 1min 52s\n"
     ]
    }
   ],
   "source": [
    "%%time\n",
    "# The training takes about 2 minutes to run\n",
    "\n",
    "TC_DIR = \"/dli/task/nemo/examples/nlp/text_classification\"\n",
    "\n",
    "# set the values we want to override\n",
    "NUM_CLASSES = 3\n",
    "MAX_SEQ_LENGTH = 128\n",
    "PATH_TO_TRAIN_FILE = \"/dli/task/data/NCBI_tc-3/train_nemo_format.tsv\"\n",
    "PATH_TO_VAL_FILE = \"/dli/task/data/NCBI_tc-3/dev_nemo_format.tsv\"\n",
    "PATH_TO_TEST_FILE = \"/dli/task/data/NCBI_tc-3/test_nemo_format.tsv\"\n",
    "# disease domain inference sample answers should be 0, 1, 2 \n",
    "INFER_SAMPLES_0 = \"In contrast no mutations were detected in the p53 gene suggesting that this tumour suppressor is not frequently altered in this leukaemia \"\n",
    "INFER_SAMPLES_1 = \"The first predictive testing for Huntington disease  was based on analysis of linked polymorphic DNA markers to estimate the likelihood of inheriting the mutation for HD\"\n",
    "INFER_SAMPLES_2 = \"Further studies suggested that low dilutions of C5D serum contain a factor or factors interfering at some step in the hemolytic assay of C5 rather than a true C5 inhibitor or inactivator\"\n",
    "MAX_EPOCHS = 3\n",
    "\n",
    "# Run the training script, overriding the config values in the command line\n",
    "!python $TC_DIR/text_classification_with_bert.py \\\n",
    "        model.dataset.num_classes=$NUM_CLASSES \\\n",
    "        model.dataset.max_seq_length=$MAX_SEQ_LENGTH \\\n",
    "        model.train_ds.file_path=$PATH_TO_TRAIN_FILE \\\n",
    "        model.validation_ds.file_path=$PATH_TO_VAL_FILE \\\n",
    "        model.test_ds.file_path=$PATH_TO_TEST_FILE \\\n",
    "        model.infer_samples=[\"$INFER_SAMPLES_0\",\"$INFER_SAMPLES_1\",\"$INFER_SAMPLES_2\"] \\\n",
    "        trainer.max_epochs=$MAX_EPOCHS"
   ]
  },
  {
   "cell_type": "markdown",
   "metadata": {},
   "source": [
    "At the start of each training experiment, there is a printed log of the experiment specification including any parameters added or overridden via the command-line. It also shows additional information, such as which GPUs are available, where logs are saved, and some samples from the datasets with their corresponding inputs to the model. The log also provides some stats on the lengths of sequences in the dataset.\n",
    "\n",
    "After each epoch, there is a summary table of metrics on the validation set which includes precision, recall, and f1 score. The f1 score takes both false positives and false negatives into account and is considered more useful than simple accuracy. \n",
    "\n",
    "At the end of training, NeMo saves the last checkpoint at the path specified by `model.nemo_file_path`.  Since we left this value at the default, it should have been written to our workspace in `.nemo` format."
   ]
  },
  {
   "cell_type": "code",
   "execution_count": 15,
   "metadata": {},
   "outputs": [
    {
     "name": "stdout",
     "output_type": "stream",
     "text": [
      "text_classification_model.nemo\n"
     ]
    }
   ],
   "source": [
    "!ls *.nemo"
   ]
  },
  {
   "cell_type": "markdown",
   "metadata": {},
   "source": [
    "The results you achieved in the experiment may not have been very good.  However, it is pretty easy to try another experiment with just a few changes.  Longer training, adjusted learning rate, and changing the batch size for the training and validation datasets can improve results."
   ]
  },
  {
   "cell_type": "markdown",
   "metadata": {},
   "source": [
    "## 2.2.4 Exercise: Run an Experiment\n",
    "Try running another similar experiment using the same text classification problem, this time with some suggested improvements:\n",
    "  \n",
    "* Set the mixed-precision `amp_level` to \"O1\" with a `precision` of 16 to make the model run faster with little or no reduction in accuracy.\n",
    "* Adjust the number of epochs upward a bit to improve results (larger `max_epochs`)\n",
    "* Increase the learning rate a little to allow more rapid response to the estimated error each time the model weights are updated\n",
    "\n",
    "The new values have been provided for you in the cell below.  Add the command with appropriate overrides and run the cell.  If you get stuck, refer to the [solution](solutions/ex2.2.4.ipynb)."
   ]
  },
  {
   "cell_type": "code",
   "execution_count": 19,
   "metadata": {
    "scrolled": true,
    "tags": []
   },
   "outputs": [
    {
     "name": "stdout",
     "output_type": "stream",
     "text": [
      "CPU times: user 0 ns, sys: 0 ns, total: 0 ns\n",
      "Wall time: 12.2 µs\n"
     ]
    }
   ],
   "source": [
    "%%time\n",
    "# The training takes about 2 minutes to run\n",
    "\n",
    "TC_DIR = \"/dli/task/nemo/examples/nlp/text_classification\"\n",
    "\n",
    "# set the values we want to override\n",
    "NUM_CLASSES = 3\n",
    "MAX_SEQ_LENGTH = 128\n",
    "PATH_TO_TRAIN_FILE = \"/dli/task/data/NCBI_tc-3/train_nemo_format.tsv\"\n",
    "PATH_TO_VAL_FILE = \"/dli/task/data/NCBI_tc-3/dev_nemo_format.tsv\"\n",
    "PATH_TO_TEST_FILE = \"/dli/task/data/NCBI_tc-3/test_nemo_format.tsv\"\n",
    "# disease domain inference sample answers should be 0, 1, 2 \n",
    "INFER_SAMPLES_0 = \"In contrast no mutations were detected in the p53 gene suggesting that this tumour suppressor is not frequently altered in this leukaemia \"\n",
    "INFER_SAMPLES_1 = \"The first predictive testing for Huntington disease  was based on analysis of linked polymorphic DNA markers to estimate the likelihood of inheriting the mutation for HD\"\n",
    "INFER_SAMPLES_2 = \"Further studies suggested that low dilutions of C5D serum contain a factor or factors interfering at some step in the hemolytic assay of C5 rather than a true C5 inhibitor or inactivator\"\n",
    "MAX_EPOCHS = 5\n",
    "AMP_LEVEL = 'O1'\n",
    "PRECISION = 16\n",
    "LR = 5.0e-05\n",
    "\n",
    "# Override the config values in the command line\n",
    "# FIXME"
   ]
  },
  {
   "cell_type": "markdown",
   "metadata": {},
   "source": [
    "How did the result from this experiment compare to the previous one?  Check the F1 scores and inference results in the output."
   ]
  },
  {
   "cell_type": "markdown",
   "metadata": {},
   "source": [
    "## 2.2.5 Visualize the Results with TensorBoard\n",
    "The [experiment manager](https://docs.nvidia.com/deeplearning/nemo/user-guide/docs/en/stable/core/core.html?highlight=tensorboard#experiment-manager) saves results for viewing with TensorBoard. Execute the following cell to create a link to TensorBoard for your instance, then click on the link to open Tensorboard in a tab on your browser."
   ]
  },
  {
   "cell_type": "code",
   "execution_count": 20,
   "metadata": {},
   "outputs": [
    {
     "data": {
      "application/javascript": [
       "const href = window.location.hostname +'/tensorboard/';\n",
       "let a = document.createElement('a');\n",
       "let link = document.createTextNode('Open Tensorboard!');\n",
       "a.appendChild(link);\n",
       "a.href = \"http://\" + href;\n",
       "a.style.color = \"navy\"\n",
       "a.target = \"_blank\"\n",
       "element.append(a);\n"
      ],
      "text/plain": [
       "<IPython.core.display.Javascript object>"
      ]
     },
     "metadata": {},
     "output_type": "display_data"
    }
   ],
   "source": [
    "%%js\n",
    "const href = window.location.hostname +'/tensorboard/';\n",
    "let a = document.createElement('a');\n",
    "let link = document.createTextNode('Open Tensorboard!');\n",
    "a.appendChild(link);\n",
    "a.href = \"http://\" + href;\n",
    "a.style.color = \"navy\"\n",
    "a.target = \"_blank\"\n",
    "element.append(a);"
   ]
  },
  {
   "cell_type": "markdown",
   "metadata": {
    "tags": []
   },
   "source": [
    "To compare the performance of the models you've run, select the \"train loss\" scaler.  You can see all the models you've run compared together or select individual models for comparison.  The example below shows the first experiment in orange and the exercise experiment in blue.  You can see that the loss was smaller in the second experiment.\n",
    "\n",
    "<img src=\"images/tensorboard_01.png\" width=1000px>"
   ]
  },
  {
   "cell_type": "markdown",
   "metadata": {},
   "source": [
    "## 2.2.6 Exercise: Change the Language Model\n",
    "So far, you've used the basic `bert-base-uncased` language model, but that is just one of many you could try.  Run the following cell to see what language models are available."
   ]
  },
  {
   "cell_type": "code",
   "execution_count": 21,
   "metadata": {
    "scrolled": true,
    "tags": []
   },
   "outputs": [
    {
     "data": {
      "text/plain": [
       "['megatron-bert-345m-uncased',\n",
       " 'megatron-bert-345m-cased',\n",
       " 'megatron-bert-uncased',\n",
       " 'megatron-bert-cased',\n",
       " 'biomegatron-bert-345m-uncased',\n",
       " 'biomegatron-bert-345m-cased',\n",
       " 'bert-base-uncased',\n",
       " 'bert-large-uncased',\n",
       " 'bert-base-cased',\n",
       " 'bert-large-cased',\n",
       " 'bert-base-multilingual-uncased',\n",
       " 'bert-base-multilingual-cased',\n",
       " 'bert-base-chinese',\n",
       " 'bert-base-german-cased',\n",
       " 'bert-large-uncased-whole-word-masking',\n",
       " 'bert-large-cased-whole-word-masking',\n",
       " 'bert-large-uncased-whole-word-masking-finetuned-squad',\n",
       " 'bert-large-cased-whole-word-masking-finetuned-squad',\n",
       " 'bert-base-cased-finetuned-mrpc',\n",
       " 'bert-base-german-dbmdz-cased',\n",
       " 'bert-base-german-dbmdz-uncased',\n",
       " 'cl-tohoku/bert-base-japanese',\n",
       " 'cl-tohoku/bert-base-japanese-whole-word-masking',\n",
       " 'cl-tohoku/bert-base-japanese-char',\n",
       " 'cl-tohoku/bert-base-japanese-char-whole-word-masking',\n",
       " 'TurkuNLP/bert-base-finnish-cased-v1',\n",
       " 'TurkuNLP/bert-base-finnish-uncased-v1',\n",
       " 'wietsedv/bert-base-dutch-cased',\n",
       " 'distilbert-base-uncased',\n",
       " 'distilbert-base-uncased-distilled-squad',\n",
       " 'distilbert-base-cased',\n",
       " 'distilbert-base-cased-distilled-squad',\n",
       " 'distilbert-base-german-cased',\n",
       " 'distilbert-base-multilingual-cased',\n",
       " 'distilbert-base-uncased-finetuned-sst-2-english',\n",
       " 'roberta-base',\n",
       " 'roberta-large',\n",
       " 'roberta-large-mnli',\n",
       " 'distilroberta-base',\n",
       " 'roberta-base-openai-detector',\n",
       " 'roberta-large-openai-detector',\n",
       " 'albert-base-v1',\n",
       " 'albert-large-v1',\n",
       " 'albert-xlarge-v1',\n",
       " 'albert-xxlarge-v1',\n",
       " 'albert-base-v2',\n",
       " 'albert-large-v2',\n",
       " 'albert-xlarge-v2',\n",
       " 'albert-xxlarge-v2']"
      ]
     },
     "execution_count": 21,
     "metadata": {},
     "output_type": "execute_result"
    }
   ],
   "source": [
    "# complete list of supported BERT-like models\n",
    "from nemo.collections import nlp as nemo_nlp\n",
    "nemo_nlp.modules.get_pretrained_lm_models_list()"
   ]
  },
  {
   "cell_type": "markdown",
   "metadata": {},
   "source": [
    "For this exercise, choose a new language model, such as `megatron-bert-345m-cased`.  \n",
    "\n",
    "You may need to restart the notebook kernal to clear memory.  If you use a large model, other ways to save GPU memory space are to reduce the `batch_size` to 32, 16, or even 8 and reduce the `max_seq_length` to 64. There is no right answer to this exercise.  Rather, this is an opportunity for you to experiment.  Some of the models can take several minutes to run, so feel free to move on to the next notebook and return here when you have time later. If you get stuck, take a look at an example [solution](solutions/ex2.2.6.ipynb).  Be sure to take note of the loss and f1 results with this model, or check TensorBoard for a visualization of the differences."
   ]
  },
  {
   "cell_type": "code",
   "execution_count": 22,
   "metadata": {},
   "outputs": [
    {
     "data": {
      "text/plain": [
       "{'status': 'ok', 'restart': True}"
      ]
     },
     "execution_count": 22,
     "metadata": {},
     "output_type": "execute_result"
    }
   ],
   "source": [
    "# Restart the kernel\n",
    "import IPython\n",
    "app = IPython.Application.instance()\n",
    "app.kernel.do_shutdown(True)"
   ]
  },
  {
   "cell_type": "code",
   "execution_count": 2,
   "metadata": {
    "scrolled": true,
    "tags": []
   },
   "outputs": [
    {
     "name": "stdout",
     "output_type": "stream",
     "text": [
      "[NeMo W 2021-08-07 12:14:38 nemo_logging:349] /opt/conda/lib/python3.8/site-packages/omegaconf/basecontainer.py:225: UserWarning: cfg.pretty() is deprecated and will be removed in a future version.\n",
      "    Use OmegaConf.to_yaml(cfg)\n",
      "    \n",
      "      warnings.warn(\n",
      "    \n",
      "[NeMo I 2021-08-07 12:14:38 text_classification_with_bert:110] \n",
      "    Config Params:\n",
      "    trainer:\n",
      "      gpus: 1\n",
      "      num_nodes: 1\n",
      "      max_epochs: 5\n",
      "      max_steps: null\n",
      "      accumulate_grad_batches: 1\n",
      "      gradient_clip_val: 0.0\n",
      "      amp_level: O1\n",
      "      precision: 16\n",
      "      accelerator: ddp\n",
      "      log_every_n_steps: 1\n",
      "      val_check_interval: 1.0\n",
      "      resume_from_checkpoint: null\n",
      "      num_sanity_val_steps: 0\n",
      "      checkpoint_callback: false\n",
      "      logger: false\n",
      "    model:\n",
      "      nemo_path: text_classification_model.nemo\n",
      "      tokenizer:\n",
      "        tokenizer_name: ${model.language_model.pretrained_model_name}\n",
      "        vocab_file: null\n",
      "        tokenizer_model: null\n",
      "        special_tokens: null\n",
      "      language_model:\n",
      "        pretrained_model_name: megatron-bert-345m-cased\n",
      "        lm_checkpoint: null\n",
      "        config_file: null\n",
      "        config: null\n",
      "      classifier_head:\n",
      "        num_output_layers: 2\n",
      "        fc_dropout: 0.1\n",
      "      class_labels:\n",
      "        class_labels_file: null\n",
      "      dataset:\n",
      "        num_classes: 3\n",
      "        do_lower_case: false\n",
      "        max_seq_length: 64\n",
      "        class_balancing: null\n",
      "        use_cache: false\n",
      "      train_ds:\n",
      "        file_path: /dli/task/data/NCBI_tc-3/train_nemo_format.tsv\n",
      "        batch_size: 32\n",
      "        shuffle: true\n",
      "        num_samples: -1\n",
      "        num_workers: 3\n",
      "        drop_last: false\n",
      "        pin_memory: false\n",
      "      validation_ds:\n",
      "        file_path: /dli/task/data/NCBI_tc-3/dev_nemo_format.tsv\n",
      "        batch_size: 32\n",
      "        shuffle: false\n",
      "        num_samples: -1\n",
      "        num_workers: 3\n",
      "        drop_last: false\n",
      "        pin_memory: false\n",
      "      test_ds:\n",
      "        file_path: /dli/task/data/NCBI_tc-3/test_nemo_format.tsv\n",
      "        batch_size: 32\n",
      "        shuffle: false\n",
      "        num_samples: -1\n",
      "        num_workers: 3\n",
      "        drop_last: false\n",
      "        pin_memory: false\n",
      "      optim:\n",
      "        name: adam\n",
      "        lr: 5.0e-05\n",
      "        betas:\n",
      "        - 0.9\n",
      "        - 0.999\n",
      "        weight_decay: 0.01\n",
      "        sched:\n",
      "          name: WarmupAnnealing\n",
      "          warmup_steps: null\n",
      "          warmup_ratio: 0.1\n",
      "          last_epoch: -1\n",
      "          monitor: val_loss\n",
      "          reduce_on_plateau: false\n",
      "      infer_samples:\n",
      "      - In contrast no mutations were detected in the p53 gene suggesting that this tumour\n",
      "        suppressor is not frequently altered in this leukaemia\n",
      "      - The first predictive testing for Huntington disease  was based on analysis of\n",
      "        linked polymorphic DNA markers to estimate the likelihood of inheriting the mutation\n",
      "        for HD\n",
      "      - Further studies suggested that low dilutions of C5D serum contain a factor or\n",
      "        factors interfering at some step in the hemolytic assay of C5 rather than a true\n",
      "        C5 inhibitor or inactivator\n",
      "    exp_manager:\n",
      "      exp_dir: null\n",
      "      name: TextClassification\n",
      "      create_tensorboard_logger: true\n",
      "      create_checkpoint_callback: true\n",
      "    \n",
      "GPU available: True, used: True\n",
      "TPU available: False, using: 0 TPU cores\n",
      "Using native 16bit precision.\n",
      "[NeMo I 2021-08-07 12:14:39 exp_manager:216] Experiments will be logged at /dli/task/nemo_experiments/TextClassification/2021-08-07_12-14-38\n",
      "[NeMo I 2021-08-07 12:14:39 exp_manager:563] TensorboardLogger has been set up\n",
      "Using bos_token, but it is not set yet.\n",
      "Using eos_token, but it is not set yet.\n",
      "[NeMo I 2021-08-07 12:14:39 text_classification_dataset:120] Read 683 examples from /dli/task/data/NCBI_tc-3/train_nemo_format.tsv.\n",
      "[NeMo I 2021-08-07 12:14:39 text_classification_dataset:238] *** Example ***\n",
      "[NeMo I 2021-08-07 12:14:39 text_classification_dataset:239] example 0: ['Genetics', 'of', 'cerebrotendinous', 'xanthomatosis', '(CTX):', 'an', 'autosomal', 'recessive', 'trait', 'with', 'high', 'gene', 'frequency', 'in', 'Sephardim', 'of', 'Moroccan', 'origin.', 'We', 'described', '6', 'patients', '(', 'from', '3', 'families', ')', 'affected', 'with', 'cerebrotendinous', 'xanthomatosis', '(', 'CTX', ')', '.', 'All', 'are', 'Sephardic', 'Jews', 'of', 'Moroccan', 'extraction', '.', 'In', 'view', 'of', 'the', 'small', 'number', 'of', 'CTX', 'patients', 'diagnosed', 'in', 'the', 'world', '(', 'a', 'total', 'of', '50', 'including', 'our', '6', 'patients', ')', ',', 'we', 'are', 'probably', 'dealing', 'with', 'an', 'ethnic', 'subgroup', 'with', 'a', 'high', 'CTX', 'gene', 'frequency', ',', 'which', 'we', 'have', 'estimated', 'to', 'be', '1', '/', '108', '.', 'Since', 'there', 'are', 'differences', 'in', 'expression', 'in', 'this', 'disease', ',', 'we', 'recommend', 'cholestanol', 'study', 'in', 'cases', 'of', 'undiagnosed', 'cataract', 'or', 'tendinous', 'xanthomas', 'in', 'childhood', 'or', 'early', 'adolescence', '.', 'The', 'diagnosis', 'in', 'CTX', 'is', 'important', 'not', 'only', 'for', 'genetic', 'counseling', ',', 'but', 'also', 'in', 'veiw', 'of', 'possible', 'treatment', '.', '.']\n",
      "[NeMo I 2021-08-07 12:14:39 text_classification_dataset:240] subtokens: [CLS] Gene ##tics of c ##ere ##bro ##tend ##ino ##us x ##ant ##hom ##ato ##sis ( CT ##X ) : an auto ##so ##mal re ##cess ##ive trait with high gene frequency in Sep ##hard ##im of Moroccan origin . We described 6 patients ( from 3 families ) affected with c ##ere ##bro ##tend ##ino ##us x ##ant ##hom ##ato ##sis ( CT [SEP]\n",
      "[NeMo I 2021-08-07 12:14:39 text_classification_dataset:241] input_ids: 101 9066 7376 1104 172 9014 12725 22910 4559 1361 193 2861 25453 10024 4863 113 16899 3190 114 131 1126 12365 7301 7435 1231 22371 2109 20323 1114 1344 5565 5625 1107 23181 9421 4060 1104 18754 4247 119 1284 1758 127 4420 113 1121 124 2073 114 4634 1114 172 9014 12725 22910 4559 1361 193 2861 25453 10024 4863 113 16899 102\n",
      "[NeMo I 2021-08-07 12:14:39 text_classification_dataset:242] segment_ids: 0 0 0 0 0 0 0 0 0 0 0 0 0 0 0 0 0 0 0 0 0 0 0 0 0 0 0 0 0 0 0 0 0 0 0 0 0 0 0 0 0 0 0 0 0 0 0 0 0 0 0 0 0 0 0 0 0 0 0 0 0 0 0 0 0\n",
      "[NeMo I 2021-08-07 12:14:39 text_classification_dataset:243] input_mask: 1 1 1 1 1 1 1 1 1 1 1 1 1 1 1 1 1 1 1 1 1 1 1 1 1 1 1 1 1 1 1 1 1 1 1 1 1 1 1 1 1 1 1 1 1 1 1 1 1 1 1 1 1 1 1 1 1 1 1 1 1 1 1 1 1\n",
      "[NeMo I 2021-08-07 12:14:39 text_classification_dataset:244] label: 2\n",
      "[NeMo I 2021-08-07 12:14:39 text_classification_dataset:238] *** Example ***\n",
      "[NeMo I 2021-08-07 12:14:39 text_classification_dataset:239] example 1: ['Functional', 'link', 'between', 'ataxia-telangiectasia', 'and', 'Nijmegen', 'breakage', 'syndrome', 'gene', 'products.', 'Ataxia-telangiectasia', '(', 'A-T', ')', 'and', 'Nijmegen', 'breakage', 'syndrome', '(', 'NBS', ')', 'are', 'recessive', 'genetic', 'disorders', 'with', 'susceptibility', 'to', 'cancer', 'and', 'similar', 'cellular', 'phenotypes', '.', 'The', 'protein', 'product', 'of', 'the', 'gene', 'responsible', 'for', 'A-T', ',', 'designated', 'ATM', ',', 'is', 'a', 'member', 'of', 'a', 'family', 'of', 'kinases', 'characterized', 'by', 'a', 'carboxy-terminal', 'phosphatidylinositol', '3-kinase-like', 'domain', '.', 'The', 'NBS1', 'protein', 'is', 'specifically', 'mutated', 'in', 'patients', 'with', 'Nijmegen', 'breakage', 'syndrome', 'and', 'forms', 'a', 'complex', 'with', 'the', 'DNA', 'repair', 'proteins', 'Rad50', 'and', 'Mrel1', '.', 'Here', 'we', 'show', 'that', 'phosphorylation', 'of', 'NBS1', ',', 'induced', 'by', 'ionizing', 'radiation', ',', 'requires', 'catalytically', 'active', 'ATM', '.', 'Complexes', 'containing', 'ATM', 'and', 'NBS1', 'exist', 'in', 'vivo', 'in', 'both', 'untreated', 'cells', 'and', 'cells', 'treated', 'with', 'ionizing', 'radiation', '.', 'We', 'have', 'identified', 'two', 'residues', 'of', 'NBS1', ',', 'Ser', '278', 'and', 'Ser', '343', 'that', 'are', 'phosphorylated', 'in', 'vitro', 'by', 'ATM', 'and', 'whose', 'modification', 'in', 'vivo', 'is', 'essential', 'for', 'the', 'cellular', 'response', 'to', 'DNA', 'damage', '.', 'This', 'response', 'includes', 'S-phase', 'checkpoint', 'activation', ',', 'formation', 'of', 'the', 'NBS1', '/', 'Mrel1', '/', 'Rad50', 'nuclear', 'foci', 'and', 'rescue', 'of', 'hypersensitivity', 'to', 'ionizing', 'radiation', '.', 'Together', ',', 'these', 'results', 'demonstrate', 'a', 'biochemical', 'link', 'between', 'cell-cycle', 'checkpoints', 'activated', 'by', 'DNA', 'damage', 'and', 'DNA', 'repair', 'in', 'two', 'genetic', 'diseases', 'with', 'overlapping', 'phenotypes', '.', '.']\n",
      "[NeMo I 2021-08-07 12:14:39 text_classification_dataset:240] subtokens: [CLS] Fun ##ctional link between at ##ax ##ia - te ##lang ##ie ##ct ##asi ##a and Ni ##j ##me ##gen break ##age syndrome gene products . At ##ax ##ia - te ##lang ##ie ##ct ##asi ##a ( A - T ) and Ni ##j ##me ##gen break ##age syndrome ( N ##BS ) are re ##cess ##ive genetic disorders with su ##s ##ce ##pt [SEP]\n",
      "[NeMo I 2021-08-07 12:14:39 text_classification_dataset:241] input_ids: 101 16068 17264 5088 1206 1120 7897 1465 118 21359 19514 1663 5822 17506 1161 1105 27453 3361 3263 4915 2549 2553 9318 5565 2982 119 1335 7897 1465 118 21359 19514 1663 5822 17506 1161 113 138 118 157 114 1105 27453 3361 3263 4915 2549 2553 9318 113 151 9782 114 1132 1231 22371 2109 7434 11759 1114 28117 1116 2093 6451 102\n",
      "[NeMo I 2021-08-07 12:14:39 text_classification_dataset:242] segment_ids: 0 0 0 0 0 0 0 0 0 0 0 0 0 0 0 0 0 0 0 0 0 0 0 0 0 0 0 0 0 0 0 0 0 0 0 0 0 0 0 0 0 0 0 0 0 0 0 0 0 0 0 0 0 0 0 0 0 0 0 0 0 0 0 0 0\n",
      "[NeMo I 2021-08-07 12:14:39 text_classification_dataset:243] input_mask: 1 1 1 1 1 1 1 1 1 1 1 1 1 1 1 1 1 1 1 1 1 1 1 1 1 1 1 1 1 1 1 1 1 1 1 1 1 1 1 1 1 1 1 1 1 1 1 1 1 1 1 1 1 1 1 1 1 1 1 1 1 1 1 1 1\n",
      "[NeMo I 2021-08-07 12:14:39 text_classification_dataset:244] label: 1\n",
      "[NeMo W 2021-08-07 12:14:46 text_classification_dataset:250] Found 683 out of 683 sentences with more than 64 subtokens. Truncated long sentences from the end.\n",
      "[NeMo I 2021-08-07 12:14:46 data_preprocessing:299] Some stats of the lengths of the sequences:\n",
      "[NeMo I 2021-08-07 12:14:46 data_preprocessing:301] Min: 65 |                  Max: 65 |                  Mean: 65.0 |                  Median: 65.0\n",
      "[NeMo I 2021-08-07 12:14:46 data_preprocessing:307] 75 percentile: 65.00\n",
      "[NeMo I 2021-08-07 12:14:46 data_preprocessing:308] 99 percentile: 65.00\n",
      "[NeMo I 2021-08-07 12:14:47 text_classification_dataset:120] Read 100 examples from /dli/task/data/NCBI_tc-3/dev_nemo_format.tsv.\n",
      "[NeMo I 2021-08-07 12:14:47 text_classification_dataset:238] *** Example ***\n",
      "[NeMo I 2021-08-07 12:14:47 text_classification_dataset:239] example 0: ['BRCA1', 'is', 'secreted', 'and', 'exhibits', 'properties', 'of', 'a', 'granin.', 'Germline', 'mutations', 'in', 'BRCA1', 'are', 'responsible', 'for', 'most', 'cases', 'of', 'inherited', 'breast', 'and', 'ovarian', 'cancer', '.', 'However', ',', 'the', 'function', 'of', 'the', 'BRCA1', 'protein', 'has', 'remained', 'elusive', '.', 'We', 'now', 'show', 'that', 'BRCA1', 'encodes', 'a', '190-kD', 'protein', 'with', 'sequence', 'homology', 'and', 'biochemical', 'analogy', 'to', 'the', 'granin', 'protein', 'family', '.', 'Interestingly', ',', 'BRCA2', 'also', 'includes', 'a', 'motif', 'similar', 'to', 'the', 'granin', 'consensus', 'at', 'the', 'C', 'terminus', 'of', 'the', 'protein', '.', 'Both', 'BRCA1', 'and', 'the', 'granins', 'localize', 'to', 'secretory', 'vesicles', ',', 'are', 'secreted', 'by', 'a', 'regulated', 'pathway', ',', 'are', 'post-translationally', 'glycosylated', 'and', 'are', 'responsive', 'to', 'hormones', '.', 'As', 'a', 'regulated', 'secretory', 'protein', ',', 'BRCA1', 'appears', 'to', 'function', 'by', 'a', 'mechanism', 'not', 'previously', 'described', 'for', 'tumour', 'suppressor', 'gene', 'products', '.', '.']\n",
      "[NeMo I 2021-08-07 12:14:47 text_classification_dataset:240] subtokens: [CLS] BR ##CA ##1 is secret ##ed and exhibits properties of a g ##rani ##n . G ##er ##m ##line mutations in BR ##CA ##1 are responsible for most cases of inherited breast and o ##var ##ian cancer . However , the function of the BR ##CA ##1 protein has remained el ##usive . We now show that BR ##CA ##1 en ##codes a [SEP]\n",
      "[NeMo I 2021-08-07 12:14:47 text_classification_dataset:241] input_ids: 101 26660 11356 1475 1110 3318 1174 1105 10877 4625 1104 170 176 23851 1179 119 144 1200 1306 2568 17157 1107 26660 11356 1475 1132 2784 1111 1211 2740 1104 7459 7209 1105 184 8997 1811 4182 119 1438 117 1103 3053 1104 1103 26660 11356 1475 4592 1144 1915 8468 17849 119 1284 1208 1437 1115 26660 11356 1475 4035 25634 170 102\n",
      "[NeMo I 2021-08-07 12:14:47 text_classification_dataset:242] segment_ids: 0 0 0 0 0 0 0 0 0 0 0 0 0 0 0 0 0 0 0 0 0 0 0 0 0 0 0 0 0 0 0 0 0 0 0 0 0 0 0 0 0 0 0 0 0 0 0 0 0 0 0 0 0 0 0 0 0 0 0 0 0 0 0 0 0\n",
      "[NeMo I 2021-08-07 12:14:47 text_classification_dataset:243] input_mask: 1 1 1 1 1 1 1 1 1 1 1 1 1 1 1 1 1 1 1 1 1 1 1 1 1 1 1 1 1 1 1 1 1 1 1 1 1 1 1 1 1 1 1 1 1 1 1 1 1 1 1 1 1 1 1 1 1 1 1 1 1 1 1 1 1\n",
      "[NeMo I 2021-08-07 12:14:47 text_classification_dataset:244] label: 0\n",
      "[NeMo I 2021-08-07 12:14:47 text_classification_dataset:238] *** Example ***\n",
      "[NeMo I 2021-08-07 12:14:47 text_classification_dataset:239] example 1: ['Ovarian', 'cancer', 'risk', 'in', 'BRCA1', 'carriers', 'is', 'modified', 'by', 'the', 'HRAS1', 'variable', 'number', 'of', 'tandem', 'repeat', '(VNTR)', 'locus.', 'Women', 'who', 'carry', 'a', 'mutation', 'in', 'the', 'BRCA1', 'gene', '(', 'on', 'chromosome', '17q21', ')', ',', 'have', 'an', '80', '%', 'risk', 'of', 'breast', 'cancer', 'and', 'a', '40', '%', 'risk', 'of', 'ovarian', 'cancer', 'by', 'the', 'age', 'of', '70', '(', 'ref', '.', '1', ')', '.', 'The', 'variable', 'penetrance', 'of', 'BRCA1', 'suggests', 'that', 'other', 'genetic', 'and', 'non-genetic', 'factors', 'play', 'a', 'role', 'in', 'tumourigenesis', 'in', 'these', 'individuals', '.', 'The', 'HRAS1', 'variable', 'number', 'of', 'tandem', 'repeats', '(', 'VNTR', ')', 'polymorphism', ',', 'located', '1', 'kilobase', '(', 'kb', ')', 'downstream', 'of', 'the', 'HRAS1', 'proto-oncogene', '(', 'chromosome', '11p15', '.', '5', ')', 'is', 'one', 'possible', 'genetic', 'modifier', 'of', 'cancer', 'penetrance', '.', 'Individuals', 'who', 'have', 'rare', 'alleles', 'of', 'the', 'VNTR', 'have', 'an', 'increased', 'risk', 'of', 'certain', 'types', 'of', 'cancers', ',', 'including', 'breast', 'cancer', '(', '2-4', ')', '.', 'To', 'investigate', 'whether', 'the', 'presence', 'of', 'rare', 'HRAS1', 'alleles', 'increases', 'susceptibility', 'to', 'hereditary', 'breast', 'and', 'ovarian', 'cancer', ',', 'we', 'have', 'typed', 'a', 'panel', 'of', '307', 'female', 'BRCA1', 'carriers', 'at', 'this', 'locus', 'using', 'a', 'PCR-based', 'technique', '.', 'The', 'risk', 'for', 'ovarian', 'cancer', 'was', '2', '.', '11', 'times', 'greater', 'for', 'BRCA1', 'carriers', 'harbouring', 'one', 'or', 'two', 'rare', 'HRAS1', 'alleles', ',', 'compared', 'to', 'carriers', 'with', 'only', 'common', 'alleles', '(', 'P', '=', '0', '.', '015', ')', '.', 'The', 'magnitude', 'of', 'the', 'relative', 'risk', 'associated', 'with', 'a', 'rare', 'HRAS1', 'allele', 'was', 'not', 'altered', 'by', 'adjusting', 'for', 'the', 'other', 'known', 'risk', 'factors', 'for', 'hereditary', 'ovarian', 'cancer', '(', '5', ')', '.', 'Susceptibility', 'to', 'breast', 'cancer', 'did', 'not', 'appear', 'to', 'be', 'affected', 'by', 'the', 'presence', 'of', 'rare', 'HRAS1', 'alleles', '.', 'This', 'study', 'is', 'the', 'first', 'to', 'show', 'the', 'effect', 'of', 'a', 'modifying', 'gene', 'on', 'the', 'penetrance', 'of', 'an', 'inherited', 'cancer', 'syndrome']\n",
      "[NeMo I 2021-08-07 12:14:47 text_classification_dataset:240] subtokens: [CLS] O ##var ##ian cancer risk in BR ##CA ##1 carriers is modified by the H ##RA ##S ##1 variable number of tandem repeat ( V ##NT ##R ) lo ##cus . Women who carry a mutation in the BR ##CA ##1 gene ( on chromosome 17 ##q ##21 ) , have an 80 % risk of breast cancer and a 40 % risk [SEP]\n",
      "[NeMo I 2021-08-07 12:14:47 text_classification_dataset:241] input_ids: 101 152 8997 1811 4182 3187 1107 26660 11356 1475 11837 1110 5847 1118 1103 145 9664 1708 1475 7898 1295 1104 22090 9488 113 159 15681 2069 114 25338 6697 119 2453 1150 3564 170 17895 1107 1103 26660 11356 1475 5565 113 1113 18697 1542 4426 18202 114 117 1138 1126 2908 110 3187 1104 7209 4182 1105 170 1969 110 3187 102\n",
      "[NeMo I 2021-08-07 12:14:47 text_classification_dataset:242] segment_ids: 0 0 0 0 0 0 0 0 0 0 0 0 0 0 0 0 0 0 0 0 0 0 0 0 0 0 0 0 0 0 0 0 0 0 0 0 0 0 0 0 0 0 0 0 0 0 0 0 0 0 0 0 0 0 0 0 0 0 0 0 0 0 0 0 0\n",
      "[NeMo I 2021-08-07 12:14:47 text_classification_dataset:243] input_mask: 1 1 1 1 1 1 1 1 1 1 1 1 1 1 1 1 1 1 1 1 1 1 1 1 1 1 1 1 1 1 1 1 1 1 1 1 1 1 1 1 1 1 1 1 1 1 1 1 1 1 1 1 1 1 1 1 1 1 1 1 1 1 1 1 1\n",
      "[NeMo I 2021-08-07 12:14:47 text_classification_dataset:244] label: 0\n",
      "[NeMo W 2021-08-07 12:14:48 text_classification_dataset:250] Found 100 out of 100 sentences with more than 64 subtokens. Truncated long sentences from the end.\n",
      "[NeMo I 2021-08-07 12:14:48 data_preprocessing:299] Some stats of the lengths of the sequences:\n",
      "[NeMo I 2021-08-07 12:14:48 data_preprocessing:301] Min: 65 |                  Max: 65 |                  Mean: 65.0 |                  Median: 65.0\n",
      "[NeMo I 2021-08-07 12:14:48 data_preprocessing:307] 75 percentile: 65.00\n",
      "[NeMo I 2021-08-07 12:14:48 data_preprocessing:308] 99 percentile: 65.00\n",
      "[NeMo I 2021-08-07 12:14:48 text_classification_dataset:120] Read 10 examples from /dli/task/data/NCBI_tc-3/test_nemo_format.tsv.\n",
      "[NeMo I 2021-08-07 12:14:48 text_classification_dataset:238] *** Example ***\n",
      "[NeMo I 2021-08-07 12:14:48 text_classification_dataset:239] example 0: ['Clustering', 'of', 'missense', 'mutations', 'in', 'the', 'ataxia-telangiectasia', 'gene', 'in', 'a', 'sporadic', 'T-cell', 'leukaemia.', 'Ataxia-telangiectasia', '(', 'A-T', ')', 'is', 'a', 'recessive', 'multi-system', 'disorder', 'caused', 'by', 'mutations', 'in', 'the', 'ATM', 'gene', 'at', '11q22-q23', '(', 'ref', '.', '3', ')', '.', 'The', 'risk', 'of', 'cancer', ',', 'especially', 'lymphoid', 'neoplasias', ',', 'is', 'substantially', 'elevated', 'in', 'A-T', 'patients', 'and', 'has', 'long', 'been', 'associated', 'with', 'chromosomal', 'instability', '.', 'By', 'analysing', 'tumour', 'DNA', 'from', 'patients', 'with', 'sporadic', 'T-cell', 'prolymphocytic', 'leukaemia', '(', 'T-PLL', ')', ',', 'a', 'rare', 'clonal', 'malignancy', 'with', 'similarities', 'to', 'a', 'mature', 'T-cell', 'leukaemia', 'seen', 'in', 'A-T', ',', 'we', 'demonstrate', 'a', 'high', 'frequency', 'of', 'ATM', 'mutations', 'in', 'T-PLL', '.', 'In', 'marked', 'contrast', 'to', 'the', 'ATM', 'mutation', 'pattern', 'in', 'A-T', ',', 'the', 'most', 'frequent', 'nucleotide', 'changes', 'in', 'this', 'leukaemia', 'were', 'missense', 'mutations', '.', 'These', 'clustered', 'in', 'the', 'region', 'corresponding', 'to', 'the', 'kinase', 'domain', ',', 'which', 'is', 'highly', 'conserved', 'in', 'ATM-related', 'proteins', 'in', 'mouse', ',', 'yeast', 'and', 'Drosophila', '.', 'The', 'resulting', 'amino-acid', 'substitutions', 'are', 'predicted', 'to', 'interfere', 'with', 'ATP', 'binding', 'or', 'substrate', 'recognition', '.', 'Two', 'of', 'seventeen', 'mutated', 'T-PLL', 'samples', 'had', 'a', 'previously', 'reported', 'A-T', 'allele', '.', 'In', 'contrast', ',', 'no', 'mutations', 'were', 'detected', 'in', 'the', 'p53', 'gene', ',', 'suggesting', 'that', 'this', 'tumour', 'suppressor', 'is', 'not', 'frequently', 'altered', 'in', 'this', 'leukaemia', '.', 'Occasional', 'missense', 'mutations', 'in', 'ATM', 'were', 'also', 'found', 'in', 'tumour', 'DNA', 'from', 'patients', 'with', 'B-cell', 'non-Hodgkins', 'lymphomas', '(', 'B-NHL', ')', 'and', 'a', 'B-NHL', 'cell', 'line', '.', 'The', 'evidence', 'of', 'a', 'significant', 'proportion', 'of', 'loss-of-function', 'mutations', 'and', 'a', 'complete', 'absence', 'of', 'the', 'normal', 'copy', 'of', 'ATM', 'in', 'the', 'majority', 'of', 'mutated', 'tumours', 'establishes', 'somatic', 'inactivation', 'of', 'this', 'gene', 'in', 'the', 'pathogenesis', 'of', 'sporadic', 'T-PLL', 'and', 'suggests', 'that', 'ATM', 'acts', 'as', 'a', 'tumour', 'suppressor', '.', 'As', 'constitutional', 'DNA', 'was', 'not', 'available', ',', 'a', 'putative', 'hereditary', 'predisposition', 'to', 'T-PLL', 'will', 'require', 'further', 'investigation', '.', '.']\n",
      "[NeMo I 2021-08-07 12:14:48 text_classification_dataset:240] subtokens: [CLS] C ##luster ##ing of miss ##ense mutations in the at ##ax ##ia - te ##lang ##ie ##ct ##asi ##a gene in a s ##poradic T - cell le ##uka ##emia . At ##ax ##ia - te ##lang ##ie ##ct ##asi ##a ( A - T ) is a re ##cess ##ive multi - system disorder caused by mutations in the AT ##M gene [SEP]\n",
      "[NeMo I 2021-08-07 12:14:48 text_classification_dataset:241] input_ids: 101 140 23225 1158 1104 5529 22615 17157 1107 1103 1120 7897 1465 118 21359 19514 1663 5822 17506 1161 5565 1107 170 188 27695 157 118 2765 5837 12658 20504 119 1335 7897 1465 118 21359 19514 1663 5822 17506 1161 113 138 118 157 114 1110 170 1231 22371 2109 4321 118 1449 8936 2416 1118 17157 1107 1103 13020 2107 5565 102\n",
      "[NeMo I 2021-08-07 12:14:48 text_classification_dataset:242] segment_ids: 0 0 0 0 0 0 0 0 0 0 0 0 0 0 0 0 0 0 0 0 0 0 0 0 0 0 0 0 0 0 0 0 0 0 0 0 0 0 0 0 0 0 0 0 0 0 0 0 0 0 0 0 0 0 0 0 0 0 0 0 0 0 0 0 0\n",
      "[NeMo I 2021-08-07 12:14:48 text_classification_dataset:243] input_mask: 1 1 1 1 1 1 1 1 1 1 1 1 1 1 1 1 1 1 1 1 1 1 1 1 1 1 1 1 1 1 1 1 1 1 1 1 1 1 1 1 1 1 1 1 1 1 1 1 1 1 1 1 1 1 1 1 1 1 1 1 1 1 1 1 1\n",
      "[NeMo I 2021-08-07 12:14:48 text_classification_dataset:244] label: 0\n",
      "[NeMo I 2021-08-07 12:14:48 text_classification_dataset:238] *** Example ***\n",
      "[NeMo I 2021-08-07 12:14:48 text_classification_dataset:239] example 1: ['Myotonic', 'dystrophy', 'protein', 'kinase', 'is', 'involved', 'in', 'the', 'modulation', 'of', 'the', 'Ca2+', 'homeostasis', 'in', 'skeletal', 'muscle', 'cells.', 'Myotonic', 'dystrophy', '(', 'DM', ')', ',', 'the', 'most', 'prevalent', 'muscular', 'disorder', 'in', 'adults', ',', 'is', 'caused', 'by', '(', 'CTG', ')', 'n-repeat', 'expansion', 'in', 'a', 'gene', 'encoding', 'a', 'protein', 'kinase', '(', 'DM', 'protein', 'kinase', ';', 'DMPK', ')', 'and', 'involves', 'changes', 'in', 'cytoarchitecture', 'and', 'ion', 'homeostasis', '.', 'To', 'obtain', 'clues', 'to', 'the', 'normal', 'biological', 'role', 'of', 'DMPK', 'in', 'cellular', 'ion', 'homeostasis', ',', 'we', 'have', 'compared', 'the', 'resting', '[', 'Ca2', '+', ']', 'i', ',', 'the', 'amplitude', 'and', 'shape', 'of', 'depolarization-induced', 'Ca2', '+', 'transients', ',', 'and', 'the', 'content', 'of', 'ATP-driven', 'ion', 'pumps', 'in', 'cultured', 'skeletal', 'muscle', 'cells', 'of', 'wild-type', 'and', 'DMPK', '[', '-', '/', '-', ']', 'knockout', 'mice', '.', 'In', 'vitro-differentiated', 'DMPK', '[', '-', '/', '-', ']', 'myotubes', 'exhibit', 'a', 'higher', 'resting', '[', 'Ca2', '+', ']', 'i', 'than', 'do', 'wild-type', 'myotubes', 'because', 'of', 'an', 'altered', 'open', 'probability', 'of', 'voltage-dependent', 'l-type', 'Ca2', '+', 'and', 'Na', '+', 'channels', '.', 'The', 'mutant', 'myotubes', 'exhibit', 'smaller', 'and', 'slower', 'Ca2', '+', 'responses', 'upon', 'triggering', 'by', 'acetylcholine', 'or', 'high', 'external', 'K', '+', '.', 'In', 'addition', ',', 'we', 'observed', 'that', 'these', 'Ca2', '+', 'transients', 'partially', 'result', 'from', 'an', 'influx', 'of', 'extracellular', 'Ca2', '+', 'through', 'the', 'l-type', 'Ca2', '+', 'channel', '.', 'Neither', 'the', 'content', 'nor', 'the', 'activity', 'of', 'Na', '+', '/', 'K', '+', 'ATPase', 'and', 'sarcoplasmic', 'reticulum', 'Ca2', '+', '-ATPase', 'are', 'affected', 'by', 'DMPK', 'absence', '.', 'In', 'conclusion', ',', 'our', 'data', 'suggest', 'that', 'DMPK', 'is', 'involved', 'in', 'modulating', 'the', 'initial', 'events', 'of', 'excitation-contraction', 'coupling', 'in', 'skeletal', 'muscle', '.', '.']\n",
      "[NeMo I 2021-08-07 12:14:48 text_classification_dataset:240] subtokens: [CLS] My ##oto ##nic d ##ys ##tro ##phy protein kinase is involved in the m ##od ##ulation of the C ##a ##2 + home ##ost ##asis in skeletal muscle cells . My ##oto ##nic d ##ys ##tro ##phy ( D ##M ) , the most prevalent muscular disorder in adults , is caused by ( CT ##G ) n - repeat expansion in a [SEP]\n",
      "[NeMo I 2021-08-07 12:14:48 text_classification_dataset:241] input_ids: 101 1422 12355 7770 173 6834 8005 22192 4592 24779 1110 2017 1107 1103 182 5412 6856 1104 1103 140 1161 1477 116 1313 15540 14229 1107 23400 6484 3652 119 1422 12355 7770 173 6834 8005 22192 113 141 2107 114 117 1103 1211 15950 14310 8936 1107 6323 117 1110 2416 1118 113 16899 2349 114 183 118 9488 4298 1107 170 102\n",
      "[NeMo I 2021-08-07 12:14:48 text_classification_dataset:242] segment_ids: 0 0 0 0 0 0 0 0 0 0 0 0 0 0 0 0 0 0 0 0 0 0 0 0 0 0 0 0 0 0 0 0 0 0 0 0 0 0 0 0 0 0 0 0 0 0 0 0 0 0 0 0 0 0 0 0 0 0 0 0 0 0 0 0 0\n",
      "[NeMo I 2021-08-07 12:14:48 text_classification_dataset:243] input_mask: 1 1 1 1 1 1 1 1 1 1 1 1 1 1 1 1 1 1 1 1 1 1 1 1 1 1 1 1 1 1 1 1 1 1 1 1 1 1 1 1 1 1 1 1 1 1 1 1 1 1 1 1 1 1 1 1 1 1 1 1 1 1 1 1 1\n",
      "[NeMo I 2021-08-07 12:14:48 text_classification_dataset:244] label: 1\n",
      "[NeMo W 2021-08-07 12:14:48 text_classification_dataset:250] Found 10 out of 10 sentences with more than 64 subtokens. Truncated long sentences from the end.\n",
      "[NeMo I 2021-08-07 12:14:48 data_preprocessing:299] Some stats of the lengths of the sequences:\n",
      "[NeMo I 2021-08-07 12:14:48 data_preprocessing:301] Min: 65 |                  Max: 65 |                  Mean: 65.0 |                  Median: 65.0\n",
      "[NeMo I 2021-08-07 12:14:48 data_preprocessing:307] 75 percentile: 65.00\n",
      "[NeMo I 2021-08-07 12:14:48 data_preprocessing:308] 99 percentile: 65.00\n",
      "[NeMo W 2021-08-07 12:14:48 modelPT:197] You tried to register an artifact under config key=tokenizer.vocab_file but an artifact forit has already been registered.\n",
      "[NeMo W 2021-08-07 12:14:48 nemo_logging:349] /opt/conda/lib/python3.8/site-packages/nemo/core/classes/modelPT.py:243: UserWarning: update_node() is deprecated, use OmegaConf.update(). (Since 2.0)\n",
      "      self.cfg.update_node(config_path, return_path)\n",
      "    \n",
      "using world size: 1, data-parallel-size: 1, tensor-model-parallel size: 1, pipeline-model-parallel size: 1 \n",
      "setting global batch size to 1\n",
      "using torch.float32 for parameters ...\n",
      "------------------------ arguments ------------------------\n",
      "  adam_beta1 ...................................... 0.9\n",
      "  adam_beta2 ...................................... 0.999\n",
      "  adam_eps ........................................ 1e-08\n",
      "  adlr_autoresume ................................. False\n",
      "  adlr_autoresume_interval ........................ 1000\n",
      "  apply_query_key_layer_scaling ................... True\n",
      "  apply_residual_connection_post_layernorm ........ False\n",
      "  attention_dropout ............................... 0.1\n",
      "  attention_softmax_in_fp32 ....................... False\n",
      "  bert_load ....................................... None\n",
      "  bias_dropout_fusion ............................. False\n",
      "  bias_gelu_fusion ................................ False\n",
      "  block_data_path ................................. None\n",
      "  checkpoint_activations .......................... False\n",
      "  checkpoint_num_layers ........................... 1\n",
      "  clip_grad ....................................... 1.0\n",
      "  consumed_train_samples .......................... 0\n",
      "  consumed_valid_samples .......................... 0\n",
      "  data_impl ....................................... infer\n",
      "  data_parallel_size .............................. 1\n",
      "  data_path ....................................... None\n",
      "  DDP_impl ........................................ local\n",
      "  distribute_checkpointed_activations ............. False\n",
      "  distributed_backend ............................. nccl\n",
      "  eod_mask_loss ................................... False\n",
      "  eval_interval ................................... 1000\n",
      "  eval_iters ...................................... 100\n",
      "  exit_duration_in_mins ........................... None\n",
      "  exit_interval ................................... None\n",
      "  faiss_use_gpu ................................... False\n",
      "  finetune ........................................ False\n",
      "  fp16 ............................................ False\n",
      "  fp16_lm_cross_entropy ........................... False\n",
      "  fp32_allreduce .................................. False\n",
      "  fp32_residual_connection ........................ False\n",
      "  global_batch_size ............................... 1\n",
      "  hidden_dropout .................................. 0.1\n",
      "  hidden_size ..................................... 1024\n",
      "  hysteresis ...................................... 2\n",
      "  ict_head_size ................................... None\n",
      "  ict_load ........................................ None\n",
      "  indexer_batch_size .............................. 128\n",
      "  indexer_log_interval ............................ 1000\n",
      "  init_method_std ................................. 0.02\n",
      "  initial_loss_scale .............................. 4294967296\n",
      "  layernorm_epsilon ............................... 1e-05\n",
      "  lazy_mpu_init ................................... True\n",
      "  load ............................................ None\n",
      "  local_rank ...................................... None\n",
      "  log_interval .................................... 100\n",
      "  loss_scale ...................................... None\n",
      "  loss_scale_window ............................... 1000\n",
      "  lr .............................................. None\n",
      "  lr_decay_iters .................................. None\n",
      "  lr_decay_samples ................................ None\n",
      "  lr_decay_style .................................. linear\n",
      "  lr_warmup_fraction .............................. None\n",
      "  lr_warmup_iters ................................. 0\n",
      "  lr_warmup_samples ............................... 0\n",
      "  make_vocab_size_divisible_by .................... 128\n",
      "  mask_prob ....................................... 0.15\n",
      "  max_position_embeddings ......................... 512\n",
      "  merge_file ...................................... None\n",
      "  micro_batch_size ................................ 1\n",
      "  min_loss_scale .................................. 1.0\n",
      "  min_lr .......................................... 0.0\n",
      "  mmap_warmup ..................................... False\n",
      "  no_load_optim ................................... False\n",
      "  no_load_rng ..................................... False\n",
      "  no_save_optim ................................... False\n",
      "  no_save_rng ..................................... False\n",
      "  num_attention_heads ............................. 16\n",
      "  num_layers ...................................... 24\n",
      "  num_workers ..................................... 2\n",
      "  onnx_safe ....................................... True\n",
      "  openai_gelu ..................................... False\n",
      "  override_lr_scheduler ........................... False\n",
      "  params_dtype .................................... torch.float32\n",
      "  pipeline_model_parallel_size .................... 1\n",
      "  query_in_block_prob ............................. 0.1\n",
      "  rampup_batch_size ............................... None\n",
      "  rank ............................................ 0\n",
      "  report_topk_accuracies .......................... []\n",
      "  reset_attention_mask ............................ False\n",
      "  reset_position_ids .............................. False\n",
      "  save ............................................ None\n",
      "  save_interval ................................... None\n",
      "  scaled_masked_softmax_fusion .................... False\n",
      "  scaled_upper_triang_masked_softmax_fusion ....... False\n",
      "  seed ............................................ 1234\n",
      "  seq_length ...................................... None\n",
      "  short_seq_prob .................................. 0.1\n",
      "  split ........................................... 969, 30, 1\n",
      "  tensor_model_parallel_size ...................... 1\n",
      "  tensorboard_dir ................................. None\n",
      "  titles_data_path ................................ None\n",
      "  tokenizer_type .................................. BertWordPieceLowerCase\n",
      "  train_iters ..................................... None\n",
      "  train_samples ................................... None\n",
      "  use_checkpoint_lr_scheduler ..................... False\n",
      "  use_cpu_initialization .......................... False\n",
      "  use_one_sent_docs ............................... False\n",
      "  vocab_file ...................................... /root/.cache/huggingface/nemo_nlp_tmp/f0a1e1f5d288a72b70b8a54ba4951869/tokenizer.vocab_file\n",
      "  weight_decay .................................... 0.01\n",
      "  world_size ...................................... 1\n",
      "-------------------- end of arguments ---------------------\n",
      "setting number of micro-batches to constant 1\n",
      "> building BertWordPieceLowerCase tokenizer ...\n",
      " > padded vocab (size: 28996) with 60 dummy tokens (new size: 29056)\n",
      "[NeMo I 2021-08-07 12:14:48 megatron_bert:109] Megatron-lm argparse args: Namespace(DDP_impl='local', adam_beta1=0.9, adam_beta2=0.999, adam_eps=1e-08, adlr_autoresume=False, adlr_autoresume_interval=1000, apply_query_key_layer_scaling=True, apply_residual_connection_post_layernorm=False, attention_dropout=0.1, attention_softmax_in_fp32=False, bert_load=None, bias_dropout_fusion=False, bias_gelu_fusion=False, block_data_path=None, checkpoint_activations=False, checkpoint_num_layers=1, clip_grad=1.0, consumed_train_samples=0, consumed_valid_samples=0, data_impl='infer', data_parallel_size=1, data_path=None, distribute_checkpointed_activations=False, distributed_backend='nccl', eod_mask_loss=False, eval_interval=1000, eval_iters=100, exit_duration_in_mins=None, exit_interval=None, faiss_use_gpu=False, finetune=False, fp16=False, fp16_lm_cross_entropy=False, fp32_allreduce=False, fp32_residual_connection=False, global_batch_size=1, hidden_dropout=0.1, hidden_size=1024, hysteresis=2, ict_head_size=None, ict_load=None, indexer_batch_size=128, indexer_log_interval=1000, init_method_std=0.02, initial_loss_scale=4294967296, layernorm_epsilon=1e-05, lazy_mpu_init=True, load=None, local_rank=None, log_interval=100, loss_scale=None, loss_scale_window=1000, lr=None, lr_decay_iters=None, lr_decay_samples=None, lr_decay_style='linear', lr_warmup_fraction=None, lr_warmup_iters=0, lr_warmup_samples=0, make_vocab_size_divisible_by=128, mask_prob=0.15, max_position_embeddings=512, merge_file=None, micro_batch_size=1, min_loss_scale=1.0, min_lr=0.0, mmap_warmup=False, no_load_optim=False, no_load_rng=False, no_save_optim=False, no_save_rng=False, num_attention_heads=16, num_layers=24, num_workers=2, onnx_safe=True, openai_gelu=False, override_lr_scheduler=False, padded_vocab_size=29056, params_dtype=torch.float32, pipeline_model_parallel_size=1, query_in_block_prob=0.1, rampup_batch_size=None, rank=0, report_topk_accuracies=[], reset_attention_mask=False, reset_position_ids=False, save=None, save_interval=None, scaled_masked_softmax_fusion=False, scaled_upper_triang_masked_softmax_fusion=False, seed=1234, seq_length=None, short_seq_prob=0.1, split='969, 30, 1', tensor_model_parallel_size=1, tensorboard_dir=None, titles_data_path=None, tokenizer_type='BertWordPieceLowerCase', train_iters=None, train_samples=None, use_checkpoint_lr_scheduler=False, use_cpu_initialization=True, use_one_sent_docs=False, vocab_file='/root/.cache/huggingface/nemo_nlp_tmp/f0a1e1f5d288a72b70b8a54ba4951869/tokenizer.vocab_file', weight_decay=0.01, world_size=1)\n",
      "[NeMo W 2021-08-07 12:14:52 megatron_bert:185] Megatron-lm checkpoint version not found. Setting checkpoint_version to 0.\n",
      "[NeMo I 2021-08-07 12:14:52 megatron_bert:192] Checkpoint loaded from from /root/.cache/torch/megatron/megatron-bert-345m-cased\n",
      "[NeMo I 2021-08-07 12:14:52 text_classification_with_bert:118] ===========================================================================================\n",
      "[NeMo I 2021-08-07 12:14:52 text_classification_with_bert:119] Starting training...\n",
      "LOCAL_RANK: 0 - CUDA_VISIBLE_DEVICES: [0]\n",
      "[NeMo I 2021-08-07 12:14:52 modelPT:748] Optimizer config = Adam (\n",
      "    Parameter Group 0\n",
      "        amsgrad: False\n",
      "        betas: [0.9, 0.999]\n",
      "        eps: 1e-08\n",
      "        lr: 5e-05\n",
      "        weight_decay: 0.01\n",
      "    )\n",
      "[NeMo I 2021-08-07 12:14:52 lr_scheduler:617] Scheduler \"<nemo.core.optim.lr_scheduler.WarmupAnnealing object at 0x7f2363806370>\" \n",
      "    will be used during training (effective maximum steps = 110) - \n",
      "    Parameters : \n",
      "    (warmup_steps: null\n",
      "    warmup_ratio: 0.1\n",
      "    last_epoch: -1\n",
      "    max_steps: 110\n",
      "    )\n",
      "initializing ddp: GLOBAL_RANK: 0, MEMBER: 1/1\n",
      "Added key: store_based_barrier_key:1 to store for rank: 0\n",
      "\n",
      "  | Name                  | Type                 | Params\n",
      "---------------------------------------------------------------\n",
      "0 | loss                  | CrossEntropyLoss     | 0     \n",
      "1 | bert_model            | MegatronBertEncoder  | 332 M \n",
      "2 | classifier            | SequenceClassifier   | 1.1 M \n",
      "3 | classification_report | ClassificationReport | 0     \n",
      "---------------------------------------------------------------\n",
      "333 M     Trainable params\n",
      "0         Non-trainable params\n",
      "333 M     Total params\n",
      "1,334.575 Total estimated model params size (MB)\n",
      "Epoch 0:   0%|                                           | 0/26 [00:00<?, ?it/s]torch distributed is already initialized, skipping initialization ...\n",
      "> initializing tensor model parallel with size 1\n",
      "> initializing pipeline model parallel with size 1\n",
      "Added key: store_based_barrier_key:2 to store for rank: 0\n",
      "Added key: store_based_barrier_key:3 to store for rank: 0\n",
      "Added key: store_based_barrier_key:4 to store for rank: 0\n",
      "Added key: store_based_barrier_key:5 to store for rank: 0\n",
      "Added key: store_based_barrier_key:6 to store for rank: 0\n",
      "> setting random seeds to 1234 ...\n",
      "> initializing model parallel cuda seeds on global rank 0, model parallel rank 0, and data parallel rank 0 with model parallel seed: 3952 and data parallel seed: 1234\n",
      "[W reducer.cpp:1060] Warning: find_unused_parameters=True was specified in DDP constructor, but did not find any unused parameters. This flag results in an extra traversal of the autograd graph every iteration, which can adversely affect performance. If your model indeed never has any unused parameters, consider turning this flag off. Note that this warning may be a false positive your model has flow control causing later iterations to have unused parameters. (function operator())\n",
      "Epoch 0:  85%|▊| 22/26 [00:06<00:01,  3.51it/s, loss=0.977, v_num=4-38, lr=4.55e\n",
      "Validating: 0it [00:00, ?it/s]\u001b[A\n",
      "Validating:   0%|                                         | 0/4 [00:00<?, ?it/s]\u001b[A\n",
      "Epoch 0:  92%|▉| 24/26 [00:06<00:00,  3.45it/s, loss=0.977, v_num=4-38, lr=4.55e\u001b[A\n",
      "Epoch 0: 100%|█| 26/26 [00:07<00:00,  3.67it/s, loss=0.977, v_num=4-38, lr=4.55e\u001b[A[NeMo I 2021-08-07 12:15:01 text_classification_model:165] val_report: \n",
      "    label                                                precision    recall       f1           support   \n",
      "    label_id: 0                                            100.00      40.62      57.78         32\n",
      "    label_id: 1                                              0.00       0.00       0.00         24\n",
      "    label_id: 2                                             50.57     100.00      67.18         44\n",
      "    -------------------\n",
      "    micro avg                                               57.00      57.00      57.00        100\n",
      "    macro avg                                               50.19      46.88      41.65        100\n",
      "    weighted avg                                            54.25      57.00      48.05        100\n",
      "    \n",
      "Epoch 0: 100%|█| 26/26 [00:07<00:00,  3.61it/s, loss=0.977, v_num=4-38, lr=4.49e\n",
      "                                                                                \u001b[AEpoch 0, global step 21: val_loss reached 0.92905 (best 0.92905), saving model to \"/dli/task/nemo_experiments/TextClassification/2021-08-07_12-14-38/checkpoints/TextClassification--val_loss=0.93-epoch=0.ckpt\" as top 3\n",
      "Epoch 1:  85%|▊| 22/26 [00:04<00:00,  4.66it/s, loss=0.542, v_num=4-38, lr=3.43e\n",
      "Validating: 0it [00:00, ?it/s]\u001b[A\n",
      "Validating:   0%|                                         | 0/4 [00:00<?, ?it/s]\u001b[A\n",
      "Epoch 1:  92%|▉| 24/26 [00:05<00:00,  4.79it/s, loss=0.542, v_num=4-38, lr=3.43e\u001b[A\n",
      "Epoch 1: 100%|█| 26/26 [00:05<00:00,  5.08it/s, loss=0.542, v_num=4-38, lr=3.43e\u001b[A[NeMo I 2021-08-07 12:15:24 text_classification_model:165] val_report: \n",
      "    label                                                precision    recall       f1           support   \n",
      "    label_id: 0                                             78.95      93.75      85.71         32\n",
      "    label_id: 1                                             88.00      91.67      89.80         24\n",
      "    label_id: 2                                             91.89      77.27      83.95         44\n",
      "    -------------------\n",
      "    micro avg                                               86.00      86.00      86.00        100\n",
      "    macro avg                                               86.28      87.56      86.49        100\n",
      "    weighted avg                                            86.82      86.00      85.92        100\n",
      "    \n",
      "Epoch 1: 100%|█| 26/26 [00:05<00:00,  4.96it/s, loss=0.542, v_num=4-38, lr=3.38e\n",
      "                                                                                \u001b[AEpoch 1, global step 43: val_loss reached 0.42656 (best 0.42656), saving model to \"/dli/task/nemo_experiments/TextClassification/2021-08-07_12-14-38/checkpoints/TextClassification--val_loss=0.43-epoch=1.ckpt\" as top 3\n",
      "Epoch 2:  85%|▊| 22/26 [00:06<00:01,  3.22it/s, loss=0.248, v_num=4-38, lr=2.32e\n",
      "Validating: 0it [00:00, ?it/s]\u001b[A\n",
      "Validating:   0%|                                         | 0/4 [00:00<?, ?it/s]\u001b[A\n",
      "Epoch 2:  92%|▉| 24/26 [00:07<00:00,  3.37it/s, loss=0.248, v_num=4-38, lr=2.32e\u001b[A\n",
      "Epoch 2: 100%|█| 26/26 [00:07<00:00,  3.59it/s, loss=0.248, v_num=4-38, lr=2.32e\u001b[A[NeMo I 2021-08-07 12:15:57 text_classification_model:165] val_report: \n",
      "    label                                                precision    recall       f1           support   \n",
      "    label_id: 0                                             93.75      93.75      93.75         32\n",
      "    label_id: 1                                             85.19      95.83      90.20         24\n",
      "    label_id: 2                                             95.12      88.64      91.76         44\n",
      "    -------------------\n",
      "    micro avg                                               92.00      92.00      92.00        100\n",
      "    macro avg                                               91.35      92.74      91.90        100\n",
      "    weighted avg                                            92.30      92.00      92.02        100\n",
      "    \n",
      "Epoch 2: 100%|█| 26/26 [00:07<00:00,  3.53it/s, loss=0.248, v_num=4-38, lr=2.27e\n",
      "                                                                                \u001b[AEpoch 2, global step 65: val_loss reached 0.14338 (best 0.14338), saving model to \"/dli/task/nemo_experiments/TextClassification/2021-08-07_12-14-38/checkpoints/TextClassification--val_loss=0.14-epoch=2.ckpt\" as top 3\n",
      "Epoch 3:  85%|▊| 22/26 [00:04<00:00,  4.65it/s, loss=0.15, v_num=4-38, lr=1.21e-\n",
      "Validating: 0it [00:00, ?it/s]\u001b[A\n",
      "Validating:   0%|                                         | 0/4 [00:00<?, ?it/s]\u001b[A\n",
      "Epoch 3:  92%|▉| 24/26 [00:05<00:00,  4.75it/s, loss=0.15, v_num=4-38, lr=1.21e-\u001b[A\n",
      "Epoch 3: 100%|█| 26/26 [00:05<00:00,  5.03it/s, loss=0.15, v_num=4-38, lr=1.21e-\u001b[A[NeMo I 2021-08-07 12:16:28 text_classification_model:165] val_report: \n",
      "    label                                                precision    recall       f1           support   \n",
      "    label_id: 0                                             93.94      96.88      95.38         32\n",
      "    label_id: 1                                             88.46      95.83      92.00         24\n",
      "    label_id: 2                                             97.56      90.91      94.12         44\n",
      "    -------------------\n",
      "    micro avg                                               94.00      94.00      94.00        100\n",
      "    macro avg                                               93.32      94.54      93.83        100\n",
      "    weighted avg                                            94.22      94.00      94.01        100\n",
      "    \n",
      "Epoch 3: 100%|█| 26/26 [00:05<00:00,  4.91it/s, loss=0.15, v_num=4-38, lr=1.16e-\n",
      "                                                                                \u001b[AEpoch 3, global step 87: val_loss reached 0.14518 (best 0.14338), saving model to \"/dli/task/nemo_experiments/TextClassification/2021-08-07_12-14-38/checkpoints/TextClassification--val_loss=0.15-epoch=3.ckpt\" as top 3\n",
      "Epoch 4:  85%|▊| 22/26 [00:04<00:00,  4.65it/s, loss=0.0912, v_num=4-38, lr=1.01\n",
      "Validating: 0it [00:00, ?it/s]\u001b[A\n",
      "Validating:   0%|                                         | 0/4 [00:00<?, ?it/s]\u001b[A\n",
      "Epoch 4:  92%|▉| 24/26 [00:05<00:00,  4.77it/s, loss=0.0912, v_num=4-38, lr=1.01\u001b[A\n",
      "Epoch 4: 100%|█| 26/26 [00:05<00:00,  5.05it/s, loss=0.0912, v_num=4-38, lr=1.01\u001b[A[NeMo I 2021-08-07 12:16:59 text_classification_model:165] val_report: \n",
      "    label                                                precision    recall       f1           support   \n",
      "    label_id: 0                                             93.94      96.88      95.38         32\n",
      "    label_id: 1                                             91.30      87.50      89.36         24\n",
      "    label_id: 2                                             93.18      93.18      93.18         44\n",
      "    -------------------\n",
      "    micro avg                                               93.00      93.00      93.00        100\n",
      "    macro avg                                               92.81      92.52      92.64        100\n",
      "    weighted avg                                            92.97      93.00      92.97        100\n",
      "    \n",
      "Epoch 4: 100%|█| 26/26 [00:05<00:00,  4.93it/s, loss=0.0912, v_num=4-38, lr=5.05\n",
      "                                                                                \u001b[AEpoch 4, global step 109: val_loss reached 0.13448 (best 0.13448), saving model to \"/dli/task/nemo_experiments/TextClassification/2021-08-07_12-14-38/checkpoints/TextClassification--val_loss=0.13-epoch=4.ckpt\" as top 3\n",
      "Epoch 4: 100%|█| 26/26 [00:20<00:00,  1.25it/s, loss=0.0912, v_num=4-38, lr=5.05Saving latest checkpoint...\n",
      "Epoch 4: 100%|█| 26/26 [00:31<00:00,  1.23s/it, loss=0.0912, v_num=4-38, lr=5.05\n",
      "[NeMo W 2021-08-07 12:17:26 nemo_logging:349] /opt/conda/lib/python3.8/site-packages/nemo/core/classes/modelPT.py:308: UserWarning: update_node() is deprecated, use OmegaConf.update(). (Since 2.0)\n",
      "      conf.update_node(conf_path, item.path)\n",
      "    \n",
      "[NeMo I 2021-08-07 12:18:44 text_classification_with_bert:121] Training finished!\n",
      "[NeMo I 2021-08-07 12:18:44 text_classification_with_bert:122] ===========================================================================================\n",
      "[NeMo I 2021-08-07 12:20:03 text_classification_with_bert:127] Model is saved into `.nemo` file: text_classification_model.nemo\n",
      "[NeMo I 2021-08-07 12:20:03 text_classification_with_bert:131] ===========================================================================================\n",
      "[NeMo I 2021-08-07 12:20:03 text_classification_with_bert:132] Starting the testing of the trained model on test set...\n",
      "LOCAL_RANK: 0 - CUDA_VISIBLE_DEVICES: [0]\n",
      "Testing: 100%|████████████████████████████████████| 1/1 [00:00<00:00,  2.40it/s][NeMo I 2021-08-07 12:20:04 text_classification_model:165] test_report: \n",
      "    label                                                precision    recall       f1           support   \n",
      "    label_id: 0                                            100.00      75.00      85.71          4\n",
      "    label_id: 1                                            100.00     100.00     100.00          2\n",
      "    label_id: 2                                             80.00     100.00      88.89          4\n",
      "    -------------------\n",
      "    micro avg                                               90.00      90.00      90.00         10\n",
      "    macro avg                                               93.33      91.67      91.53         10\n",
      "    weighted avg                                            92.00      90.00      89.84         10\n",
      "    \n",
      "Testing: 100%|████████████████████████████████████| 1/1 [00:00<00:00,  1.87it/s]\n",
      "[NeMo I 2021-08-07 12:20:04 text_classification_with_bert:134] Testing finished!\n",
      "[NeMo I 2021-08-07 12:20:04 text_classification_with_bert:135] ===========================================================================================\n",
      "[NeMo I 2021-08-07 12:20:04 text_classification_with_bert:139] ===========================================================================================\n",
      "[NeMo I 2021-08-07 12:20:04 text_classification_with_bert:140] Starting the inference on some sample queries...\n",
      "[NeMo I 2021-08-07 12:20:05 text_classification_with_bert:144] The prediction results of some sample queries with the trained model:\n",
      "[NeMo I 2021-08-07 12:20:05 text_classification_with_bert:146] Query : In contrast no mutations were detected in the p53 gene suggesting that this tumour suppressor is not frequently altered in this leukaemia\n",
      "[NeMo I 2021-08-07 12:20:05 text_classification_with_bert:147] Predicted label: 0\n",
      "[NeMo I 2021-08-07 12:20:05 text_classification_with_bert:146] Query : The first predictive testing for Huntington disease  was based on analysis of linked polymorphic DNA markers to estimate the likelihood of inheriting the mutation for HD\n",
      "[NeMo I 2021-08-07 12:20:05 text_classification_with_bert:147] Predicted label: 1\n",
      "[NeMo I 2021-08-07 12:20:05 text_classification_with_bert:146] Query : Further studies suggested that low dilutions of C5D serum contain a factor or factors interfering at some step in the hemolytic assay of C5 rather than a true C5 inhibitor or inactivator\n",
      "[NeMo I 2021-08-07 12:20:05 text_classification_with_bert:147] Predicted label: 2\n",
      "[NeMo I 2021-08-07 12:20:05 text_classification_with_bert:149] Inference finished!\n",
      "[NeMo I 2021-08-07 12:20:05 text_classification_with_bert:150] ===========================================================================================\n",
      "CPU times: user 4.83 s, sys: 1.7 s, total: 6.52 s\n",
      "Wall time: 5min 32s\n"
     ]
    }
   ],
   "source": [
    "%%time\n",
    "# The training takes about 5-6 minutes to run\n",
    "\n",
    "TC_DIR = \"/dli/task/nemo/examples/nlp/text_classification\"\n",
    "\n",
    "# set the values we want to override\n",
    "NUM_CLASSES = 3\n",
    "MAX_SEQ_LENGTH = 64\n",
    "PATH_TO_TRAIN_FILE = \"/dli/task/data/NCBI_tc-3/train_nemo_format.tsv\"\n",
    "PATH_TO_VAL_FILE = \"/dli/task/data/NCBI_tc-3/dev_nemo_format.tsv\"\n",
    "PATH_TO_TEST_FILE = \"/dli/task/data/NCBI_tc-3/test_nemo_format.tsv\"\n",
    "# disease domain inference sample answers should be 0, 1, 2 \n",
    "INFER_SAMPLES_0 = \"In contrast no mutations were detected in the p53 gene suggesting that this tumour suppressor is not frequently altered in this leukaemia \"\n",
    "INFER_SAMPLES_1 = \"The first predictive testing for Huntington disease  was based on analysis of linked polymorphic DNA markers to estimate the likelihood of inheriting the mutation for HD\"\n",
    "INFER_SAMPLES_2 = \"Further studies suggested that low dilutions of C5D serum contain a factor or factors interfering at some step in the hemolytic assay of C5 rather than a true C5 inhibitor or inactivator\"\n",
    "MAX_EPOCHS = 5\n",
    "AMP_LEVEL = 'O1'\n",
    "PRECISION = 16\n",
    "LR = 5.0e-05\n",
    "BATCH_SIZE = 32\n",
    "PRETRAINED_MODEL_NAME = \"megatron-bert-345m-cased\"\n",
    "\n",
    "!python $TC_DIR/text_classification_with_bert.py \\\n",
    "        model.dataset.num_classes=$NUM_CLASSES \\\n",
    "        model.dataset.max_seq_length=$MAX_SEQ_LENGTH \\\n",
    "        model.train_ds.file_path=$PATH_TO_TRAIN_FILE \\\n",
    "        model.validation_ds.file_path=$PATH_TO_VAL_FILE \\\n",
    "        model.test_ds.file_path=$PATH_TO_TEST_FILE \\\n",
    "        model.train_ds.batch_size=$BATCH_SIZE \\\n",
    "        model.validation_ds.batch_size=$BATCH_SIZE \\\n",
    "        model.test_ds.batch_size=$BATCH_SIZE \\\n",
    "        model.infer_samples=[\"$INFER_SAMPLES_0\",\"$INFER_SAMPLES_1\",\"$INFER_SAMPLES_2\"] \\\n",
    "        trainer.max_epochs=$MAX_EPOCHS \\\n",
    "        trainer.amp_level=$AMP_LEVEL \\\n",
    "        trainer.precision=$PRECISION \\\n",
    "        model.optim.lr=$LR \\\n",
    "        model.language_model.pretrained_model_name=$PRETRAINED_MODEL_NAME"
   ]
  },
  {
   "cell_type": "markdown",
   "metadata": {},
   "source": [
    "---\n",
    "# 2.3 PyTorch Lightning Model and Trainer Workflow\n",
    "The NeMo model script is the quickest way to get up and running.  Sometimes, though, you may want to create your own script or work through your project in a more customized manner.  In that case, you can step through the PyTorch Lightning workflow, which is otherwise abstracted (encapsulated and hidden) within the model training script. We'll take a look at the script, then try working through the same workflow from scratch without the script or Hydra.  "
   ]
  },
  {
   "cell_type": "markdown",
   "metadata": {},
   "source": [
    "## 2.3.1 Script Key Features\n",
    "You can open the [text_classification_with_bert.py](nemo/examples/nlp/text_classification/text_classification_with_bert.py) script to see exactly what is happening.  \n",
    "\n",
    "Here's an abbreviated version with logging and initial comments removed:\n",
    "\n",
    "```python\n",
    "import pytorch_lightning as pl\n",
    "from omegaconf import DictConfig\n",
    "\n",
    "from nemo.collections.nlp.models.text_classification import TextClassificationModel\n",
    "from nemo.collections.nlp.parts.nlp_overrides import NLPDDPPlugin\n",
    "from nemo.core.config import hydra_runner\n",
    "from nemo.utils.exp_manager import exp_manager\n",
    "\n",
    "\n",
    "@hydra_runner(config_path=\"conf\", config_name=\"text_classification_config\")\n",
    "def main(cfg: DictConfig) -> None:\n",
    "    trainer = pl.Trainer(plugins=[NLPDDPPlugin()], **cfg.trainer)\n",
    "    exp_manager(trainer, cfg.get(\"exp_manager\", None))\n",
    "\n",
    "    if not cfg.model.train_ds.file_path:\n",
    "        raise ValueError(\"'train_ds.file_path' need to be set for the training!\")\n",
    "\n",
    "    model = TextClassificationModel(cfg.model, trainer=trainer)\n",
    "    trainer.fit(model)\n",
    "\n",
    "    if cfg.model.nemo_path:\n",
    "        # '.nemo' file contains the last checkpoint and the params to initialize the model\n",
    "        model.save_to(cfg.model.nemo_path)\n",
    "\n",
    "    # We evaluate the trained model on the test set if test_ds is set in the config file\n",
    "    if cfg.model.test_ds.file_path:\n",
    "        trainer.test(model=model, ckpt_path=None, verbose=False)\n",
    "\n",
    "    # perform inference on a list of queries.\n",
    "    if \"infer_samples\" in cfg.model and cfg.model.infer_samples:       \n",
    "        # max_seq_length=512 is the maximum length BERT supports.\n",
    "        results = model.classifytext(queries=cfg.model.infer_samples, batch_size=16, max_seq_length=512)\n",
    "\n",
    "if __name__ == '__main__':\n",
    "    main()\n",
    "```\n",
    "The Hydra decorator, `@hydra_runner`, connects the configuration file and provides the mechanism for the command line overrides. \n",
    "\n",
    "Once the configuration is established, the key steps are:\n",
    "1. Instantiate the trainer with `trainer = pl.Trainer(plugins=[NLPDDPPlugin()], **cfg.trainer)`\n",
    "1. Instantiate the model with `model = TextClassificationModel(cfg.model, trainer=trainer)`\n",
    "1. Train the model with `trainer.fit(model)`\n",
    "\n",
    "Additional steps for optional inference and evaluation are:\n",
    "* Evaluate with `trainer.test(model=model, ckpt_path=None, verbose=False)`\n",
    "* Infer with `results = model.classifytext(queries=cfg.model.infer_samples, batch_size=16, max_seq_length=512)`"
   ]
  },
  {
   "cell_type": "markdown",
   "metadata": {
    "tags": []
   },
   "source": [
    "## 2.3.2 Model Training from Scratch\n",
    "Execute the following cell to restart the notebook kernel to clear variables and GPU memory."
   ]
  },
  {
   "cell_type": "code",
   "execution_count": 3,
   "metadata": {},
   "outputs": [
    {
     "data": {
      "text/plain": [
       "{'status': 'ok', 'restart': True}"
      ]
     },
     "execution_count": 3,
     "metadata": {},
     "output_type": "execute_result"
    }
   ],
   "source": [
    "# Restart the kernel\n",
    "import IPython\n",
    "app = IPython.Application.instance()\n",
    "app.kernel.do_shutdown(True)"
   ]
  },
  {
   "cell_type": "markdown",
   "metadata": {},
   "source": [
    "We start by importing the `nemo_nlp` collection, the experiment manager, PyTorch Lightning, and OmegaConf."
   ]
  },
  {
   "cell_type": "code",
   "execution_count": 1,
   "metadata": {},
   "outputs": [],
   "source": [
    "from nemo.collections import nlp as nemo_nlp\n",
    "from nemo.utils.exp_manager import exp_manager\n",
    "\n",
    "import torch\n",
    "import pytorch_lightning as pl\n",
    "from omegaconf import OmegaConf"
   ]
  },
  {
   "cell_type": "markdown",
   "metadata": {},
   "source": [
    "When running these training steps manually without the script or Hydra, the correct configuration must be set prior to instantiation.  We've already determined the changes we want to make to the config file for this project.  Previously, we used the Hydra override feature in the command line, but those changes are made this time using `OmegaConf`. The syntax looks similar, except this time we are directly changing the `OmegaConf` object, `config`, in Python, and will pass that object to `trainer`, `exp_manager`, and `model`.\n",
    "\n",
    "The default language model is `bert-base-uncased`.  To override it, add to the cell (for example):\n",
    "```python\n",
    "    PRETRAINED_MODEL_NAME = 'bert-base-cased'\n",
    "    config.model.language_model.pretrained_model_name=PRETRAINED_MODEL_NAME\n",
    "```"
   ]
  },
  {
   "cell_type": "code",
   "execution_count": 2,
   "metadata": {},
   "outputs": [],
   "source": [
    "# Instantiate the OmegaConf object by loading the config file\n",
    "TC_DIR = \"/dli/task/nemo/examples/nlp/text_classification\"\n",
    "CONFIG_FILE = \"text_classification_config.yaml\"\n",
    "config = OmegaConf.load(TC_DIR + \"/conf/\" + CONFIG_FILE)\n",
    "\n",
    "# set the values we want to change\n",
    "NUM_CLASSES = 3\n",
    "MAX_SEQ_LENGTH = 128\n",
    "PATH_TO_TRAIN_FILE = \"/dli/task/data/NCBI_tc-3/train_nemo_format.tsv\"\n",
    "PATH_TO_VAL_FILE = \"/dli/task/data/NCBI_tc-3/dev_nemo_format.tsv\"\n",
    "PATH_TO_TEST_FILE = \"/dli/task/data/NCBI_tc-3/test_nemo_format.tsv\"\n",
    "# disease domain inference sample answers should be 0, 1, 2 \n",
    "INFER_SAMPLES = [\"Germline mutations in BRCA1 are responsible for most cases of inherited breast and ovarian cancer \",\n",
    "        \"The first predictive testing for Huntington disease  was based on analysis of linked polymorphic DNA markers to estimate the likelihood of inheriting the mutation for HD\",\n",
    "        \"Further studies suggested that low dilutions of C5D serum contain a factor or factors interfering at some step in the hemolytic assay of C5 rather than a true C5 inhibitor or inactivator\"\n",
    "        ]\n",
    "MAX_EPOCHS = 5\n",
    "AMP_LEVEL = 'O1'\n",
    "PRECISION = 16\n",
    "LR = 5.0e-05\n",
    "\n",
    "# set the config values using omegaconf\n",
    "config.model.dataset.num_classes = NUM_CLASSES\n",
    "config.model.dataset.max_seq_length = MAX_SEQ_LENGTH\n",
    "config.model.train_ds.file_path = PATH_TO_TRAIN_FILE\n",
    "config.model.validation_ds.file_path = PATH_TO_VAL_FILE\n",
    "config.model.test_ds.file_path = PATH_TO_TEST_FILE\n",
    "config.model.infer_samples = INFER_SAMPLES\n",
    "config.trainer.max_epochs = MAX_EPOCHS\n",
    "config.trainer.amp_level = AMP_LEVEL\n",
    "config.trainer.precision = PRECISION\n",
    "config.model.optim.lr = LR"
   ]
  },
  {
   "cell_type": "markdown",
   "metadata": {},
   "source": [
    "Now that `config` has been updated with the correct values, instantiate the trainer and experiment manager."
   ]
  },
  {
   "cell_type": "code",
   "execution_count": 3,
   "metadata": {},
   "outputs": [
    {
     "name": "stderr",
     "output_type": "stream",
     "text": [
      "GPU available: True, used: True\n",
      "TPU available: False, using: 0 TPU cores\n",
      "Using native 16bit precision.\n"
     ]
    },
    {
     "name": "stdout",
     "output_type": "stream",
     "text": [
      "[NeMo I 2021-08-07 12:29:06 exp_manager:216] Experiments will be logged at /dli/task/nemo_experiments/TextClassification/2021-08-07_12-29-06\n",
      "[NeMo I 2021-08-07 12:29:06 exp_manager:563] TensorboardLogger has been set up\n"
     ]
    },
    {
     "data": {
      "text/plain": [
       "PosixPath('/dli/task/nemo_experiments/TextClassification/2021-08-07_12-29-06')"
      ]
     },
     "execution_count": 3,
     "metadata": {},
     "output_type": "execute_result"
    }
   ],
   "source": [
    "# Instantiate the trainer and experiment manager\n",
    "trainer = pl.Trainer(**config.trainer)\n",
    "exp_manager(trainer, config.exp_manager)"
   ]
  },
  {
   "cell_type": "code",
   "execution_count": 4,
   "metadata": {
    "scrolled": true,
    "tags": []
   },
   "outputs": [
    {
     "name": "stderr",
     "output_type": "stream",
     "text": [
      "Using bos_token, but it is not set yet.\n",
      "Using eos_token, but it is not set yet.\n"
     ]
    },
    {
     "name": "stdout",
     "output_type": "stream",
     "text": [
      "[NeMo I 2021-08-07 12:29:10 text_classification_dataset:120] Read 683 examples from /dli/task/data/NCBI_tc-3/train_nemo_format.tsv.\n",
      "[NeMo I 2021-08-07 12:29:10 text_classification_dataset:238] *** Example ***\n",
      "[NeMo I 2021-08-07 12:29:10 text_classification_dataset:239] example 0: ['Haplotype', 'analysis', 'of', 'the', 'phenylalanine', 'hydroxylase', 'gene', 'in', 'Turkish', 'phenylketonuria', 'families.', 'We', 'have', 'estimated', 'the', 'haplotype', 'distribution', 'of', 'mutant', 'and', 'normal', 'phenylalanine', 'hydroxylase', '(', 'PAH', ')', 'alleles', 'for', '17', 'Turkish', 'phenylketonuria', '(', 'PKU', ')', 'families', '20', 'normal', 'and', '27', 'mutated', 'PAH', 'alleles', 'could', 'be', 'identified', '.', 'Of', 'the', 'latter', ',', 'the', 'most', 'prevalent', 'were', 'associated', 'with', 'haplotype', '6', '(', '29', '.', '6', '%', ')', ',', '1', '(', '18', '.', '5', '%', ')', 'and', '36', '(', '11', '.', '1', '%', ')', ',', 'while', 'the', 'normal', 'alleles', 'were', 'preferentially', 'associated', 'with', 'haplotype', '1', '(', '20', '%', ')', '.', 'Of', 'the', '19', 'different', 'haplotypes', 'observed', ',', '5', 'have', 'not', 'been', 'described', 'previously', '.', 'The', 'haplotype', 'distribution', 'differed', 'significantly', 'from', 'that', 'of', 'the', 'Northern', 'European', 'population', '.', 'Two', 'of', 'the', 'eight', 'polymorphic', 'sites', 'were', 'in', 'association', 'with', 'PKU', '.', 'No', 'deletions', 'of', 'exon', 'sequences', 'were', 'found', 'in', 'the', 'families', 'analysed', '.']\n",
      "[NeMo I 2021-08-07 12:29:10 text_classification_dataset:240] subtokens: [CLS] ha ##pl ##otype analysis of the ph ##en ##yla ##lani ##ne hydro ##xy ##lase gene in turkish ph ##en ##yl ##ke ##ton ##uria families . we have estimated the ha ##pl ##otype distribution of mutant and normal ph ##en ##yla ##lani ##ne hydro ##xy ##lase ( pa ##h ) all ##eles for 17 turkish ph ##en ##yl ##ke ##ton ##uria ( p ##ku ) families 20 normal and 27 mu ##tated pa ##h all ##eles could be identified . of the latter , the most prevalent were associated with ha ##pl ##otype 6 ( 29 . 6 % ) , 1 ( 18 . 5 % ) and 36 ( 11 . 1 % ) , while the normal all ##eles were prefer ##ential ##ly associated with [SEP]\n",
      "[NeMo I 2021-08-07 12:29:10 text_classification_dataset:241] input_ids: 101 5292 24759 26305 4106 1997 1996 6887 2368 23943 21141 2638 18479 18037 25002 4962 1999 5037 6887 2368 8516 3489 2669 27703 2945 1012 2057 2031 4358 1996 5292 24759 26305 4353 1997 15527 1998 3671 6887 2368 23943 21141 2638 18479 18037 25002 1006 6643 2232 1007 2035 26741 2005 2459 5037 6887 2368 8516 3489 2669 27703 1006 1052 5283 1007 2945 2322 3671 1998 2676 14163 16238 6643 2232 2035 26741 2071 2022 4453 1012 1997 1996 3732 1010 1996 2087 15157 2020 3378 2007 5292 24759 26305 1020 1006 2756 1012 1020 1003 1007 1010 1015 1006 2324 1012 1019 1003 1007 1998 4029 1006 2340 1012 1015 1003 1007 1010 2096 1996 3671 2035 26741 2020 9544 24271 2135 3378 2007 102\n",
      "[NeMo I 2021-08-07 12:29:10 text_classification_dataset:242] segment_ids: 0 0 0 0 0 0 0 0 0 0 0 0 0 0 0 0 0 0 0 0 0 0 0 0 0 0 0 0 0 0 0 0 0 0 0 0 0 0 0 0 0 0 0 0 0 0 0 0 0 0 0 0 0 0 0 0 0 0 0 0 0 0 0 0 0 0 0 0 0 0 0 0 0 0 0 0 0 0 0 0 0 0 0 0 0 0 0 0 0 0 0 0 0 0 0 0 0 0 0 0 0 0 0 0 0 0 0 0 0 0 0 0 0 0 0 0 0 0 0 0 0 0 0 0 0 0 0 0 0\n",
      "[NeMo I 2021-08-07 12:29:10 text_classification_dataset:243] input_mask: 1 1 1 1 1 1 1 1 1 1 1 1 1 1 1 1 1 1 1 1 1 1 1 1 1 1 1 1 1 1 1 1 1 1 1 1 1 1 1 1 1 1 1 1 1 1 1 1 1 1 1 1 1 1 1 1 1 1 1 1 1 1 1 1 1 1 1 1 1 1 1 1 1 1 1 1 1 1 1 1 1 1 1 1 1 1 1 1 1 1 1 1 1 1 1 1 1 1 1 1 1 1 1 1 1 1 1 1 1 1 1 1 1 1 1 1 1 1 1 1 1 1 1 1 1 1 1 1 1\n",
      "[NeMo I 2021-08-07 12:29:10 text_classification_dataset:244] label: 2\n",
      "[NeMo I 2021-08-07 12:29:10 text_classification_dataset:238] *** Example ***\n",
      "[NeMo I 2021-08-07 12:29:10 text_classification_dataset:239] example 1: ['Molecular', 'defects', 'leading', 'to', 'human', 'complement', 'component', 'C6', 'deficiency', 'in', 'an', 'African-American', 'family.', 'Complement', 'component', 'C6', 'deficiency', '(', 'C6D', ')', 'was', 'diagnosed', 'in', 'a', '16-year-old', 'African-American', 'male', 'with', 'meningococcal', 'meningitis', '.', 'The', 'patients', 'father', 'and', 'two', 'brothers', 'also', 'had', 'C6D', ',', 'but', 'gave', 'no', 'history', 'of', 'meningitis', 'or', 'other', 'neisserial', 'infection', '.', 'By', 'using', 'exon-specific', 'polymerase', 'chain', 'reaction', '(', 'PCR', ')', '/', 'single-strand', 'conformation', 'polymorphism', 'as', 'a', 'screening', 'step', 'and', 'nucleotide', 'sequencing', 'of', 'target', 'exons', ',', 'we', 'determined', 'that', 'the', 'proband', 'was', 'a', 'compound', 'heterozygote', 'for', 'two', 'C6', 'gene', 'mutations', '.', 'The', 'first', ',', '1195delC', 'located', 'in', 'exon', '7', ',', 'is', 'a', 'novel', 'mutation', ',', 'while', 'the', 'second', ',', '1936delG', 'in', 'exon', '12', ',', 'has', 'been', 'described', 'before', 'to', 'cause', 'C6D', 'in', 'an', 'unrelated', 'African-American', 'individual', '.', 'Both', 'mutations', 'result', 'in', 'premature', 'termination', 'codons', 'and', 'C6', 'null', 'alleles', '.', 'Allele-specific', 'PCR', 'indicated', 'that', 'the', 'probands', 'two', 'brothers', 'also', 'inherited', 'the', '1195delC', 'mutation', 'from', 'their', 'heterozygous', 'mother', 'and', 'the', '1936delG', 'mutation', 'from', 'their', 'homozygous', 'father', '.', '.']\n",
      "[NeMo I 2021-08-07 12:29:10 text_classification_dataset:240] subtokens: [CLS] molecular defects leading to human complement component c ##6 deficiency in an african - american family . complement component c ##6 deficiency ( c ##6 ##d ) was diagnosed in a 16 - year - old african - american male with men ##ing ##oco ##cca ##l men ##ing ##itis . the patients father and two brothers also had c ##6 ##d , but gave no history of men ##ing ##itis or other ne ##isse ##rial infection . by using ex ##on - specific polymer ##ase chain reaction ( pc ##r ) / single - strand conform ##ation poly ##morphism as a screening step and nu ##cle ##otide sequencing of target ex ##ons , we determined that the pro ##band was a compound het ##ero ##zy ##go ##te [SEP]\n",
      "[NeMo I 2021-08-07 12:29:10 text_classification_dataset:241] input_ids: 101 8382 18419 2877 2000 2529 13711 6922 1039 2575 18888 1999 2019 3060 1011 2137 2155 1012 13711 6922 1039 2575 18888 1006 1039 2575 2094 1007 2001 11441 1999 1037 2385 1011 2095 1011 2214 3060 1011 2137 3287 2007 2273 2075 24163 16665 2140 2273 2075 13706 1012 1996 5022 2269 1998 2048 3428 2036 2018 1039 2575 2094 1010 2021 2435 2053 2381 1997 2273 2075 13706 2030 2060 11265 23491 14482 8985 1012 2011 2478 4654 2239 1011 3563 17782 11022 4677 4668 1006 7473 2099 1007 1013 2309 1011 11226 23758 3370 26572 19539 2004 1037 11326 3357 1998 16371 14321 26601 24558 1997 4539 4654 5644 1010 2057 4340 2008 1996 4013 12733 2001 1037 7328 21770 10624 9096 3995 2618 102\n",
      "[NeMo I 2021-08-07 12:29:10 text_classification_dataset:242] segment_ids: 0 0 0 0 0 0 0 0 0 0 0 0 0 0 0 0 0 0 0 0 0 0 0 0 0 0 0 0 0 0 0 0 0 0 0 0 0 0 0 0 0 0 0 0 0 0 0 0 0 0 0 0 0 0 0 0 0 0 0 0 0 0 0 0 0 0 0 0 0 0 0 0 0 0 0 0 0 0 0 0 0 0 0 0 0 0 0 0 0 0 0 0 0 0 0 0 0 0 0 0 0 0 0 0 0 0 0 0 0 0 0 0 0 0 0 0 0 0 0 0 0 0 0 0 0 0 0 0 0\n",
      "[NeMo I 2021-08-07 12:29:10 text_classification_dataset:243] input_mask: 1 1 1 1 1 1 1 1 1 1 1 1 1 1 1 1 1 1 1 1 1 1 1 1 1 1 1 1 1 1 1 1 1 1 1 1 1 1 1 1 1 1 1 1 1 1 1 1 1 1 1 1 1 1 1 1 1 1 1 1 1 1 1 1 1 1 1 1 1 1 1 1 1 1 1 1 1 1 1 1 1 1 1 1 1 1 1 1 1 1 1 1 1 1 1 1 1 1 1 1 1 1 1 1 1 1 1 1 1 1 1 1 1 1 1 1 1 1 1 1 1 1 1 1 1 1 1 1 1\n",
      "[NeMo I 2021-08-07 12:29:10 text_classification_dataset:244] label: 2\n"
     ]
    },
    {
     "name": "stderr",
     "output_type": "stream",
     "text": [
      "[NeMo W 2021-08-07 12:29:21 text_classification_dataset:250] Found 664 out of 683 sentences with more than 128 subtokens. Truncated long sentences from the end.\n"
     ]
    },
    {
     "name": "stdout",
     "output_type": "stream",
     "text": [
      "[NeMo I 2021-08-07 12:29:21 data_preprocessing:299] Some stats of the lengths of the sequences:\n",
      "[NeMo I 2021-08-07 12:29:21 data_preprocessing:301] Min: 74 |                  Max: 129 |                  Mean: 128.36163982430455 |                  Median: 129.0\n",
      "[NeMo I 2021-08-07 12:29:21 data_preprocessing:307] 75 percentile: 129.00\n",
      "[NeMo I 2021-08-07 12:29:21 data_preprocessing:308] 99 percentile: 129.00\n",
      "[NeMo I 2021-08-07 12:29:21 text_classification_dataset:120] Read 100 examples from /dli/task/data/NCBI_tc-3/dev_nemo_format.tsv.\n",
      "[NeMo I 2021-08-07 12:29:21 text_classification_dataset:238] *** Example ***\n",
      "[NeMo I 2021-08-07 12:29:21 text_classification_dataset:239] example 0: ['BRCA1', 'is', 'secreted', 'and', 'exhibits', 'properties', 'of', 'a', 'granin.', 'Germline', 'mutations', 'in', 'BRCA1', 'are', 'responsible', 'for', 'most', 'cases', 'of', 'inherited', 'breast', 'and', 'ovarian', 'cancer', '.', 'However', ',', 'the', 'function', 'of', 'the', 'BRCA1', 'protein', 'has', 'remained', 'elusive', '.', 'We', 'now', 'show', 'that', 'BRCA1', 'encodes', 'a', '190-kD', 'protein', 'with', 'sequence', 'homology', 'and', 'biochemical', 'analogy', 'to', 'the', 'granin', 'protein', 'family', '.', 'Interestingly', ',', 'BRCA2', 'also', 'includes', 'a', 'motif', 'similar', 'to', 'the', 'granin', 'consensus', 'at', 'the', 'C', 'terminus', 'of', 'the', 'protein', '.', 'Both', 'BRCA1', 'and', 'the', 'granins', 'localize', 'to', 'secretory', 'vesicles', ',', 'are', 'secreted', 'by', 'a', 'regulated', 'pathway', ',', 'are', 'post-translationally', 'glycosylated', 'and', 'are', 'responsive', 'to', 'hormones', '.', 'As', 'a', 'regulated', 'secretory', 'protein', ',', 'BRCA1', 'appears', 'to', 'function', 'by', 'a', 'mechanism', 'not', 'previously', 'described', 'for', 'tumour', 'suppressor', 'gene', 'products', '.', '.']\n",
      "[NeMo I 2021-08-07 12:29:21 text_classification_dataset:240] subtokens: [CLS] br ##ca ##1 is secret ##ed and exhibits properties of a gran ##in . ge ##rm ##line mutations in br ##ca ##1 are responsible for most cases of inherited breast and o ##var ##ian cancer . however , the function of the br ##ca ##1 protein has remained elusive . we now show that br ##ca ##1 en ##codes a 190 - k ##d protein with sequence homo ##logy and bio ##chemical analogy to the gran ##in protein family . interesting ##ly , br ##ca ##2 also includes a motif similar to the gran ##in consensus at the c terminus of the protein . both br ##ca ##1 and the gran ##ins local ##ize to secret ##ory ve ##sic ##les , are secret ##ed by a regulated [SEP]\n",
      "[NeMo I 2021-08-07 12:29:21 text_classification_dataset:241] input_ids: 101 7987 3540 2487 2003 3595 2098 1998 10637 5144 1997 1037 12604 2378 1012 16216 10867 4179 14494 1999 7987 3540 2487 2024 3625 2005 2087 3572 1997 7900 7388 1998 1051 10755 2937 4456 1012 2174 1010 1996 3853 1997 1996 7987 3540 2487 5250 2038 2815 26475 1012 2057 2085 2265 2008 7987 3540 2487 4372 23237 1037 11827 1011 1047 2094 5250 2007 5537 24004 6483 1998 16012 15869 23323 2000 1996 12604 2378 5250 2155 1012 5875 2135 1010 7987 3540 2475 2036 2950 1037 16226 2714 2000 1996 12604 2378 10465 2012 1996 1039 7342 1997 1996 5250 1012 2119 7987 3540 2487 1998 1996 12604 7076 2334 4697 2000 3595 10253 2310 19570 4244 1010 2024 3595 2098 2011 1037 12222 102\n",
      "[NeMo I 2021-08-07 12:29:21 text_classification_dataset:242] segment_ids: 0 0 0 0 0 0 0 0 0 0 0 0 0 0 0 0 0 0 0 0 0 0 0 0 0 0 0 0 0 0 0 0 0 0 0 0 0 0 0 0 0 0 0 0 0 0 0 0 0 0 0 0 0 0 0 0 0 0 0 0 0 0 0 0 0 0 0 0 0 0 0 0 0 0 0 0 0 0 0 0 0 0 0 0 0 0 0 0 0 0 0 0 0 0 0 0 0 0 0 0 0 0 0 0 0 0 0 0 0 0 0 0 0 0 0 0 0 0 0 0 0 0 0 0 0 0 0 0 0\n",
      "[NeMo I 2021-08-07 12:29:21 text_classification_dataset:243] input_mask: 1 1 1 1 1 1 1 1 1 1 1 1 1 1 1 1 1 1 1 1 1 1 1 1 1 1 1 1 1 1 1 1 1 1 1 1 1 1 1 1 1 1 1 1 1 1 1 1 1 1 1 1 1 1 1 1 1 1 1 1 1 1 1 1 1 1 1 1 1 1 1 1 1 1 1 1 1 1 1 1 1 1 1 1 1 1 1 1 1 1 1 1 1 1 1 1 1 1 1 1 1 1 1 1 1 1 1 1 1 1 1 1 1 1 1 1 1 1 1 1 1 1 1 1 1 1 1 1 1\n",
      "[NeMo I 2021-08-07 12:29:21 text_classification_dataset:244] label: 0\n",
      "[NeMo I 2021-08-07 12:29:21 text_classification_dataset:238] *** Example ***\n",
      "[NeMo I 2021-08-07 12:29:21 text_classification_dataset:239] example 1: ['Ovarian', 'cancer', 'risk', 'in', 'BRCA1', 'carriers', 'is', 'modified', 'by', 'the', 'HRAS1', 'variable', 'number', 'of', 'tandem', 'repeat', '(VNTR)', 'locus.', 'Women', 'who', 'carry', 'a', 'mutation', 'in', 'the', 'BRCA1', 'gene', '(', 'on', 'chromosome', '17q21', ')', ',', 'have', 'an', '80', '%', 'risk', 'of', 'breast', 'cancer', 'and', 'a', '40', '%', 'risk', 'of', 'ovarian', 'cancer', 'by', 'the', 'age', 'of', '70', '(', 'ref', '.', '1', ')', '.', 'The', 'variable', 'penetrance', 'of', 'BRCA1', 'suggests', 'that', 'other', 'genetic', 'and', 'non-genetic', 'factors', 'play', 'a', 'role', 'in', 'tumourigenesis', 'in', 'these', 'individuals', '.', 'The', 'HRAS1', 'variable', 'number', 'of', 'tandem', 'repeats', '(', 'VNTR', ')', 'polymorphism', ',', 'located', '1', 'kilobase', '(', 'kb', ')', 'downstream', 'of', 'the', 'HRAS1', 'proto-oncogene', '(', 'chromosome', '11p15', '.', '5', ')', 'is', 'one', 'possible', 'genetic', 'modifier', 'of', 'cancer', 'penetrance', '.', 'Individuals', 'who', 'have', 'rare', 'alleles', 'of', 'the', 'VNTR', 'have', 'an', 'increased', 'risk', 'of', 'certain', 'types', 'of', 'cancers', ',', 'including', 'breast', 'cancer', '(', '2-4', ')', '.', 'To', 'investigate', 'whether', 'the', 'presence', 'of', 'rare', 'HRAS1', 'alleles', 'increases', 'susceptibility', 'to', 'hereditary', 'breast', 'and', 'ovarian', 'cancer', ',', 'we', 'have', 'typed', 'a', 'panel', 'of', '307', 'female', 'BRCA1', 'carriers', 'at', 'this', 'locus', 'using', 'a', 'PCR-based', 'technique', '.', 'The', 'risk', 'for', 'ovarian', 'cancer', 'was', '2', '.', '11', 'times', 'greater', 'for', 'BRCA1', 'carriers', 'harbouring', 'one', 'or', 'two', 'rare', 'HRAS1', 'alleles', ',', 'compared', 'to', 'carriers', 'with', 'only', 'common', 'alleles', '(', 'P', '=', '0', '.', '015', ')', '.', 'The', 'magnitude', 'of', 'the', 'relative', 'risk', 'associated', 'with', 'a', 'rare', 'HRAS1', 'allele', 'was', 'not', 'altered', 'by', 'adjusting', 'for', 'the', 'other', 'known', 'risk', 'factors', 'for', 'hereditary', 'ovarian', 'cancer', '(', '5', ')', '.', 'Susceptibility', 'to', 'breast', 'cancer', 'did', 'not', 'appear', 'to', 'be', 'affected', 'by', 'the', 'presence', 'of', 'rare', 'HRAS1', 'alleles', '.', 'This', 'study', 'is', 'the', 'first', 'to', 'show', 'the', 'effect', 'of', 'a', 'modifying', 'gene', 'on', 'the', 'penetrance', 'of', 'an', 'inherited', 'cancer', 'syndrome']\n",
      "[NeMo I 2021-08-07 12:29:21 text_classification_dataset:240] subtokens: [CLS] o ##var ##ian cancer risk in br ##ca ##1 carriers is modified by the hr ##as ##1 variable number of tandem repeat ( v ##nt ##r ) locus . women who carry a mutation in the br ##ca ##1 gene ( on chromosome 17 ##q ##21 ) , have an 80 % risk of breast cancer and a 40 % risk of o ##var ##ian cancer by the age of 70 ( ref . 1 ) . the variable pen ##et ##rance of br ##ca ##1 suggests that other genetic and non - genetic factors play a role in tu ##mour ##igen ##esis in these individuals . the hr ##as ##1 variable number of tandem repeats ( v ##nt ##r ) poly ##morphism , located 1 ki [SEP]\n",
      "[NeMo I 2021-08-07 12:29:21 text_classification_dataset:241] input_ids: 101 1051 10755 2937 4456 3891 1999 7987 3540 2487 11363 2003 6310 2011 1996 17850 3022 2487 8023 2193 1997 18231 9377 1006 1058 3372 2099 1007 25206 1012 2308 2040 4287 1037 16221 1999 1996 7987 3540 2487 4962 1006 2006 16706 2459 4160 17465 1007 1010 2031 2019 3770 1003 3891 1997 7388 4456 1998 1037 2871 1003 3891 1997 1051 10755 2937 4456 2011 1996 2287 1997 3963 1006 25416 1012 1015 1007 1012 1996 8023 7279 3388 21621 1997 7987 3540 2487 6083 2008 2060 7403 1998 2512 1011 7403 5876 2377 1037 2535 1999 10722 20360 29206 19009 1999 2122 3633 1012 1996 17850 3022 2487 8023 2193 1997 18231 17993 1006 1058 3372 2099 1007 26572 19539 1010 2284 1015 11382 102\n",
      "[NeMo I 2021-08-07 12:29:21 text_classification_dataset:242] segment_ids: 0 0 0 0 0 0 0 0 0 0 0 0 0 0 0 0 0 0 0 0 0 0 0 0 0 0 0 0 0 0 0 0 0 0 0 0 0 0 0 0 0 0 0 0 0 0 0 0 0 0 0 0 0 0 0 0 0 0 0 0 0 0 0 0 0 0 0 0 0 0 0 0 0 0 0 0 0 0 0 0 0 0 0 0 0 0 0 0 0 0 0 0 0 0 0 0 0 0 0 0 0 0 0 0 0 0 0 0 0 0 0 0 0 0 0 0 0 0 0 0 0 0 0 0 0 0 0 0 0\n",
      "[NeMo I 2021-08-07 12:29:21 text_classification_dataset:243] input_mask: 1 1 1 1 1 1 1 1 1 1 1 1 1 1 1 1 1 1 1 1 1 1 1 1 1 1 1 1 1 1 1 1 1 1 1 1 1 1 1 1 1 1 1 1 1 1 1 1 1 1 1 1 1 1 1 1 1 1 1 1 1 1 1 1 1 1 1 1 1 1 1 1 1 1 1 1 1 1 1 1 1 1 1 1 1 1 1 1 1 1 1 1 1 1 1 1 1 1 1 1 1 1 1 1 1 1 1 1 1 1 1 1 1 1 1 1 1 1 1 1 1 1 1 1 1 1 1 1 1\n",
      "[NeMo I 2021-08-07 12:29:21 text_classification_dataset:244] label: 0\n"
     ]
    },
    {
     "name": "stderr",
     "output_type": "stream",
     "text": [
      "[NeMo W 2021-08-07 12:29:23 text_classification_dataset:250] Found 99 out of 100 sentences with more than 128 subtokens. Truncated long sentences from the end.\n"
     ]
    },
    {
     "name": "stdout",
     "output_type": "stream",
     "text": [
      "[NeMo I 2021-08-07 12:29:23 data_preprocessing:299] Some stats of the lengths of the sequences:\n",
      "[NeMo I 2021-08-07 12:29:23 data_preprocessing:301] Min: 120 |                  Max: 129 |                  Mean: 128.91 |                  Median: 129.0\n",
      "[NeMo I 2021-08-07 12:29:23 data_preprocessing:307] 75 percentile: 129.00\n",
      "[NeMo I 2021-08-07 12:29:23 data_preprocessing:308] 99 percentile: 129.00\n",
      "[NeMo I 2021-08-07 12:29:23 text_classification_dataset:120] Read 10 examples from /dli/task/data/NCBI_tc-3/test_nemo_format.tsv.\n",
      "[NeMo I 2021-08-07 12:29:23 text_classification_dataset:238] *** Example ***\n",
      "[NeMo I 2021-08-07 12:29:23 text_classification_dataset:239] example 0: ['Clustering', 'of', 'missense', 'mutations', 'in', 'the', 'ataxia-telangiectasia', 'gene', 'in', 'a', 'sporadic', 'T-cell', 'leukaemia.', 'Ataxia-telangiectasia', '(', 'A-T', ')', 'is', 'a', 'recessive', 'multi-system', 'disorder', 'caused', 'by', 'mutations', 'in', 'the', 'ATM', 'gene', 'at', '11q22-q23', '(', 'ref', '.', '3', ')', '.', 'The', 'risk', 'of', 'cancer', ',', 'especially', 'lymphoid', 'neoplasias', ',', 'is', 'substantially', 'elevated', 'in', 'A-T', 'patients', 'and', 'has', 'long', 'been', 'associated', 'with', 'chromosomal', 'instability', '.', 'By', 'analysing', 'tumour', 'DNA', 'from', 'patients', 'with', 'sporadic', 'T-cell', 'prolymphocytic', 'leukaemia', '(', 'T-PLL', ')', ',', 'a', 'rare', 'clonal', 'malignancy', 'with', 'similarities', 'to', 'a', 'mature', 'T-cell', 'leukaemia', 'seen', 'in', 'A-T', ',', 'we', 'demonstrate', 'a', 'high', 'frequency', 'of', 'ATM', 'mutations', 'in', 'T-PLL', '.', 'In', 'marked', 'contrast', 'to', 'the', 'ATM', 'mutation', 'pattern', 'in', 'A-T', ',', 'the', 'most', 'frequent', 'nucleotide', 'changes', 'in', 'this', 'leukaemia', 'were', 'missense', 'mutations', '.', 'These', 'clustered', 'in', 'the', 'region', 'corresponding', 'to', 'the', 'kinase', 'domain', ',', 'which', 'is', 'highly', 'conserved', 'in', 'ATM-related', 'proteins', 'in', 'mouse', ',', 'yeast', 'and', 'Drosophila', '.', 'The', 'resulting', 'amino-acid', 'substitutions', 'are', 'predicted', 'to', 'interfere', 'with', 'ATP', 'binding', 'or', 'substrate', 'recognition', '.', 'Two', 'of', 'seventeen', 'mutated', 'T-PLL', 'samples', 'had', 'a', 'previously', 'reported', 'A-T', 'allele', '.', 'In', 'contrast', ',', 'no', 'mutations', 'were', 'detected', 'in', 'the', 'p53', 'gene', ',', 'suggesting', 'that', 'this', 'tumour', 'suppressor', 'is', 'not', 'frequently', 'altered', 'in', 'this', 'leukaemia', '.', 'Occasional', 'missense', 'mutations', 'in', 'ATM', 'were', 'also', 'found', 'in', 'tumour', 'DNA', 'from', 'patients', 'with', 'B-cell', 'non-Hodgkins', 'lymphomas', '(', 'B-NHL', ')', 'and', 'a', 'B-NHL', 'cell', 'line', '.', 'The', 'evidence', 'of', 'a', 'significant', 'proportion', 'of', 'loss-of-function', 'mutations', 'and', 'a', 'complete', 'absence', 'of', 'the', 'normal', 'copy', 'of', 'ATM', 'in', 'the', 'majority', 'of', 'mutated', 'tumours', 'establishes', 'somatic', 'inactivation', 'of', 'this', 'gene', 'in', 'the', 'pathogenesis', 'of', 'sporadic', 'T-PLL', 'and', 'suggests', 'that', 'ATM', 'acts', 'as', 'a', 'tumour', 'suppressor', '.', 'As', 'constitutional', 'DNA', 'was', 'not', 'available', ',', 'a', 'putative', 'hereditary', 'predisposition', 'to', 'T-PLL', 'will', 'require', 'further', 'investigation', '.', '.']\n",
      "[NeMo I 2021-08-07 12:29:23 text_classification_dataset:240] subtokens: [CLS] cluster ##ing of miss ##ense mutations in the ata ##xia - tel ##ang ##iec ##tas ##ia gene in a sporadic t - cell le ##uka ##emia . ata ##xia - tel ##ang ##iec ##tas ##ia ( a - t ) is a recess ##ive multi - system disorder caused by mutations in the atm gene at 11 ##q ##22 - q ##23 ( ref . 3 ) . the risk of cancer , especially l ##ym ##ph ##oid neo ##pl ##asia ##s , is substantially elevated in a - t patients and has long been associated with ch ##rom ##osomal instability . by anal ##ys ##ing tu ##mour dna from patients with sporadic t - cell pro ##ly ##mp ##ho ##cy ##tic le ##uka ##emia ( t [SEP]\n",
      "[NeMo I 2021-08-07 12:29:23 text_classification_dataset:241] input_ids: 101 9324 2075 1997 3335 16700 14494 1999 1996 29533 14787 1011 10093 5654 23783 10230 2401 4962 1999 1037 24590 1056 1011 3526 3393 15750 17577 1012 29533 14787 1011 10093 5654 23783 10230 2401 1006 1037 1011 1056 1007 2003 1037 28290 3512 4800 1011 2291 8761 3303 2011 14494 1999 1996 27218 4962 2012 2340 4160 19317 1011 1053 21926 1006 25416 1012 1017 1007 1012 1996 3891 1997 4456 1010 2926 1048 24335 8458 9314 9253 24759 15396 2015 1010 2003 12381 8319 1999 1037 1011 1056 5022 1998 2038 2146 2042 3378 2007 10381 21716 27642 18549 1012 2011 20302 7274 2075 10722 20360 6064 2013 5022 2007 24590 1056 1011 3526 4013 2135 8737 6806 5666 4588 3393 15750 17577 1006 1056 102\n",
      "[NeMo I 2021-08-07 12:29:23 text_classification_dataset:242] segment_ids: 0 0 0 0 0 0 0 0 0 0 0 0 0 0 0 0 0 0 0 0 0 0 0 0 0 0 0 0 0 0 0 0 0 0 0 0 0 0 0 0 0 0 0 0 0 0 0 0 0 0 0 0 0 0 0 0 0 0 0 0 0 0 0 0 0 0 0 0 0 0 0 0 0 0 0 0 0 0 0 0 0 0 0 0 0 0 0 0 0 0 0 0 0 0 0 0 0 0 0 0 0 0 0 0 0 0 0 0 0 0 0 0 0 0 0 0 0 0 0 0 0 0 0 0 0 0 0 0 0\n",
      "[NeMo I 2021-08-07 12:29:23 text_classification_dataset:243] input_mask: 1 1 1 1 1 1 1 1 1 1 1 1 1 1 1 1 1 1 1 1 1 1 1 1 1 1 1 1 1 1 1 1 1 1 1 1 1 1 1 1 1 1 1 1 1 1 1 1 1 1 1 1 1 1 1 1 1 1 1 1 1 1 1 1 1 1 1 1 1 1 1 1 1 1 1 1 1 1 1 1 1 1 1 1 1 1 1 1 1 1 1 1 1 1 1 1 1 1 1 1 1 1 1 1 1 1 1 1 1 1 1 1 1 1 1 1 1 1 1 1 1 1 1 1 1 1 1 1 1\n",
      "[NeMo I 2021-08-07 12:29:23 text_classification_dataset:244] label: 0\n",
      "[NeMo I 2021-08-07 12:29:23 text_classification_dataset:238] *** Example ***\n",
      "[NeMo I 2021-08-07 12:29:23 text_classification_dataset:239] example 1: ['Myotonic', 'dystrophy', 'protein', 'kinase', 'is', 'involved', 'in', 'the', 'modulation', 'of', 'the', 'Ca2+', 'homeostasis', 'in', 'skeletal', 'muscle', 'cells.', 'Myotonic', 'dystrophy', '(', 'DM', ')', ',', 'the', 'most', 'prevalent', 'muscular', 'disorder', 'in', 'adults', ',', 'is', 'caused', 'by', '(', 'CTG', ')', 'n-repeat', 'expansion', 'in', 'a', 'gene', 'encoding', 'a', 'protein', 'kinase', '(', 'DM', 'protein', 'kinase', ';', 'DMPK', ')', 'and', 'involves', 'changes', 'in', 'cytoarchitecture', 'and', 'ion', 'homeostasis', '.', 'To', 'obtain', 'clues', 'to', 'the', 'normal', 'biological', 'role', 'of', 'DMPK', 'in', 'cellular', 'ion', 'homeostasis', ',', 'we', 'have', 'compared', 'the', 'resting', '[', 'Ca2', '+', ']', 'i', ',', 'the', 'amplitude', 'and', 'shape', 'of', 'depolarization-induced', 'Ca2', '+', 'transients', ',', 'and', 'the', 'content', 'of', 'ATP-driven', 'ion', 'pumps', 'in', 'cultured', 'skeletal', 'muscle', 'cells', 'of', 'wild-type', 'and', 'DMPK', '[', '-', '/', '-', ']', 'knockout', 'mice', '.', 'In', 'vitro-differentiated', 'DMPK', '[', '-', '/', '-', ']', 'myotubes', 'exhibit', 'a', 'higher', 'resting', '[', 'Ca2', '+', ']', 'i', 'than', 'do', 'wild-type', 'myotubes', 'because', 'of', 'an', 'altered', 'open', 'probability', 'of', 'voltage-dependent', 'l-type', 'Ca2', '+', 'and', 'Na', '+', 'channels', '.', 'The', 'mutant', 'myotubes', 'exhibit', 'smaller', 'and', 'slower', 'Ca2', '+', 'responses', 'upon', 'triggering', 'by', 'acetylcholine', 'or', 'high', 'external', 'K', '+', '.', 'In', 'addition', ',', 'we', 'observed', 'that', 'these', 'Ca2', '+', 'transients', 'partially', 'result', 'from', 'an', 'influx', 'of', 'extracellular', 'Ca2', '+', 'through', 'the', 'l-type', 'Ca2', '+', 'channel', '.', 'Neither', 'the', 'content', 'nor', 'the', 'activity', 'of', 'Na', '+', '/', 'K', '+', 'ATPase', 'and', 'sarcoplasmic', 'reticulum', 'Ca2', '+', '-ATPase', 'are', 'affected', 'by', 'DMPK', 'absence', '.', 'In', 'conclusion', ',', 'our', 'data', 'suggest', 'that', 'DMPK', 'is', 'involved', 'in', 'modulating', 'the', 'initial', 'events', 'of', 'excitation-contraction', 'coupling', 'in', 'skeletal', 'muscle', '.', '.']\n",
      "[NeMo I 2021-08-07 12:29:23 text_classification_dataset:240] subtokens: [CLS] my ##oton ##ic d ##yst ##rop ##hy protein kinase is involved in the modulation of the ca ##2 + home ##osta ##sis in skeletal muscle cells . my ##oton ##ic d ##yst ##rop ##hy ( d ##m ) , the most prevalent muscular disorder in adults , is caused by ( ct ##g ) n - repeat expansion in a gene encoding a protein kinase ( d ##m protein kinase ; d ##mp ##k ) and involves changes in cy ##to ##ar ##chi ##tec ##ture and ion home ##osta ##sis . to obtain clues to the normal biological role of d ##mp ##k in cellular ion home ##osta ##sis , we have compared the resting [ ca ##2 + ] i , the amplitude and shape of [SEP]\n",
      "[NeMo I 2021-08-07 12:29:23 text_classification_dataset:241] input_ids: 101 2026 25862 2594 1040 27268 18981 10536 5250 21903 2003 2920 1999 1996 25502 1997 1996 6187 2475 1009 2188 28696 6190 1999 20415 6740 4442 1012 2026 25862 2594 1040 27268 18981 10536 1006 1040 2213 1007 1010 1996 2087 15157 13472 8761 1999 6001 1010 2003 3303 2011 1006 14931 2290 1007 1050 1011 9377 4935 1999 1037 4962 17181 1037 5250 21903 1006 1040 2213 5250 21903 1025 1040 8737 2243 1007 1998 7336 3431 1999 22330 3406 2906 5428 26557 11244 1998 10163 2188 28696 6190 1012 2000 6855 15774 2000 1996 3671 6897 2535 1997 1040 8737 2243 1999 12562 10163 2188 28696 6190 1010 2057 2031 4102 1996 8345 1031 6187 2475 1009 1033 1045 1010 1996 22261 1998 4338 1997 102\n",
      "[NeMo I 2021-08-07 12:29:23 text_classification_dataset:242] segment_ids: 0 0 0 0 0 0 0 0 0 0 0 0 0 0 0 0 0 0 0 0 0 0 0 0 0 0 0 0 0 0 0 0 0 0 0 0 0 0 0 0 0 0 0 0 0 0 0 0 0 0 0 0 0 0 0 0 0 0 0 0 0 0 0 0 0 0 0 0 0 0 0 0 0 0 0 0 0 0 0 0 0 0 0 0 0 0 0 0 0 0 0 0 0 0 0 0 0 0 0 0 0 0 0 0 0 0 0 0 0 0 0 0 0 0 0 0 0 0 0 0 0 0 0 0 0 0 0 0 0\n",
      "[NeMo I 2021-08-07 12:29:23 text_classification_dataset:243] input_mask: 1 1 1 1 1 1 1 1 1 1 1 1 1 1 1 1 1 1 1 1 1 1 1 1 1 1 1 1 1 1 1 1 1 1 1 1 1 1 1 1 1 1 1 1 1 1 1 1 1 1 1 1 1 1 1 1 1 1 1 1 1 1 1 1 1 1 1 1 1 1 1 1 1 1 1 1 1 1 1 1 1 1 1 1 1 1 1 1 1 1 1 1 1 1 1 1 1 1 1 1 1 1 1 1 1 1 1 1 1 1 1 1 1 1 1 1 1 1 1 1 1 1 1 1 1 1 1 1 1\n",
      "[NeMo I 2021-08-07 12:29:23 text_classification_dataset:244] label: 1\n"
     ]
    },
    {
     "name": "stderr",
     "output_type": "stream",
     "text": [
      "[NeMo W 2021-08-07 12:29:23 text_classification_dataset:250] Found 10 out of 10 sentences with more than 128 subtokens. Truncated long sentences from the end.\n"
     ]
    },
    {
     "name": "stdout",
     "output_type": "stream",
     "text": [
      "[NeMo I 2021-08-07 12:29:23 data_preprocessing:299] Some stats of the lengths of the sequences:\n",
      "[NeMo I 2021-08-07 12:29:23 data_preprocessing:301] Min: 129 |                  Max: 129 |                  Mean: 129.0 |                  Median: 129.0\n",
      "[NeMo I 2021-08-07 12:29:23 data_preprocessing:307] 75 percentile: 129.00\n",
      "[NeMo I 2021-08-07 12:29:23 data_preprocessing:308] 99 percentile: 129.00\n"
     ]
    },
    {
     "name": "stderr",
     "output_type": "stream",
     "text": [
      "[NeMo W 2021-08-07 12:29:23 modelPT:197] You tried to register an artifact under config key=tokenizer.vocab_file but an artifact forit has already been registered.\n",
      "[NeMo W 2021-08-07 12:29:23 nemo_logging:349] /opt/conda/lib/python3.8/site-packages/nemo/core/classes/modelPT.py:243: UserWarning: update_node() is deprecated, use OmegaConf.update(). (Since 2.0)\n",
      "      self.cfg.update_node(config_path, return_path)\n",
      "    \n",
      "Some weights of the model checkpoint at bert-base-uncased were not used when initializing BertModel: ['cls.predictions.transform.dense.bias', 'cls.predictions.transform.LayerNorm.bias', 'cls.seq_relationship.weight', 'cls.seq_relationship.bias', 'cls.predictions.transform.dense.weight', 'cls.predictions.decoder.weight', 'cls.predictions.bias', 'cls.predictions.transform.LayerNorm.weight']\n",
      "- This IS expected if you are initializing BertModel from the checkpoint of a model trained on another task or with another architecture (e.g. initializing a BertForSequenceClassification model from a BertForPreTraining model).\n",
      "- This IS NOT expected if you are initializing BertModel from the checkpoint of a model that you expect to be exactly identical (initializing a BertForSequenceClassification model from a BertForSequenceClassification model).\n",
      "Some weights of the model checkpoint at bert-base-uncased were not used when initializing BertEncoder: ['cls.predictions.transform.dense.bias', 'cls.predictions.transform.LayerNorm.bias', 'cls.seq_relationship.weight', 'cls.seq_relationship.bias', 'cls.predictions.transform.dense.weight', 'cls.predictions.decoder.weight', 'cls.predictions.bias', 'cls.predictions.transform.LayerNorm.weight']\n",
      "- This IS expected if you are initializing BertEncoder from the checkpoint of a model trained on another task or with another architecture (e.g. initializing a BertForSequenceClassification model from a BertForPreTraining model).\n",
      "- This IS NOT expected if you are initializing BertEncoder from the checkpoint of a model that you expect to be exactly identical (initializing a BertForSequenceClassification model from a BertForSequenceClassification model).\n"
     ]
    }
   ],
   "source": [
    "# Instantiate the model \n",
    "model = nemo_nlp.models.TextClassificationModel(config.model, trainer=trainer)"
   ]
  },
  {
   "cell_type": "code",
   "execution_count": 5,
   "metadata": {
    "scrolled": true,
    "tags": []
   },
   "outputs": [
    {
     "name": "stderr",
     "output_type": "stream",
     "text": [
      "LOCAL_RANK: 0 - CUDA_VISIBLE_DEVICES: [0]\n"
     ]
    },
    {
     "name": "stdout",
     "output_type": "stream",
     "text": [
      "[NeMo I 2021-08-07 12:29:27 modelPT:748] Optimizer config = Adam (\n",
      "    Parameter Group 0\n",
      "        amsgrad: False\n",
      "        betas: [0.9, 0.999]\n",
      "        eps: 1e-08\n",
      "        lr: 5e-05\n",
      "        weight_decay: 0.01\n",
      "    )\n",
      "[NeMo I 2021-08-07 12:29:27 lr_scheduler:617] Scheduler \"<nemo.core.optim.lr_scheduler.WarmupAnnealing object at 0x7fc851a0f400>\" \n",
      "    will be used during training (effective maximum steps = 55) - \n",
      "    Parameters : \n",
      "    (warmup_steps: null\n",
      "    warmup_ratio: 0.1\n",
      "    last_epoch: -1\n",
      "    max_steps: 55\n",
      "    )\n"
     ]
    },
    {
     "name": "stderr",
     "output_type": "stream",
     "text": [
      "initializing ddp: GLOBAL_RANK: 0, MEMBER: 1/1\n",
      "\n",
      "  | Name                  | Type                 | Params\n",
      "---------------------------------------------------------------\n",
      "0 | loss                  | CrossEntropyLoss     | 0     \n",
      "1 | bert_model            | BertEncoder          | 109 M \n",
      "2 | classifier            | SequenceClassifier   | 592 K \n",
      "3 | classification_report | ClassificationReport | 0     \n",
      "---------------------------------------------------------------\n",
      "110 M     Trainable params\n",
      "0         Non-trainable params\n",
      "110 M     Total params\n",
      "440.301   Total estimated model params size (MB)\n"
     ]
    },
    {
     "data": {
      "application/vnd.jupyter.widget-view+json": {
       "model_id": "26b20be689a74d4bbf45d1ca7f156ddc",
       "version_major": 2,
       "version_minor": 0
      },
      "text/plain": [
       "Training: 0it [00:00, ?it/s]"
      ]
     },
     "metadata": {},
     "output_type": "display_data"
    },
    {
     "data": {
      "application/vnd.jupyter.widget-view+json": {
       "model_id": "",
       "version_major": 2,
       "version_minor": 0
      },
      "text/plain": [
       "Validating: 0it [00:00, ?it/s]"
      ]
     },
     "metadata": {},
     "output_type": "display_data"
    },
    {
     "name": "stdout",
     "output_type": "stream",
     "text": [
      "[NeMo I 2021-08-07 12:29:32 text_classification_model:165] val_report: \n",
      "    label                                                precision    recall       f1           support   \n",
      "    label_id: 0                                              0.00       0.00       0.00         32\n",
      "    label_id: 1                                              0.00       0.00       0.00         24\n",
      "    label_id: 2                                             44.00     100.00      61.11         44\n",
      "    -------------------\n",
      "    micro avg                                               44.00      44.00      44.00        100\n",
      "    macro avg                                               14.67      33.33      20.37        100\n",
      "    weighted avg                                            19.36      44.00      26.89        100\n",
      "    \n"
     ]
    },
    {
     "name": "stderr",
     "output_type": "stream",
     "text": [
      "Epoch 0, global step 10: val_loss reached 1.13643 (best 1.13643), saving model to \"/dli/task/nemo_experiments/TextClassification/2021-08-07_12-29-06/checkpoints/TextClassification--val_loss=1.14-epoch=0.ckpt\" as top 3\n"
     ]
    },
    {
     "data": {
      "application/vnd.jupyter.widget-view+json": {
       "model_id": "",
       "version_major": 2,
       "version_minor": 0
      },
      "text/plain": [
       "Validating: 0it [00:00, ?it/s]"
      ]
     },
     "metadata": {},
     "output_type": "display_data"
    },
    {
     "name": "stdout",
     "output_type": "stream",
     "text": [
      "[NeMo I 2021-08-07 12:29:41 text_classification_model:165] val_report: \n",
      "    label                                                precision    recall       f1           support   \n",
      "    label_id: 0                                            100.00      84.38      91.53         32\n",
      "    label_id: 1                                              0.00       0.00       0.00         24\n",
      "    label_id: 2                                             60.27     100.00      75.21         44\n",
      "    -------------------\n",
      "    micro avg                                               71.00      71.00      71.00        100\n",
      "    macro avg                                               53.42      61.46      55.58        100\n",
      "    weighted avg                                            58.52      71.00      62.38        100\n",
      "    \n"
     ]
    },
    {
     "name": "stderr",
     "output_type": "stream",
     "text": [
      "Epoch 1, global step 21: val_loss reached 0.84732 (best 0.84732), saving model to \"/dli/task/nemo_experiments/TextClassification/2021-08-07_12-29-06/checkpoints/TextClassification--val_loss=0.85-epoch=1.ckpt\" as top 3\n"
     ]
    },
    {
     "data": {
      "application/vnd.jupyter.widget-view+json": {
       "model_id": "",
       "version_major": 2,
       "version_minor": 0
      },
      "text/plain": [
       "Validating: 0it [00:00, ?it/s]"
      ]
     },
     "metadata": {},
     "output_type": "display_data"
    },
    {
     "name": "stdout",
     "output_type": "stream",
     "text": [
      "[NeMo I 2021-08-07 12:29:51 text_classification_model:165] val_report: \n",
      "    label                                                precision    recall       f1           support   \n",
      "    label_id: 0                                             87.50      87.50      87.50         32\n",
      "    label_id: 1                                             77.78      58.33      66.67         24\n",
      "    label_id: 2                                             78.00      88.64      82.98         44\n",
      "    -------------------\n",
      "    micro avg                                               81.00      81.00      81.00        100\n",
      "    macro avg                                               81.09      78.16      79.05        100\n",
      "    weighted avg                                            80.99      81.00      80.51        100\n",
      "    \n"
     ]
    },
    {
     "name": "stderr",
     "output_type": "stream",
     "text": [
      "Epoch 2, global step 32: val_loss reached 0.64382 (best 0.64382), saving model to \"/dli/task/nemo_experiments/TextClassification/2021-08-07_12-29-06/checkpoints/TextClassification--val_loss=0.64-epoch=2.ckpt\" as top 3\n"
     ]
    },
    {
     "data": {
      "application/vnd.jupyter.widget-view+json": {
       "model_id": "",
       "version_major": 2,
       "version_minor": 0
      },
      "text/plain": [
       "Validating: 0it [00:00, ?it/s]"
      ]
     },
     "metadata": {},
     "output_type": "display_data"
    },
    {
     "name": "stdout",
     "output_type": "stream",
     "text": [
      "[NeMo I 2021-08-07 12:30:00 text_classification_model:165] val_report: \n",
      "    label                                                precision    recall       f1           support   \n",
      "    label_id: 0                                             87.88      90.62      89.23         32\n",
      "    label_id: 1                                             78.26      75.00      76.60         24\n",
      "    label_id: 2                                             86.36      86.36      86.36         44\n",
      "    -------------------\n",
      "    micro avg                                               85.00      85.00      85.00        100\n",
      "    macro avg                                               84.17      84.00      84.06        100\n",
      "    weighted avg                                            84.90      85.00      84.94        100\n",
      "    \n"
     ]
    },
    {
     "name": "stderr",
     "output_type": "stream",
     "text": [
      "Epoch 3, global step 43: val_loss reached 0.54127 (best 0.54127), saving model to \"/dli/task/nemo_experiments/TextClassification/2021-08-07_12-29-06/checkpoints/TextClassification--val_loss=0.54-epoch=3.ckpt\" as top 3\n"
     ]
    },
    {
     "data": {
      "application/vnd.jupyter.widget-view+json": {
       "model_id": "",
       "version_major": 2,
       "version_minor": 0
      },
      "text/plain": [
       "Validating: 0it [00:00, ?it/s]"
      ]
     },
     "metadata": {},
     "output_type": "display_data"
    },
    {
     "name": "stdout",
     "output_type": "stream",
     "text": [
      "[NeMo I 2021-08-07 12:30:13 text_classification_model:165] val_report: \n",
      "    label                                                precision    recall       f1           support   \n",
      "    label_id: 0                                             87.88      90.62      89.23         32\n",
      "    label_id: 1                                             81.82      75.00      78.26         24\n",
      "    label_id: 2                                             86.67      88.64      87.64         44\n",
      "    -------------------\n",
      "    micro avg                                               86.00      86.00      86.00        100\n",
      "    macro avg                                               85.45      84.75      85.04        100\n",
      "    weighted avg                                            85.89      86.00      85.90        100\n",
      "    \n"
     ]
    },
    {
     "name": "stderr",
     "output_type": "stream",
     "text": [
      "Epoch 4, global step 54: val_loss reached 0.49998 (best 0.49998), saving model to \"/dli/task/nemo_experiments/TextClassification/2021-08-07_12-29-06/checkpoints/TextClassification--val_loss=0.50-epoch=4.ckpt\" as top 3\n",
      "Saving latest checkpoint...\n",
      "[NeMo W 2021-08-07 12:30:20 nemo_logging:349] /opt/conda/lib/python3.8/site-packages/nemo/core/classes/modelPT.py:308: UserWarning: update_node() is deprecated, use OmegaConf.update(). (Since 2.0)\n",
      "      conf.update_node(conf_path, item.path)\n",
      "    \n"
     ]
    },
    {
     "name": "stdout",
     "output_type": "stream",
     "text": [
      "CPU times: user 1min 10s, sys: 28.9 s, total: 1min 39s\n",
      "Wall time: 1min 43s\n"
     ]
    }
   ],
   "source": [
    "%%time\n",
    "# start model training and save result\n",
    "# The training takes about 2 minutes to run\n",
    "trainer.fit(model)\n",
    "model.save_to(config.model.nemo_path)"
   ]
  },
  {
   "cell_type": "markdown",
   "metadata": {},
   "source": [
    "Evaluate the model with `trainer.test`, which will automatically use the file path to the test set we updated in `config`."
   ]
  },
  {
   "cell_type": "code",
   "execution_count": 6,
   "metadata": {},
   "outputs": [
    {
     "name": "stderr",
     "output_type": "stream",
     "text": [
      "LOCAL_RANK: 0 - CUDA_VISIBLE_DEVICES: [0]\n"
     ]
    },
    {
     "data": {
      "application/vnd.jupyter.widget-view+json": {
       "model_id": "ada91f339adf4eb0b03a8e6f1552066a",
       "version_major": 2,
       "version_minor": 0
      },
      "text/plain": [
       "Testing: 0it [00:00, ?it/s]"
      ]
     },
     "metadata": {},
     "output_type": "display_data"
    },
    {
     "name": "stdout",
     "output_type": "stream",
     "text": [
      "[NeMo I 2021-08-07 12:31:11 text_classification_model:165] test_report: \n",
      "    label                                                precision    recall       f1           support   \n",
      "    label_id: 0                                             75.00      75.00      75.00          4\n",
      "    label_id: 1                                            100.00     100.00     100.00          2\n",
      "    label_id: 2                                             75.00      75.00      75.00          4\n",
      "    -------------------\n",
      "    micro avg                                               80.00      80.00      80.00         10\n",
      "    macro avg                                               83.33      83.33      83.33         10\n",
      "    weighted avg                                            80.00      80.00      80.00         10\n",
      "    \n"
     ]
    },
    {
     "data": {
      "text/plain": [
       "[{'test_loss': 0.673076331615448,\n",
       "  'test_precision': 79.99999237060547,\n",
       "  'test_f1': 79.99999237060547,\n",
       "  'test_recall': 79.99999237060547}]"
      ]
     },
     "execution_count": 6,
     "metadata": {},
     "output_type": "execute_result"
    }
   ],
   "source": [
    "trainer.test(model=model, verbose=False)"
   ]
  },
  {
   "cell_type": "markdown",
   "metadata": {},
   "source": [
    "Finally, run inference using the inference samples from `config`. We can check on them by just printing directly from the `config.model.infer_samples` key object.  It displays as a list of strings.\n",
    "\n",
    "To run inference tor text classification, use the `model.classifytext` method.  The inferred labels are output."
   ]
  },
  {
   "cell_type": "code",
   "execution_count": 7,
   "metadata": {
    "tags": []
   },
   "outputs": [
    {
     "name": "stdout",
     "output_type": "stream",
     "text": [
      "['Germline mutations in BRCA1 are responsible for most cases of inherited breast and ovarian cancer ', 'The first predictive testing for Huntington disease  was based on analysis of linked polymorphic DNA markers to estimate the likelihood of inheriting the mutation for HD', 'Further studies suggested that low dilutions of C5D serum contain a factor or factors interfering at some step in the hemolytic assay of C5 rather than a true C5 inhibitor or inactivator']\n"
     ]
    }
   ],
   "source": [
    "print(config.model.infer_samples)"
   ]
  },
  {
   "cell_type": "code",
   "execution_count": 8,
   "metadata": {},
   "outputs": [
    {
     "data": {
      "text/plain": [
       "[0, 1, 2]"
      ]
     },
     "execution_count": 8,
     "metadata": {},
     "output_type": "execute_result"
    }
   ],
   "source": [
    "model.classifytext(queries=config.model.infer_samples, batch_size=64, max_seq_length=128)"
   ]
  },
  {
   "cell_type": "markdown",
   "metadata": {},
   "source": [
    "## 2.3.3 Exercise: Query the Model\n",
    "What if we wanted to specify additional queries for inference?  The `model.classifytext` method we just used specifies the queries, but they do not _have_ to be in the config file.  We can simply create a list of strings for our queries."
   ]
  },
  {
   "cell_type": "code",
   "execution_count": 9,
   "metadata": {},
   "outputs": [],
   "source": [
    "my_queries = [\n",
    "    'Clustering of missense mutations in the ataxia-telangiectasia gene in a sporadic T-cell leukaemia',\n",
    "    'Myotonic dystrophy protein kinase is involved in the modulation of the Ca2+ homeostasis in skeletal muscle cells.',\n",
    "    'Constitutional RB1-gene mutations in patients with isolated unilateral retinoblastoma.',\n",
    "    'Hereditary deficiency of the fifth component of complement in man. I. Clinical, immunochemical, and family studies.'\n",
    "]"
   ]
  },
  {
   "cell_type": "markdown",
   "metadata": {},
   "source": [
    "Run inference on the `my_queries` list.  If you get stuck, refer to the [solution](solutions/ex2.3.3.ipynb)"
   ]
  },
  {
   "cell_type": "code",
   "execution_count": 10,
   "metadata": {},
   "outputs": [
    {
     "data": {
      "text/plain": [
       "[2, 1, 2, 2]"
      ]
     },
     "execution_count": 10,
     "metadata": {},
     "output_type": "execute_result"
    }
   ],
   "source": [
    "# TODO Run inference over the my_queries list\n",
    "model.classifytext(queries=my_queries, batch_size=16, max_seq_length=64)"
   ]
  },
  {
   "cell_type": "markdown",
   "metadata": {},
   "source": [
    "---\n",
    "<h2 style=\"color:green;\">Congratulations!</h2>\n",
    "\n",
    "You've built a text classifier with three classes and learned:\n",
    "* How to use NeMo NLP model config files and scripts to quickly create experiments\n",
    "* How to override the config `model`, `trainer`, and `exp_manager settings`\n",
    "* How to train, evaluate, and infer a text classifier using a single command line\n",
    "* How to train, evaluate, and infer a text classifier using PyTorch Lightning\n",
    "\n",
    "You're ready to try a different NLP task.<br>\n",
    "\n",
    "Move on to [3.0 Build a Named Entity Recognizer](030_NamedEntityRecognition.ipynb)."
   ]
  },
  {
   "cell_type": "markdown",
   "metadata": {},
   "source": [
    "<a href=\"https://www.nvidia.com/dli\"> <img src=\"images/DLI_Header.png\" alt=\"Header\" style=\"width: 400px;\"/> </a>"
   ]
  }
 ],
 "metadata": {
  "kernelspec": {
   "display_name": "Python 3",
   "language": "python",
   "name": "python3"
  },
  "language_info": {
   "codemirror_mode": {
    "name": "ipython",
    "version": 3
   },
   "file_extension": ".py",
   "mimetype": "text/x-python",
   "name": "python",
   "nbconvert_exporter": "python",
   "pygments_lexer": "ipython3",
   "version": "3.8.8"
  }
 },
 "nbformat": 4,
 "nbformat_minor": 4
}
